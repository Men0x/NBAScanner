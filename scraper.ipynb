{
 "metadata": {
  "language_info": {
   "codemirror_mode": {
    "name": "ipython",
    "version": 3
   },
   "file_extension": ".py",
   "mimetype": "text/x-python",
   "name": "python",
   "nbconvert_exporter": "python",
   "pygments_lexer": "ipython3",
   "version": "3.8.5-final"
  },
  "orig_nbformat": 2,
  "kernelspec": {
   "name": "python3",
   "display_name": "Python 3.8.5 64-bit ('nbascraper': conda)",
   "metadata": {
    "interpreter": {
     "hash": "b974ad8f5b3bbd71c4d67f66c6b00eca5c0f96cbd7fedeff399dcd1c004def3f"
    }
   }
  }
 },
 "nbformat": 4,
 "nbformat_minor": 2,
 "cells": [
  {
   "cell_type": "code",
   "execution_count": 1,
   "metadata": {},
   "outputs": [],
   "source": [
    "def returnmove(a):\n",
    "    if \"3 Pointer\" in a: return \"3 Pointer\"\n",
    "    if \"Dunk\" in a: return \"Dunk\"\n",
    "    if \"Jump Shot\" in a: return \"Jump Shot\"\n",
    "    if \"Block\" in a: return \"Block\"\n",
    "    if \"Assist\" in a: return \"Assist\"\n",
    "    if \"Layup\" in a: return \"Layup\"\n",
    "    if \"Steal\" in a: return \"Steal\"\n",
    "    if \"Handles\" in a: return \"Handles\"\n",
    "\n",
    "def returnset(a):\n",
    "    #LEGENDARY\n",
    "    if \"2020 NBA Finals\" in a: return \"2020 NBA Finals\"\n",
    "    if \"Cosmic\" in a: return \"Cosmic\"\n",
    "    if \"Deck the Hoops\" in a: return \"Deck the Hoops\"\n",
    "    if \"From the Top\" in a: return \"From the Top\"\n",
    "    if \"Holo MMXX\" in a: return \"Holo MMXX\"\n",
    "    if \"Lace 'Em Up\" in a: return \"Lace 'Em Up\"\n",
    "\n",
    "    #RARE\n",
    "    if \"Conference Semifinals\" in a: return \"Conference Semifinals\"\n",
    "    if \"Denied!\" in a: return \"Denied!\"\n",
    "    if \"Eastern Conference Finals\" in a: return \"Eastern Conference Finals\"\n",
    "    if \"First Round\" in a: return \"First Round\"\n",
    "    if \"Metallic Gold LE\" in a: return \"Metallic Gold LE\"\n",
    "    if \"MVP Moves\" in a: return \"MVP Moves\"\n",
    "    if \"Rookie Debut\" in a: return \"Rookie Debut\"\n",
    "    if \"Run It Back\" in a: return \"Run It Back\"\n",
    "    if \"Season Tip-off\" in a: return \"Season Tip-off\"\n",
    "    if \"So Fresh\" in a: return \"So Fresh\"\n",
    "    if \"The Finals\" in a: return \"The Finals\"\n",
    "    if \"Throwdowns\" in a: return \"Throwdowns\"\n",
    "    if \"Western Conference Finals\" in a: return \"Western Conference Finals\"\n",
    "    if \"With the Strip\" in a: return \"With the Strip\"\n",
    "    \n",
    "    #COMMON\n",
    "    if \"Base Set\" in a: return \"Base Set\"\n",
    "    if \"Cool Cats\" in a: return \"Cool Cats\"\n",
    "    if \"Early Adopters\" in a: return \"Early Adopters\"\n",
    "    if \"Got Game\" in a: return \"Got Game\"\n",
    "    if \"Hometown Showdown: Cali vs. NY\" in a: return \"Hometown Showdown: Cali vs. NY\"\n",
    "\n",
    "def returnserie(a):\n",
    "    if \"Series 1\" in a: return 1\n",
    "    if \"Series 2\" in a: return 2"
   ]
  },
  {
   "cell_type": "code",
   "execution_count": 3,
   "metadata": {},
   "outputs": [
    {
     "output_type": "stream",
     "name": "stdout",
     "text": [
      "oui\n"
     ]
    }
   ],
   "source": [
    "def abc():\n",
    "    print('oui')\n",
    "    return 1\n",
    "\n",
    "a = abc()"
   ]
  },
  {
   "cell_type": "code",
   "execution_count": 2,
   "metadata": {},
   "outputs": [],
   "source": [
    "import numpy as np\n",
    "from bs4 import BeautifulSoup\n",
    "import pandas as pd\n",
    "from selenium import webdriver\n",
    "from selenium.webdriver.chrome.options import Options\n",
    "from selenium.webdriver.common.by import By\n",
    "from selenium.webdriver.support import expected_conditions as EC\n",
    "from selenium.webdriver.common.keys import Keys\n",
    "from selenium.webdriver.support.ui import WebDriverWait\n",
    "from selenium.webdriver.support.expected_conditions import presence_of_element_located\n",
    "from selenium.common.exceptions import TimeoutException\n",
    "import time\n",
    "import sys\n",
    "import chromedriver_binary\n",
    "import re\n",
    "import os\n",
    "import discord\n",
    "from dotenv import load_dotenv\n",
    "import webbrowser"
   ]
  },
  {
   "cell_type": "code",
   "execution_count": 3,
   "metadata": {},
   "outputs": [],
   "source": [
    "chrome_driver_path = 'C:/Users/33679/TopShot_scraper/chromedriver.exe'\n",
    "\n",
    "chrome_options = Options()\n",
    "chrome_options.add_argument('--headless')\n",
    "driver = webdriver.Chrome(\n",
    "  executable_path=chrome_driver_path, options=chrome_options\n",
    ")"
   ]
  },
  {
   "cell_type": "code",
   "execution_count": 4,
   "metadata": {},
   "outputs": [],
   "source": [
    "url = 'https://www.nbatopshot.com/search?bySets=12a8288a-addc-4e5c-8af7-b3ba6e5161d4&orderBy=PRICE_USD_ASC'\n",
    "\n",
    "driver.get(url)\n",
    "time.sleep(2)\n",
    "driver.execute_script(\"window.scrollTo(0, 20000)\")\n",
    "time.sleep(2)"
   ]
  },
  {
   "cell_type": "code",
   "execution_count": 72,
   "metadata": {},
   "outputs": [
    {
     "output_type": "execute_result",
     "data": {
      "text/plain": [
       "int"
      ]
     },
     "metadata": {},
     "execution_count": 72
    }
   ],
   "source": []
  },
  {
   "cell_type": "code",
   "execution_count": 5,
   "metadata": {},
   "outputs": [],
   "source": [
    "soup = BeautifulSoup(driver.page_source, 'html.parser')\n",
    "\n",
    "#print(soup.prettify())\n",
    "\n",
    "#l = soup.find_all(\"div\", {\"class\": \"TextContainer__StyledTextContainer-qfpzkm-0 xDxPM MomentThumbnail__StyledTextContainer-sc-1b051xk-2 eKGBha\"})\n",
    "#l = soup.find_all(\"div\", {\"class\": re.compile(\"^TextContainer__StyledTextContainer\")})\n",
    "l = soup.find_all(\"a\", {\"href\": re.compile(\"^/listings/\")})"
   ]
  },
  {
   "cell_type": "code",
   "execution_count": 6,
   "metadata": {},
   "outputs": [],
   "source": [
    "listings = pd.DataFrame(columns=['player', 'lowest', 'var', 'move', 'set', 'serie'])\n",
    "\n",
    "#nameregex = '<h3 class=\"Title__StyledTitle-vk55y-0 kUfGiv MomentThumbnail__StyledTitle-sc-1b051xk-3 cVTCXt\">(.*?)</h3>'\n",
    "#priceregex = '<div class=\"Price__PriceWrapper-sc-14mok7p-2 JKBnr\">USD \\$(.*?)\\.00</div>'\n",
    "#fullregex = '<p class=\"Description__StyledDescription-uunwk3-0 kinrOa MomentThumbnail__StyledDescription-sc-1b051xk-4 bhZKXY\">(.*?)</p>'\n",
    "\n",
    "#nameregex = '(?<=>)[^\\]<+'\n",
    "#priceregex = '(?<=>)[^\\]<+'\n",
    "#fullregex = '(?<=>)[^\\]<+'\n",
    "\n",
    "i = 0\n",
    "\n",
    "for i in range(len(l)):\n",
    "\n",
    "    #name = str(BeautifulSoup(str(l[i]), \"html.parser\").find_all(\"h3\", {\"class\": \"Title__StyledTitle-vk55y-0 kUfGiv MomentThumbnail__StyledTitle-sc-1b051xk-3 cVTCXt\"}))\n",
    "    #price = str(BeautifulSoup(str(l[i]), \"html.parser\").find_all(\"div\", {\"class\": \"Price__PriceWrapper-sc-14mok7p-2 JKBnr\"}))\n",
    "    #full = str(BeautifulSoup(str(l[i]), \"html.parser\").find_all(\"p\", {\"class\": \"Description__StyledDescription-uunwk3-0 kinrOa MomentThumbnail__StyledDescription-sc-1b051xk-4 bhZKXY\"}))\n",
    "    \n",
    "    name = BeautifulSoup(str(l[i]), \"html.parser\").find(\"h3\", {\"class\": re.compile(\"^Title__StyledTitle\")})\n",
    "    price = BeautifulSoup(str(l[i]), \"html.parser\").find(\"div\", {\"class\": re.compile(\"^Price__PriceWrapper\")})\n",
    "    full = BeautifulSoup(str(l[i]), \"html.parser\").find(\"p\", {\"class\": re.compile(\"^Description__StyledDescription\")})\n",
    "\n",
    "    name = name.text\n",
    "    price = int(str(price.text)[5:len(str(price.text))-3])\n",
    "    full = full.text\n",
    "\n",
    "    #name = re.search(nameregex, name).group(1)\n",
    "    #price = int(re.search(priceregex, price).group(1))\n",
    "    #full = re.search(fullregex, full).group(1)\n",
    "    move = returnmove(full)\n",
    "    theset = returnset(full)\n",
    "    serie = returnserie(full)\n",
    "\n",
    "    new_row = pd.DataFrame([[name, price, 0, move, theset, serie]], columns=['player', 'lowest', 'var', 'move', 'set', 'serie'])\n",
    "\n",
    "    listings = listings.append(new_row)\n",
    "\n",
    "listings = listings.reset_index(drop=True)"
   ]
  },
  {
   "cell_type": "code",
   "execution_count": 7,
   "metadata": {},
   "outputs": [
    {
     "output_type": "execute_result",
     "data": {
      "text/plain": [
       "               player lowest var       move               set serie\n",
       "0        Nerlens Noel    174   0       Dunk  Metallic Gold LE     1\n",
       "1         George Hill    179   0      Steal  Metallic Gold LE     1\n",
       "2    Tomáš Satoranský    179   0       Dunk  Metallic Gold LE     1\n",
       "3       Jalen Brunson    180   0  3 Pointer  Metallic Gold LE     1\n",
       "4           Ish Smith    182   0      Steal  Metallic Gold LE     1\n",
       "5         Luke Kornet    190   0       Dunk  Metallic Gold LE     1\n",
       "6           Josh Hart    190   0      Layup  Metallic Gold LE     1\n",
       "7        Jakob Poeltl    190   0      Block  Metallic Gold LE     1\n",
       "8       Dāvis Bertāns    195   0  3 Pointer  Metallic Gold LE     1\n",
       "9    Patrick Beverley    195   0  3 Pointer  Metallic Gold LE     1\n",
       "10   Dennis Smith Jr.    196   0    Handles  Metallic Gold LE     1\n",
       "11        Bruce Brown    197   0       Dunk  Metallic Gold LE     1\n",
       "12           Rudy Gay    198   0       Dunk  Metallic Gold LE     1\n",
       "13         Tyus Jones    199   0     Assist  Metallic Gold LE     1\n",
       "14        Enes Kanter    199   0      Steal  Metallic Gold LE     1\n",
       "15  Langston Galloway    199   0  Jump Shot  Metallic Gold LE     1\n",
       "16        Brook Lopez    200   0     Assist  Metallic Gold LE     1\n",
       "17       Trevor Ariza    200   0       Dunk  Metallic Gold LE     1\n",
       "18    Bismack Biyombo    200   0       Dunk  Metallic Gold LE     1\n",
       "19        Eric Gordon    205   0       Dunk  Metallic Gold LE     1\n",
       "20   Danuel House Jr.    209   0       Dunk  Metallic Gold LE     1\n",
       "21      Austin Rivers    211   0    Handles  Metallic Gold LE     1\n",
       "22      Dillon Brooks    215   0     Assist  Metallic Gold LE     1\n",
       "23    Nemanja Bjelica    218   0  3 Pointer  Metallic Gold LE     1"
      ],
      "text/html": "<div>\n<style scoped>\n    .dataframe tbody tr th:only-of-type {\n        vertical-align: middle;\n    }\n\n    .dataframe tbody tr th {\n        vertical-align: top;\n    }\n\n    .dataframe thead th {\n        text-align: right;\n    }\n</style>\n<table border=\"1\" class=\"dataframe\">\n  <thead>\n    <tr style=\"text-align: right;\">\n      <th></th>\n      <th>player</th>\n      <th>lowest</th>\n      <th>var</th>\n      <th>move</th>\n      <th>set</th>\n      <th>serie</th>\n    </tr>\n  </thead>\n  <tbody>\n    <tr>\n      <th>0</th>\n      <td>Nerlens Noel</td>\n      <td>174</td>\n      <td>0</td>\n      <td>Dunk</td>\n      <td>Metallic Gold LE</td>\n      <td>1</td>\n    </tr>\n    <tr>\n      <th>1</th>\n      <td>George Hill</td>\n      <td>179</td>\n      <td>0</td>\n      <td>Steal</td>\n      <td>Metallic Gold LE</td>\n      <td>1</td>\n    </tr>\n    <tr>\n      <th>2</th>\n      <td>Tomáš Satoranský</td>\n      <td>179</td>\n      <td>0</td>\n      <td>Dunk</td>\n      <td>Metallic Gold LE</td>\n      <td>1</td>\n    </tr>\n    <tr>\n      <th>3</th>\n      <td>Jalen Brunson</td>\n      <td>180</td>\n      <td>0</td>\n      <td>3 Pointer</td>\n      <td>Metallic Gold LE</td>\n      <td>1</td>\n    </tr>\n    <tr>\n      <th>4</th>\n      <td>Ish Smith</td>\n      <td>182</td>\n      <td>0</td>\n      <td>Steal</td>\n      <td>Metallic Gold LE</td>\n      <td>1</td>\n    </tr>\n    <tr>\n      <th>5</th>\n      <td>Luke Kornet</td>\n      <td>190</td>\n      <td>0</td>\n      <td>Dunk</td>\n      <td>Metallic Gold LE</td>\n      <td>1</td>\n    </tr>\n    <tr>\n      <th>6</th>\n      <td>Josh Hart</td>\n      <td>190</td>\n      <td>0</td>\n      <td>Layup</td>\n      <td>Metallic Gold LE</td>\n      <td>1</td>\n    </tr>\n    <tr>\n      <th>7</th>\n      <td>Jakob Poeltl</td>\n      <td>190</td>\n      <td>0</td>\n      <td>Block</td>\n      <td>Metallic Gold LE</td>\n      <td>1</td>\n    </tr>\n    <tr>\n      <th>8</th>\n      <td>Dāvis Bertāns</td>\n      <td>195</td>\n      <td>0</td>\n      <td>3 Pointer</td>\n      <td>Metallic Gold LE</td>\n      <td>1</td>\n    </tr>\n    <tr>\n      <th>9</th>\n      <td>Patrick Beverley</td>\n      <td>195</td>\n      <td>0</td>\n      <td>3 Pointer</td>\n      <td>Metallic Gold LE</td>\n      <td>1</td>\n    </tr>\n    <tr>\n      <th>10</th>\n      <td>Dennis Smith Jr.</td>\n      <td>196</td>\n      <td>0</td>\n      <td>Handles</td>\n      <td>Metallic Gold LE</td>\n      <td>1</td>\n    </tr>\n    <tr>\n      <th>11</th>\n      <td>Bruce Brown</td>\n      <td>197</td>\n      <td>0</td>\n      <td>Dunk</td>\n      <td>Metallic Gold LE</td>\n      <td>1</td>\n    </tr>\n    <tr>\n      <th>12</th>\n      <td>Rudy Gay</td>\n      <td>198</td>\n      <td>0</td>\n      <td>Dunk</td>\n      <td>Metallic Gold LE</td>\n      <td>1</td>\n    </tr>\n    <tr>\n      <th>13</th>\n      <td>Tyus Jones</td>\n      <td>199</td>\n      <td>0</td>\n      <td>Assist</td>\n      <td>Metallic Gold LE</td>\n      <td>1</td>\n    </tr>\n    <tr>\n      <th>14</th>\n      <td>Enes Kanter</td>\n      <td>199</td>\n      <td>0</td>\n      <td>Steal</td>\n      <td>Metallic Gold LE</td>\n      <td>1</td>\n    </tr>\n    <tr>\n      <th>15</th>\n      <td>Langston Galloway</td>\n      <td>199</td>\n      <td>0</td>\n      <td>Jump Shot</td>\n      <td>Metallic Gold LE</td>\n      <td>1</td>\n    </tr>\n    <tr>\n      <th>16</th>\n      <td>Brook Lopez</td>\n      <td>200</td>\n      <td>0</td>\n      <td>Assist</td>\n      <td>Metallic Gold LE</td>\n      <td>1</td>\n    </tr>\n    <tr>\n      <th>17</th>\n      <td>Trevor Ariza</td>\n      <td>200</td>\n      <td>0</td>\n      <td>Dunk</td>\n      <td>Metallic Gold LE</td>\n      <td>1</td>\n    </tr>\n    <tr>\n      <th>18</th>\n      <td>Bismack Biyombo</td>\n      <td>200</td>\n      <td>0</td>\n      <td>Dunk</td>\n      <td>Metallic Gold LE</td>\n      <td>1</td>\n    </tr>\n    <tr>\n      <th>19</th>\n      <td>Eric Gordon</td>\n      <td>205</td>\n      <td>0</td>\n      <td>Dunk</td>\n      <td>Metallic Gold LE</td>\n      <td>1</td>\n    </tr>\n    <tr>\n      <th>20</th>\n      <td>Danuel House Jr.</td>\n      <td>209</td>\n      <td>0</td>\n      <td>Dunk</td>\n      <td>Metallic Gold LE</td>\n      <td>1</td>\n    </tr>\n    <tr>\n      <th>21</th>\n      <td>Austin Rivers</td>\n      <td>211</td>\n      <td>0</td>\n      <td>Handles</td>\n      <td>Metallic Gold LE</td>\n      <td>1</td>\n    </tr>\n    <tr>\n      <th>22</th>\n      <td>Dillon Brooks</td>\n      <td>215</td>\n      <td>0</td>\n      <td>Assist</td>\n      <td>Metallic Gold LE</td>\n      <td>1</td>\n    </tr>\n    <tr>\n      <th>23</th>\n      <td>Nemanja Bjelica</td>\n      <td>218</td>\n      <td>0</td>\n      <td>3 Pointer</td>\n      <td>Metallic Gold LE</td>\n      <td>1</td>\n    </tr>\n  </tbody>\n</table>\n</div>"
     },
     "metadata": {},
     "execution_count": 7
    }
   ],
   "source": [
    "listings"
   ]
  },
  {
   "cell_type": "code",
   "execution_count": 64,
   "metadata": {},
   "outputs": [
    {
     "output_type": "error",
     "ename": "ValueError",
     "evalue": "The truth value of a DataFrame is ambiguous. Use a.empty, a.bool(), a.item(), a.any() or a.all().",
     "traceback": [
      "\u001b[1;31m---------------------------------------------------------------------------\u001b[0m",
      "\u001b[1;31mValueError\u001b[0m                                Traceback (most recent call last)",
      "\u001b[1;32m<ipython-input-64-147be0a91546>\u001b[0m in \u001b[0;36m<module>\u001b[1;34m\u001b[0m\n\u001b[0;32m      1\u001b[0m \u001b[0mlinks\u001b[0m \u001b[1;33m=\u001b[0m \u001b[1;33m[\u001b[0m\u001b[1;33m]\u001b[0m\u001b[1;33m\u001b[0m\u001b[1;33m\u001b[0m\u001b[0m\n\u001b[1;32m----> 2\u001b[1;33m \u001b[1;32mfor\u001b[0m \u001b[0ma\u001b[0m \u001b[1;32min\u001b[0m \u001b[0msoup\u001b[0m\u001b[1;33m.\u001b[0m\u001b[0mfind_all\u001b[0m\u001b[1;33m(\u001b[0m\u001b[1;34m'a'\u001b[0m\u001b[1;33m,\u001b[0m \u001b[0mhref\u001b[0m\u001b[1;33m=\u001b[0m\u001b[1;32mTrue\u001b[0m\u001b[1;33m)\u001b[0m\u001b[1;33m:\u001b[0m\u001b[1;33m\u001b[0m\u001b[1;33m\u001b[0m\u001b[0m\n\u001b[0m\u001b[0;32m      3\u001b[0m     \u001b[1;32mif\u001b[0m \u001b[1;34m'/listings/'\u001b[0m \u001b[1;32min\u001b[0m \u001b[0ma\u001b[0m\u001b[1;33m[\u001b[0m\u001b[1;34m'href'\u001b[0m\u001b[1;33m]\u001b[0m\u001b[1;33m:\u001b[0m\u001b[1;33m\u001b[0m\u001b[1;33m\u001b[0m\u001b[0m\n\u001b[0;32m      4\u001b[0m         \u001b[0mlinks\u001b[0m\u001b[1;33m.\u001b[0m\u001b[0mappend\u001b[0m\u001b[1;33m(\u001b[0m\u001b[1;34m'https://www.nbatopshot.com'\u001b[0m \u001b[1;33m+\u001b[0m \u001b[0mstr\u001b[0m\u001b[1;33m(\u001b[0m\u001b[0ma\u001b[0m\u001b[1;33m[\u001b[0m\u001b[1;34m'href'\u001b[0m\u001b[1;33m]\u001b[0m\u001b[1;33m)\u001b[0m\u001b[1;33m)\u001b[0m\u001b[1;33m\u001b[0m\u001b[1;33m\u001b[0m\u001b[0m\n\u001b[0;32m      5\u001b[0m \u001b[1;33m\u001b[0m\u001b[0m\n",
      "\u001b[1;32m~\\anaconda3\\envs\\nbascraper\\lib\\site-packages\\bs4\\element.py\u001b[0m in \u001b[0;36mfind_all\u001b[1;34m(self, name, attrs, recursive, text, limit, **kwargs)\u001b[0m\n\u001b[0;32m   1786\u001b[0m         \u001b[1;32mif\u001b[0m \u001b[1;32mnot\u001b[0m \u001b[0mrecursive\u001b[0m\u001b[1;33m:\u001b[0m\u001b[1;33m\u001b[0m\u001b[1;33m\u001b[0m\u001b[0m\n\u001b[0;32m   1787\u001b[0m             \u001b[0mgenerator\u001b[0m \u001b[1;33m=\u001b[0m \u001b[0mself\u001b[0m\u001b[1;33m.\u001b[0m\u001b[0mchildren\u001b[0m\u001b[1;33m\u001b[0m\u001b[1;33m\u001b[0m\u001b[0m\n\u001b[1;32m-> 1788\u001b[1;33m         \u001b[1;32mreturn\u001b[0m \u001b[0mself\u001b[0m\u001b[1;33m.\u001b[0m\u001b[0m_find_all\u001b[0m\u001b[1;33m(\u001b[0m\u001b[0mname\u001b[0m\u001b[1;33m,\u001b[0m \u001b[0mattrs\u001b[0m\u001b[1;33m,\u001b[0m \u001b[0mtext\u001b[0m\u001b[1;33m,\u001b[0m \u001b[0mlimit\u001b[0m\u001b[1;33m,\u001b[0m \u001b[0mgenerator\u001b[0m\u001b[1;33m,\u001b[0m \u001b[1;33m**\u001b[0m\u001b[0mkwargs\u001b[0m\u001b[1;33m)\u001b[0m\u001b[1;33m\u001b[0m\u001b[1;33m\u001b[0m\u001b[0m\n\u001b[0m\u001b[0;32m   1789\u001b[0m     \u001b[0mfindAll\u001b[0m \u001b[1;33m=\u001b[0m \u001b[0mfind_all\u001b[0m       \u001b[1;31m# BS3\u001b[0m\u001b[1;33m\u001b[0m\u001b[1;33m\u001b[0m\u001b[0m\n\u001b[0;32m   1790\u001b[0m     \u001b[0mfindChildren\u001b[0m \u001b[1;33m=\u001b[0m \u001b[0mfind_all\u001b[0m  \u001b[1;31m# BS2\u001b[0m\u001b[1;33m\u001b[0m\u001b[1;33m\u001b[0m\u001b[0m\n",
      "\u001b[1;32m~\\anaconda3\\envs\\nbascraper\\lib\\site-packages\\bs4\\element.py\u001b[0m in \u001b[0;36m_find_all\u001b[1;34m(self, name, attrs, text, limit, generator, **kwargs)\u001b[0m\n\u001b[0;32m    780\u001b[0m             \u001b[1;32mexcept\u001b[0m \u001b[0mStopIteration\u001b[0m\u001b[1;33m:\u001b[0m\u001b[1;33m\u001b[0m\u001b[1;33m\u001b[0m\u001b[0m\n\u001b[0;32m    781\u001b[0m                 \u001b[1;32mbreak\u001b[0m\u001b[1;33m\u001b[0m\u001b[1;33m\u001b[0m\u001b[0m\n\u001b[1;32m--> 782\u001b[1;33m             \u001b[1;32mif\u001b[0m \u001b[0mi\u001b[0m\u001b[1;33m:\u001b[0m\u001b[1;33m\u001b[0m\u001b[1;33m\u001b[0m\u001b[0m\n\u001b[0m\u001b[0;32m    783\u001b[0m                 \u001b[0mfound\u001b[0m \u001b[1;33m=\u001b[0m \u001b[0mstrainer\u001b[0m\u001b[1;33m.\u001b[0m\u001b[0msearch\u001b[0m\u001b[1;33m(\u001b[0m\u001b[0mi\u001b[0m\u001b[1;33m)\u001b[0m\u001b[1;33m\u001b[0m\u001b[1;33m\u001b[0m\u001b[0m\n\u001b[0;32m    784\u001b[0m                 \u001b[1;32mif\u001b[0m \u001b[0mfound\u001b[0m\u001b[1;33m:\u001b[0m\u001b[1;33m\u001b[0m\u001b[1;33m\u001b[0m\u001b[0m\n",
      "\u001b[1;32m~\\anaconda3\\envs\\nbascraper\\lib\\site-packages\\pandas\\core\\generic.py\u001b[0m in \u001b[0;36m__nonzero__\u001b[1;34m(self)\u001b[0m\n\u001b[0;32m   1439\u001b[0m     \u001b[1;33m@\u001b[0m\u001b[0mfinal\u001b[0m\u001b[1;33m\u001b[0m\u001b[1;33m\u001b[0m\u001b[0m\n\u001b[0;32m   1440\u001b[0m     \u001b[1;32mdef\u001b[0m \u001b[0m__nonzero__\u001b[0m\u001b[1;33m(\u001b[0m\u001b[0mself\u001b[0m\u001b[1;33m)\u001b[0m\u001b[1;33m:\u001b[0m\u001b[1;33m\u001b[0m\u001b[1;33m\u001b[0m\u001b[0m\n\u001b[1;32m-> 1441\u001b[1;33m         raise ValueError(\n\u001b[0m\u001b[0;32m   1442\u001b[0m             \u001b[1;34mf\"The truth value of a {type(self).__name__} is ambiguous. \"\u001b[0m\u001b[1;33m\u001b[0m\u001b[1;33m\u001b[0m\u001b[0m\n\u001b[0;32m   1443\u001b[0m             \u001b[1;34m\"Use a.empty, a.bool(), a.item(), a.any() or a.all().\"\u001b[0m\u001b[1;33m\u001b[0m\u001b[1;33m\u001b[0m\u001b[0m\n",
      "\u001b[1;31mValueError\u001b[0m: The truth value of a DataFrame is ambiguous. Use a.empty, a.bool(), a.item(), a.any() or a.all()."
     ]
    }
   ],
   "source": [
    "links = []\n",
    "for a in soup.find_all('a', href=True):\n",
    "    if '/listings/' in a['href']: \n",
    "        links.append('https://www.nbatopshot.com' + str(a['href']))\n",
    "\n",
    "webbrowser.open(links[0])"
   ]
  },
  {
   "cell_type": "code",
   "execution_count": 73,
   "metadata": {},
   "outputs": [
    {
     "output_type": "stream",
     "name": "stdout",
     "text": [
      "(2, 4)\n"
     ]
    }
   ],
   "source": [
    "a = pd.DataFrame([['a', 123, 0.2, 10],['a', 123, 0.2, 10]], columns=['a', 'b', 'c', 'd'])\n",
    "print(a.shape)"
   ]
  },
  {
   "cell_type": "code",
   "execution_count": 61,
   "metadata": {},
   "outputs": [],
   "source": [
    "if a['a'][0] != a['a'][0]:\n",
    "    print('a')"
   ]
  },
  {
   "cell_type": "code",
   "execution_count": 42,
   "metadata": {},
   "outputs": [
    {
     "output_type": "execute_result",
     "data": {
      "text/plain": [
       "'George Hill'"
      ]
     },
     "metadata": {},
     "execution_count": 42
    }
   ],
   "source": [
    "listings.at[1, 'player']"
   ]
  },
  {
   "cell_type": "code",
   "execution_count": 281,
   "metadata": {},
   "outputs": [
    {
     "output_type": "stream",
     "name": "stdout",
     "text": [
      "u=0\nTrue\nFalse\nFalse\nFalse\nFalse\nFalse\nu=1\nTrue\nFalse\nFalse\nFalse\nFalse\nFalse\nFalse\nFalse\nFalse\nFalse\nFalse\nFalse\nu=3\nTrue\nFalse\nFalse\nFalse\nFalse\nFalse\nu=4\nTrue\n"
     ]
    }
   ],
   "source": [
    "for i in range(len(listings)):\n",
    "    for u in range(len(buffer)):\n",
    "        if (listings.drop(columns=['lowest']).loc[i:i,:]).equals(buffer.drop(columns=['lowest']).loc[u:u,:]) == True:\n",
    "            print('u=' + str(u))\n",
    "            print('True')\n",
    "            listings.at[i, 'var'] = listings.at[i, 'lowest'] - buffer.at[u, 'lowest']\n",
    "        else:\n",
    "            print('False')\n",
    "        #print(listings.drop(columns=['lowest']).loc[i:i,:])\n",
    "        #print(buffer.drop(columns=['lowest']).loc[u:u,:])"
   ]
  },
  {
   "cell_type": "code",
   "execution_count": 44,
   "metadata": {},
   "outputs": [
    {
     "output_type": "execute_result",
     "data": {
      "text/plain": [
       "'Derrick Jones Jr.'"
      ]
     },
     "metadata": {},
     "execution_count": 44
    }
   ],
   "source": [
    "\n",
    "listings.drop(columns=['lowest', 'var']).at[1, 'player']"
   ]
  },
  {
   "cell_type": "code",
   "execution_count": 107,
   "metadata": {},
   "outputs": [],
   "source": [
    "soup = BeautifulSoup(driver.page_source, 'html.parser')\n",
    "l = soup.find_all(\"div\", {\"class\": re.compile(\"^TextContainer__StyledTextContainer\")})"
   ]
  },
  {
   "cell_type": "code",
   "execution_count": 54,
   "metadata": {},
   "outputs": [],
   "source": [
    "l2 = soup.find_all(\"a\", {\"href\": re.compile(\"^/listings/\")})"
   ]
  },
  {
   "cell_type": "code",
   "execution_count": 56,
   "metadata": {},
   "outputs": [
    {
     "output_type": "execute_result",
     "data": {
      "text/plain": [
       "<a href=\"/listings/p2p/ad8e85a4-2240-4604-95f6-be826966d988+6fa60eb1-d1c3-4d4c-952c-fde0136e4c83\"><div class=\"Thumbnail__StyledThumbnail-sc-1tojpin-0 kAMKVp\"><div class=\"Image__StyledImageWrapper-jm0vhd-0 cvgQAN MomentThumbnail__StyledImage-sc-1b051xk-0 hcGMXV\"><img alt=\"Tobias Harris\" class=\"Image__StyledImage-jm0vhd-1 crAhYf thumbnail-img\" src=\"https://assets.nbatopshot.com/resize/editions/2_cool_cats_common/6fa60eb1-d1c3-4d4c-952c-fde0136e4c83/play_6fa60eb1-d1c3-4d4c-952c-fde0136e4c83_2_cool_cats_common_capture_Hero_2880_2880_Black.jpg?width=582\"/></div><div class=\"TextContainer__StyledTextContainer-qfpzkm-0 xDxPM MomentThumbnail__StyledTextContainer-sc-1b051xk-2 eKGBha\"><h3 class=\"Title__StyledTitle-vk55y-0 kUfGiv MomentThumbnail__StyledTitle-sc-1b051xk-3 cVTCXt\">Tobias Harris</h3><p class=\"Description__StyledDescription-uunwk3-0 kinrOa MomentThumbnail__StyledDescription-sc-1b051xk-4 bhZKXY\">Dunk - Jan 2 2021, Cool Cats (Series 2), PHI</p><h4 class=\"Subtitle__StyledSubtitle-sc-112br97-0 jNwNYO\"><span class=\"MomentThumbnail__StyledRarityTag-sc-1b051xk-6 dfaslz\">Common</span><span class=\"MomentThumbnail__StyledScarcityTag-sc-1b051xk-5 lgZZBR\">#/5000<span class=\"TextBadge__Badge-sc-1dlfp4g-0 jCkBYg\" currentitem=\"false\" data-tip=\"Limited Edition: Count is final\">LE</span><div class=\"__react_component_tooltip t72b75b0c-cfae-43b9-a382-43660d07d927 place-top type-dark\" data-id=\"tooltip\"><style>\n",
       "  \t.t72b75b0c-cfae-43b9-a382-43660d07d927 {\n",
       "\t    color: #fff;\n",
       "\t    background: #222;\n",
       "\t    border: 1px solid transparent;\n",
       "  \t}\n",
       "\n",
       "  \t.t72b75b0c-cfae-43b9-a382-43660d07d927.place-top {\n",
       "        margin-top: -10px;\n",
       "    }\n",
       "    .t72b75b0c-cfae-43b9-a382-43660d07d927.place-top::before {\n",
       "        border-top: 8px solid transparent;\n",
       "    }\n",
       "    .t72b75b0c-cfae-43b9-a382-43660d07d927.place-top::after {\n",
       "        border-left: 8px solid transparent;\n",
       "        border-right: 8px solid transparent;\n",
       "        bottom: -6px;\n",
       "        left: 50%;\n",
       "        margin-left: -8px;\n",
       "        border-top-color: #222;\n",
       "        border-top-style: solid;\n",
       "        border-top-width: 6px;\n",
       "    }\n",
       "\n",
       "    .t72b75b0c-cfae-43b9-a382-43660d07d927.place-bottom {\n",
       "        margin-top: 10px;\n",
       "    }\n",
       "    .t72b75b0c-cfae-43b9-a382-43660d07d927.place-bottom::before {\n",
       "        border-bottom: 8px solid transparent;\n",
       "    }\n",
       "    .t72b75b0c-cfae-43b9-a382-43660d07d927.place-bottom::after {\n",
       "        border-left: 8px solid transparent;\n",
       "        border-right: 8px solid transparent;\n",
       "        top: -6px;\n",
       "        left: 50%;\n",
       "        margin-left: -8px;\n",
       "        border-bottom-color: #222;\n",
       "        border-bottom-style: solid;\n",
       "        border-bottom-width: 6px;\n",
       "    }\n",
       "\n",
       "    .t72b75b0c-cfae-43b9-a382-43660d07d927.place-left {\n",
       "        margin-left: -10px;\n",
       "    }\n",
       "    .t72b75b0c-cfae-43b9-a382-43660d07d927.place-left::before {\n",
       "        border-left: 8px solid transparent;\n",
       "    }\n",
       "    .t72b75b0c-cfae-43b9-a382-43660d07d927.place-left::after {\n",
       "        border-top: 5px solid transparent;\n",
       "        border-bottom: 5px solid transparent;\n",
       "        right: -6px;\n",
       "        top: 50%;\n",
       "        margin-top: -4px;\n",
       "        border-left-color: #222;\n",
       "        border-left-style: solid;\n",
       "        border-left-width: 6px;\n",
       "    }\n",
       "\n",
       "    .t72b75b0c-cfae-43b9-a382-43660d07d927.place-right {\n",
       "        margin-left: 10px;\n",
       "    }\n",
       "    .t72b75b0c-cfae-43b9-a382-43660d07d927.place-right::before {\n",
       "        border-right: 8px solid transparent;\n",
       "    }\n",
       "    .t72b75b0c-cfae-43b9-a382-43660d07d927.place-right::after {\n",
       "        border-top: 5px solid transparent;\n",
       "        border-bottom: 5px solid transparent;\n",
       "        left: -6px;\n",
       "        top: 50%;\n",
       "        margin-top: -4px;\n",
       "        border-right-color: #222;\n",
       "        border-right-style: solid;\n",
       "        border-right-width: 6px;\n",
       "    }\n",
       "  </style></div></span></h4><div class=\"Price__Label-sc-14mok7p-0 bSsReF\">Lowest Ask</div><div class=\"Price__PriceWrapper-sc-14mok7p-2 JKBnr\">USD $249.00</div><div class=\"Supply__SupplyWrapper-mkne17-0 ljSVNp\">561 listings</div></div></div></a>"
      ]
     },
     "metadata": {},
     "execution_count": 56
    }
   ],
   "source": [
    "l2[0]"
   ]
  },
  {
   "cell_type": "code",
   "execution_count": 134,
   "metadata": {},
   "outputs": [
    {
     "output_type": "stream",
     "name": "stdout",
     "text": [
      "<html>\n <head nonce=\"\">\n  <title>\n   NBA Top Shot\n  </title>\n  <meta charset=\"utf-8\"/>\n  <meta content=\"width=device-width, height=device-height, initial-scale=1, maximum-scale=1\" name=\"viewport\"/>\n  <meta content=\"Witness history. Own the plays.\" name=\"description\"/>\n  <meta content=\"Dapper Labs\" name=\"author\"/>\n  <meta content=\"summary_large_image\" name=\"twitter:card\"/>\n  <meta content=\"@nba_topshot\" name=\"twitter:site\"/>\n  <meta content=\"NBA Top Shot\" name=\"twitter:title\"/>\n  <meta content=\"Witness history. Own the plays.\" name=\"twitter:description\"/>\n  <meta content=\"https://www.nbatopshot.com/static/img/og/og.png\" name=\"twitter:image\"/>\n  <meta content=\"https://www.nbatopshot.com\" name=\"twitter:url\"/>\n  <meta content=\"website\" property=\"og:type\"/>\n  <meta content=\"NBA Top Shot\" property=\"og:site_name\"/>\n  <meta content=\"NBA Top Shot\" property=\"og:title\"/>\n  <meta content=\"Witness history. Own the plays.\" property=\"og:description\"/>\n  <meta content=\"https://www.nbatopshot.com/static/img/og/og.png\" property=\"og:image\"/>\n  <meta content=\"https://www.nbatopshot.com\" property=\"og:url\"/>\n  <link href=\"/static/favicon/favicon-512.png\" rel=\"icon\" type=\"image/x-icon\"/>\n  <link as=\"style\" href=\"/_next/static/css/503d8d83f49ea48b9a48.css\" nonce=\"\" rel=\"preload\"/>\n  <link data-n-g=\"\" href=\"/_next/static/css/503d8d83f49ea48b9a48.css\" nonce=\"\" rel=\"stylesheet\"/>\n  <noscript data-n-css=\"true\">\n  </noscript>\n  <link as=\"script\" href=\"/_next/static/chunks/main-64ae14dcb145f2a8b02b.js\" nonce=\"\" rel=\"preload\"/>\n  <link as=\"script\" href=\"/_next/static/chunks/webpack-eb080e3f091731f228fb.js\" nonce=\"\" rel=\"preload\"/>\n  <link as=\"script\" href=\"/_next/static/chunks/framework.97915487cae95562760b.js\" nonce=\"\" rel=\"preload\"/>\n  <link as=\"script\" href=\"/_next/static/chunks/29107295.3e17352634c11dfb6d28.js\" nonce=\"\" rel=\"preload\"/>\n  <link as=\"script\" href=\"/_next/static/chunks/f3dea186.7c49fde2135f5f7d937c.js\" nonce=\"\" rel=\"preload\"/>\n  <link as=\"script\" href=\"/_next/static/chunks/commons.8f5a4837313ea1b3478a.js\" nonce=\"\" rel=\"preload\"/>\n  <link as=\"script\" href=\"/_next/static/chunks/cbccbe6aa414c85f3a50889410af35ded28be753.85580ecc867f74b9dee2.js\" nonce=\"\" rel=\"preload\"/>\n  <link as=\"script\" href=\"/_next/static/chunks/2c6532c2b3918873a3bd6f9b0931ce5329183e5c.85c6f6f1ebc3934fea2a.js\" nonce=\"\" rel=\"preload\"/>\n  <link as=\"script\" href=\"/_next/static/chunks/4883b34b9b77d71a21afa62602617bf343fb6b7f.9326ceccf011a800dca0.js\" nonce=\"\" rel=\"preload\"/>\n  <link as=\"script\" href=\"/_next/static/chunks/d06cbe7ce66b9e26a375e1013514d08b77f52cb5.75e339dd8d2b338664aa.js\" nonce=\"\" rel=\"preload\"/>\n  <link as=\"script\" href=\"/_next/static/chunks/211e8954697f675c6e61a85353afb049219f20b0.b6a16dbf0dfc83650142.js\" nonce=\"\" rel=\"preload\"/>\n  <link as=\"script\" href=\"/_next/static/chunks/b2311494993356396e1f198f5fadccdef46b095e.a2d7538a26a62ec123ca.js\" nonce=\"\" rel=\"preload\"/>\n  <link as=\"script\" href=\"/_next/static/chunks/a7b8d6ac1b7ef0ff900fed2e8e1ba6617e94f362.3a387e8c7c0f882abee3.js\" nonce=\"\" rel=\"preload\"/>\n  <link as=\"script\" href=\"/_next/static/chunks/f00b2ca459b98fd78ac2a5c8300116cb45001763.cbe83efe48f9f3b7e297.js\" nonce=\"\" rel=\"preload\"/>\n  <link as=\"script\" href=\"/_next/static/chunks/6a2c4839d98b08eead35a85ef58615edf2bcfacd.cfbe981f363fb64170bc.js\" nonce=\"\" rel=\"preload\"/>\n  <link as=\"script\" href=\"/_next/static/chunks/7aba98322cbf543ae02eacf0972efe4e2a6d3d4d.1a7861ca4b2e4c889b5d.js\" nonce=\"\" rel=\"preload\"/>\n  <link as=\"script\" href=\"/_next/static/chunks/9d744c0e74b7f9addc7419d5976cc1e93bc7b4b3.402df5901eebdafb78ad.js\" nonce=\"\" rel=\"preload\"/>\n  <link as=\"script\" href=\"/_next/static/chunks/1b6a77284df148b8be9a9fedcf8ed46b843f2dc5.b32c840fa6138b1c8833.js\" nonce=\"\" rel=\"preload\"/>\n  <link as=\"script\" href=\"/_next/static/chunks/abe333547d5da1f4759776346a0593f8224d2ef2.5b1d4adfc5775c21799c.js\" nonce=\"\" rel=\"preload\"/>\n  <link as=\"script\" href=\"/_next/static/chunks/7ae94277d3bc6583ce5a198d93caa68b2eee519f.f4544617970bdf4de5eb.js\" nonce=\"\" rel=\"preload\"/>\n  <link as=\"script\" href=\"/_next/static/chunks/6043d905c3e41ad7a6773a5d6f8e96db7749ab19.34336536ce6e7afc0feb.js\" nonce=\"\" rel=\"preload\"/>\n  <link as=\"script\" href=\"/_next/static/chunks/1e0aabacd55857173d48c4fccbed69370b1d62d4.aeb4d51f7f2f1eb6aa8d.js\" nonce=\"\" rel=\"preload\"/>\n  <link as=\"script\" href=\"/_next/static/chunks/3ea589255f13a955e4502ced08c2d0d88ed942ce.4ca54a194ddebbe0f9fb.js\" nonce=\"\" rel=\"preload\"/>\n  <link as=\"script\" href=\"/_next/static/chunks/48d2a85b208f65ee126c15e4914f23115b30faa0.f4cf9880ae530bb7d3ed.js\" nonce=\"\" rel=\"preload\"/>\n  <link as=\"script\" href=\"/_next/static/chunks/ac44ec0a2fafc47b0842d13579c31cd8b4ad1184.c3c2df25ad232847df52.js\" nonce=\"\" rel=\"preload\"/>\n  <link as=\"script\" href=\"/_next/static/chunks/459b853d5d190ffba0cbe416f14d3dd6d5ab4af2.96edc85094fa4237ed0d.js\" nonce=\"\" rel=\"preload\"/>\n  <link as=\"script\" href=\"/_next/static/chunks/pages/_app-2f0eabfde96a9dab1026.js\" nonce=\"\" rel=\"preload\"/>\n  <link as=\"script\" href=\"/_next/static/chunks/4cb30731e043795c63cc111612dcf8ff0bbabf42.279299c6bef841dd1231.js\" nonce=\"\" rel=\"preload\"/>\n  <link as=\"script\" href=\"/_next/static/chunks/501ef6b21fed5f1b346fa49c0492b188c1b5690f.b9246862ae3ce604af69.js\" nonce=\"\" rel=\"preload\"/>\n  <link as=\"script\" href=\"/_next/static/chunks/pages/search-01b1a0450b8b7bfcfe41.js\" nonce=\"\" rel=\"preload\"/>\n  <style data-styled=\"active\" data-styled-version=\"5.2.0\">\n  </style>\n  <script async=\"\" src=\"https://connect.facebook.net/signals/config/734566633667278?v=2.9.33&amp;r=stable\">\n  </script>\n  <script async=\"\" src=\"https://connect.facebook.net/en_US/fbevents.js\">\n  </script>\n  <script async=\"\" nonce=\"\" src=\"https://www.google-analytics.com/plugins/ua/linkid.js\" type=\"text/javascript\">\n  </script>\n  <script async=\"\" src=\"https://www.googletagmanager.com/gtm.js?id=GTM-T2BXV9D&amp;l=dataLayer\" type=\"text/javascript\">\n  </script>\n  <script async=\"\" src=\"https://www.google-analytics.com/analytics.js\" type=\"text/javascript\">\n  </script>\n  <script async=\"\" src=\"https://widget.intercom.io/widget/sm00f6tm\" type=\"text/javascript\">\n  </script>\n  <script async=\"\" src=\"https://cdn.mxpnl.com/libs/mixpanel-2-latest.min.js\" type=\"text/javascript\">\n  </script>\n  <script async=\"\" crossorigin=\"anonymous\" integrity=\"sha384-To104alDRPuLEeQpPdcSIVvI9wjM8tMJ4LTRSYtxUdzS0oD5jEg0kVUF4wKuWpnU\" nonce=\"\" src=\"https://www.gstatic.com/recaptcha/releases/2Mfykwl2mlvyQZQ3PEgoH710/recaptcha__fr.js\" type=\"text/javascript\">\n  </script>\n  <script async=\"\" src=\"https://cdn.segment.com/analytics.js/v1/YYcgqDqQ1ECNoUlJntHgw58D0JoZsIGu/analytics.min.js\" type=\"text/javascript\">\n  </script>\n  <script async=\"\" src=\"https://cdn.onesignal.com/sdks/OneSignalPageSDKES6.js?v=151105\">\n  </script>\n  <script id=\"google-recaptcha-v3\" src=\"https://www.google.com/recaptcha/api.js?render=6LdMpd4ZAAAAAI82S4bb-R8hIdTJERTWBHz3bqas\">\n  </script>\n  <style type=\"text/css\">\n   .__react_component_tooltip {\n  border-radius: 3px;\n  display: inline-block;\n  font-size: 13px;\n  left: -999em;\n  opacity: 0;\n  padding: 8px 21px;\n  position: fixed;\n  pointer-events: none;\n  transition: opacity 0.3s ease-out;\n  top: -999em;\n  visibility: hidden;\n  z-index: 999;\n}\n.__react_component_tooltip.allow_hover, .__react_component_tooltip.allow_click {\n  pointer-events: auto;\n}\n.__react_component_tooltip::before, .__react_component_tooltip::after {\n  content: \"\";\n  width: 0;\n  height: 0;\n  position: absolute;\n}\n.__react_component_tooltip.show {\n  opacity: 0.9;\n  margin-top: 0;\n  margin-left: 0;\n  visibility: visible;\n}\n.__react_component_tooltip.place-top::before {\n  border-left: 10px solid transparent;\n  border-right: 10px solid transparent;\n  bottom: -8px;\n  left: 50%;\n  margin-left: -10px;\n}\n.__react_component_tooltip.place-bottom::before {\n  border-left: 10px solid transparent;\n  border-right: 10px solid transparent;\n  top: -8px;\n  left: 50%;\n  margin-left: -10px;\n}\n.__react_component_tooltip.place-left::before {\n  border-top: 6px solid transparent;\n  border-bottom: 6px solid transparent;\n  right: -8px;\n  top: 50%;\n  margin-top: -5px;\n}\n.__react_component_tooltip.place-right::before {\n  border-top: 6px solid transparent;\n  border-bottom: 6px solid transparent;\n  left: -8px;\n  top: 50%;\n  margin-top: -5px;\n}\n.__react_component_tooltip .multi-line {\n  display: block;\n  padding: 2px 0;\n  text-align: center;\n}\n  </style>\n  <style data-emotion=\"css\">\n  </style>\n  <link as=\"script\" href=\"/_next/static/chunks/ea88be26.5a977ba2eff9c815c24d.js\" rel=\"prefetch\"/>\n  <link as=\"script\" href=\"/_next/static/chunks/6744414d54f14d4eae6717ddf64e903f0fa6b375.1ef75cce9842765e5fbd.js\" rel=\"prefetch\"/>\n  <link as=\"script\" href=\"/_next/static/chunks/pages/index-379cc3e60020d1bf2527.js\" rel=\"prefetch\"/>\n  <script async=\"\" src=\"https://static.hotjar.com/c/hotjar-1872245.js?sv=6\">\n  </script>\n  <link as=\"script\" href=\"/_next/static/chunks/4cb30731e043795c63cc111612dcf8ff0bbabf42.279299c6bef841dd1231.js\" rel=\"prefetch\"/>\n  <link as=\"script\" href=\"/_next/static/chunks/pages/listings/p2p/%5Bid%5D-9f3c81dc4de56e9bed27.js\" rel=\"prefetch\"/>\n </head>\n <body style=\"transition: margin 250ms ease 0s; margin-top: 0px;\">\n  <div id=\"__next\">\n   <div class=\"AppTemplate__Wrapper-d5brw1-1 dOdNXF\" width=\"100%\">\n    <div class=\"Navigation__StyledRoot-sc-17cxlwk-0 doIOvP\">\n     <div class=\"NavNarrow__StyledRoot-omsnsz-0 lkOBdJ\">\n      <div class=\"Container__StyledContainer-sc-1hznfta-0 UDIGY\">\n       <div class=\"NavNarrow__StyledNavNarrow-omsnsz-1 gZpVAo\">\n        <div class=\"MenuIcon__StyledRoot-pkxxbo-0 gczFyP\">\n         <span class=\"MenuIcon__StyledMenuIcon-pkxxbo-1 cgBAnc\" role=\"button\">\n          <svg class=\"Icon__StyledSvg-sc-1rdji9f-0 fqjHM\" fill=\"#5b5e6c\" height=\"20\" viewbox=\"0 0 16 12\" width=\"20\" xmlns=\"http://www.w3.org/2000/svg\">\n           <g transform=\"translate(-4.000000, -6.000000)\">\n            <path d=\"M4,6 L14,6 L14,8 L4,8 L4,6 Z M4,16 L14,16 L14,18 L4,18 L4,16 Z M4,11 L20,11 L20,13 L4,13 L4,11 Z\" fill=\"inherit\">\n            </path>\n           </g>\n          </svg>\n         </span>\n        </div>\n        <a class=\"Logo__StyledRoot-l1m6f3-0 kKoeXB\" href=\"/\">\n         <img alt=\"NBA Top Shot\" class=\"Logo__StyledLogo-l1m6f3-1 HkaEl\" src=\"/static/img/top-shot-logo-horizontal-white.svg\"/>\n        </a>\n        <div class=\"UnauthenticatedActionLinks__Unauthenticated-t2u70n-0 fjJNyI\" data-testid=\"logged-out-user-options\">\n         <button class=\"SocialFeedButton__StyledSocialFeed-sc-1d3ihmz-0 jEbFHR\" type=\"button\">\n          <div class=\"SocialFeedNotificationIcon__StyledIconRoot-ck86gd-0 dzBREE\">\n           <svg class=\"Icon__StyledSvg-sc-1rdji9f-0 kvxdsi\" fill=\"#8a94a6\" height=\"24\" viewbox=\"0 0 24.09 24.09\" width=\"24\" xmlns=\"http://www.w3.org/2000/svg\">\n            <g data-name=\"Layer 2\">\n             <g data-name=\"Layer 1\">\n              <path d=\"M12.05 1a11.08 11.08 0 1011.07 11.05A11.09 11.09 0 0012.05 1zm-.21 2.51a3.65 3.65 0 01.87 2.4 3.24 3.24 0 01-1.33 2.24c-.17.14-1.6 1.37-1.4 2.62a1.73 1.73 0 001.57 1.32h.1c.78.47 1.24.94 1.32 1.35a2.14 2.14 0 01-.58 1.45A57 57 0 018.45 19c-.47-1.68.6-4.76 1-5.86a1.24 1.24 0 000-1 1.22 1.22 0 00-.74-.65c-1.78-.59-4.11-2.73-4-4a8.56 8.56 0 017.13-4.01zm-8.37 8.54a9.55 9.55 0 01.09-1.2 10.83 10.83 0 003.18 2.54 14.86 14.86 0 00-.91 4.55 8.53 8.53 0 01-2.36-5.89zm8.58 8.57a8.42 8.42 0 01-1.52-.14 53.18 53.18 0 003.83-4.06A4.31 4.31 0 0015.43 13 4.61 4.61 0 0013 10a5.63 5.63 0 002.2-3.95A5.36 5.36 0 0014.92 4a8.57 8.57 0 013.62 2.49 7.32 7.32 0 00-1.88 7.69A5.31 5.31 0 0019.05 17a8.58 8.58 0 01-7 3.62zm8.13-5.86A2.85 2.85 0 0119 13.33a5 5 0 01.88-4.72 8.54 8.54 0 01.72 3.44 8.74 8.74 0 01-.42 2.71z\" fill=\"inherit\">\n              </path>\n              <path d=\"M0 0h24.09v24.09H0z\" fill=\"none\">\n              </path>\n             </g>\n            </g>\n           </svg>\n           <div class=\"NotificationIndicator__StyledNotificationIndicator-sc-6p4651-0 iAvdem\" data-testid=\"SocialFeedNotificationIcon-NotificationIndicator\">\n           </div>\n          </div>\n         </button>\n         <a class=\"Button__StyledButton-ig3kkl-1 enFofR UnauthenticatedActionLinks__StyledLogInButton-t2u70n-1 hPXTrC\" data-testid=\"LogInButton\" href=\"/api/auth0/login?redirectLocalStorageKey=KNG-Fdp-l8&amp;screen_hint=login\">\n          <span class=\"text\">\n           Log In\n          </span>\n         </a>\n         <a class=\"Button__StyledButton-ig3kkl-1 kohFte UnauthenticatedActionLinks__StyledSignUpButton-t2u70n-2 dTeCM\" data-testid=\"SignUpButton\" href=\"/api/auth0/login?redirectLocalStorageKey=wcoC-VK2sh&amp;prompt=login&amp;screen_hint=signup\">\n          <span class=\"text\">\n           Sign up\n          </span>\n         </a>\n         <a class=\"Button__StyledButton-ig3kkl-1 kohFte UnauthenticatedActionLinks__StyledGetInButton-t2u70n-3 edMGNe\" data-testid=\"GetInButton\" href=\"/api/auth0/login?redirectLocalStorageKey=BF0CTVJp2c\">\n          <span class=\"text\">\n           Get in\n          </span>\n         </a>\n        </div>\n       </div>\n      </div>\n     </div>\n     <div class=\"Menu__StyledRoot-xxvjk-0 dogtsO\">\n      <div class=\"Menu__StyledMain-xxvjk-1 bqYnGV\" style=\"transform: translate3d(-100%, 0px, 0px);\">\n       <div class=\"ActiveNodeContents__StyledChild-sc-8r9f15-0 OeFrC\">\n        <span class=\"ActiveNodeContents__StyledChildHeading-sc-8r9f15-1 bwKoLb\">\n         Home\n        </span>\n       </div>\n       <div class=\"ActiveNodeContents__StyledChild-sc-8r9f15-0 OeFrC\">\n        <span class=\"ActiveNodeContents__StyledChildHeading-sc-8r9f15-1 bwKoLb\">\n         Packs\n        </span>\n       </div>\n       <div class=\"ActiveNodeContents__StyledChild-sc-8r9f15-0 OeFrC\">\n        <span class=\"ActiveNodeContents__StyledChildHeading-sc-8r9f15-1 bwKoLb\">\n         Marketplace\n        </span>\n       </div>\n       <div class=\"ActiveNodeContents__StyledChild-sc-8r9f15-0 OeFrC\" role=\"button\">\n        <span class=\"ActiveNodeContents__StyledChildHeading-sc-8r9f15-1 bwKoLb\">\n         About\n        </span>\n        <svg class=\"Icon__StyledSvg-sc-1rdji9f-0 jDkTaZ\" fill=\"#ffffff\" height=\"16\" viewbox=\"0 0 512 512\" width=\"16\" xmlns=\"http://www.w3.org/2000/svg\">\n         <path d=\"M198.608,246.104L382.664,62.04c5.068-5.056,7.856-11.816,7.856-19.024c0-7.212-2.788-13.968-7.856-19.032l-16.128-16.12 C361.476,2.792,354.712,0,347.504,0s-13.964,2.792-19.028,7.864L109.328,227.008c-5.084,5.08-7.868,11.868-7.848,19.084 c-0.02,7.248,2.76,14.028,7.848,19.112l218.944,218.932c5.064,5.072,11.82,7.864,19.032,7.864c7.208,0,13.964-2.792,19.032-7.864 l16.124-16.12c10.492-10.492,10.492-27.572,0-38.06L198.608,246.104z\">\n         </path>\n        </svg>\n       </div>\n       <div class=\"ActiveNodeContents__StyledChild-sc-8r9f15-0 OeFrC\" role=\"button\">\n        <span class=\"ActiveNodeContents__StyledChildHeading-sc-8r9f15-1 bwKoLb\">\n         Community\n        </span>\n        <svg class=\"Icon__StyledSvg-sc-1rdji9f-0 jDkTaZ\" fill=\"#ffffff\" height=\"16\" viewbox=\"0 0 512 512\" width=\"16\" xmlns=\"http://www.w3.org/2000/svg\">\n         <path d=\"M198.608,246.104L382.664,62.04c5.068-5.056,7.856-11.816,7.856-19.024c0-7.212-2.788-13.968-7.856-19.032l-16.128-16.12 C361.476,2.792,354.712,0,347.504,0s-13.964,2.792-19.028,7.864L109.328,227.008c-5.084,5.08-7.868,11.868-7.848,19.084 c-0.02,7.248,2.76,14.028,7.848,19.112l218.944,218.932c5.064,5.072,11.82,7.864,19.032,7.864c7.208,0,13.964-2.792,19.032-7.864 l16.124-16.12c10.492-10.492,10.492-27.572,0-38.06L198.608,246.104z\">\n         </path>\n        </svg>\n       </div>\n       <div class=\"ActiveNodeContents__StyledChild-sc-8r9f15-0 OeFrC\" role=\"button\">\n        <span class=\"ActiveNodeContents__StyledChildHeading-sc-8r9f15-1 bwKoLb\">\n         Events\n        </span>\n        <svg class=\"Icon__StyledSvg-sc-1rdji9f-0 jDkTaZ\" fill=\"#ffffff\" height=\"16\" viewbox=\"0 0 512 512\" width=\"16\" xmlns=\"http://www.w3.org/2000/svg\">\n         <path d=\"M198.608,246.104L382.664,62.04c5.068-5.056,7.856-11.816,7.856-19.024c0-7.212-2.788-13.968-7.856-19.032l-16.128-16.12 C361.476,2.792,354.712,0,347.504,0s-13.964,2.792-19.028,7.864L109.328,227.008c-5.084,5.08-7.868,11.868-7.848,19.084 c-0.02,7.248,2.76,14.028,7.848,19.112l218.944,218.932c5.064,5.072,11.82,7.864,19.032,7.864c7.208,0,13.964-2.792,19.032-7.864 l16.124-16.12c10.492-10.492,10.492-27.572,0-38.06L198.608,246.104z\">\n         </path>\n        </svg>\n       </div>\n       <div class=\"ActiveNodeContents__StyledChild-sc-8r9f15-0 OeFrC\">\n        <a href=\"https://blog.nbatopshot.com/\" rel=\"noopener noreferrer\" target=\"_blank\">\n         <span class=\"ActiveNodeContents__StyledChildHeading-sc-8r9f15-1 bwKoLb\">\n          Blog\n         </span>\n        </a>\n       </div>\n       <div class=\"SocialLinks__StyledRoot-sc-19eqyi0-0 derOap\">\n        <a class=\"SocialLinks__StyledSocial-sc-19eqyi0-2 elkcQw\" href=\"https://discord.com/invite/sRF8Ytc\" rel=\"noopener noreferrer\" target=\"_blank\">\n         Join Discord\n         <svg class=\"Icon__StyledSvg-sc-1rdji9f-0 fqjHM\" fill=\"currentColor\" height=\"16\" viewbox=\"0 0 17 12\" width=\"16\" xmlns=\"http://www.w3.org/2000/svg\">\n          <g fill=\"inherit\" fill-rule=\"evenodd\" stroke=\"none\" stroke-width=\"1\">\n           <g fill=\"inherit\" fill-rule=\"nonzero\" transform=\"translate(-1347.000000, -245.000000)\">\n            <g transform=\"translate(1123.000000, 234.000000)\">\n             <g transform=\"translate(224.000000, 11.000000)\">\n              <path d=\"M14.6818182,1.5 C14.6818182,1.5 12.9099545,0.15375 10.8181818,0 L10.6296364,0.366375 C12.5205,0.816 13.3882727,1.45875 14.2954545,2.25 C12.7318409,1.47525 11.1890909,0.75 8.5,0.75 C5.81090909,0.75 4.26815909,1.47525 2.70454545,2.25 C3.61172727,1.45875 4.64409091,0.744 6.37036364,0.366375 L6.18181818,0 C3.98727273,0.200625 2.31818182,1.5 2.31818182,1.5 C2.31818182,1.5 0.339613636,4.28475 0,9.75 C1.99363636,11.982375 5.02272727,12 5.02272727,12 L5.65636364,11.181 C4.58072727,10.818 3.36754545,10.170375 2.31818182,9 C3.56922727,9.91875 5.45738636,10.875 8.5,10.875 C11.5426136,10.875 13.4307727,9.91875 14.6818182,9 C13.6328409,10.170375 12.4196591,10.818 11.3436364,11.181 L11.9772727,12 C11.9772727,12 15.0063636,11.982375 17,9.75 C16.6603864,4.28475 14.6818182,1.5 14.6818182,1.5 Z M5.98863636,8.25 C5.24140909,8.25 4.63636364,7.57875 4.63636364,6.75 C4.63636364,5.92125 5.24140909,5.25 5.98863636,5.25 C6.73586364,5.25 7.34090909,5.92125 7.34090909,6.75 C7.34090909,7.57875 6.73586364,8.25 5.98863636,8.25 Z M11.0113636,8.25 C10.2641364,8.25 9.65909091,7.57875 9.65909091,6.75 C9.65909091,5.92125 10.2641364,5.25 11.0113636,5.25 C11.7585909,5.25 12.3636364,5.92125 12.3636364,6.75 C12.3636364,7.57875 11.7585909,8.25 11.0113636,8.25 Z\">\n              </path>\n             </g>\n            </g>\n           </g>\n          </g>\n         </svg>\n        </a>\n        <div class=\"SocialLinks__StyledIconGrid-sc-19eqyi0-1 clIOLM\">\n         <a class=\"SocialLinks__StyledSocial-sc-19eqyi0-2 kkmzfc\" href=\"https://www.youtube.com/channel/UCf1CdDW--NrjkOjna0nvccw/videos\" rel=\"noopener noreferrer\" target=\"_blank\">\n          <svg class=\"Icon__StyledSvg-sc-1rdji9f-0 fqjHM\" fill=\"#ffffff\" height=\"16\" viewbox=\"0 0 84 67\" width=\"16\" xmlns=\"http://www.w3.org/2000/svg\">\n           <svg version=\"1.1\" viewbox=\"0 0 84 67\" xmlns=\"http://www.w3.org/2000/svg\">\n            <g fill=\"inherit\" fill-rule=\"evenodd\">\n             <g fill=\"inherit\" transform=\"translate(-1039 -906)\">\n              <path d=\"m1106.3 908.13c-17.051-2.8359-34.453-2.8359-51.5 0-9.75 2.0391-15.836 8.332-15.836 16.539v29.168c0 8.332 6.082 14.543 16 16.668 8.4844 1.4258 17.066 2.1523 25.668 2.1641 8.6289 0 17.238-0.71094 25.75-2.125 9.668-1.832 15.918-8.332 15.918-16.668v-29.168c0-8.2891-6.25-14.789-16-16.578v-1e-4zm-12.082 33.082-20.832 12.5h-0.00391c-0.32422 0.19922-0.70312 0.30078-1.082 0.29297-0.36328-0.00391-0.71875-0.08984-1.043-0.25-0.66797-0.40625-1.0664-1.1367-1.043-1.918v-25c0.00782-0.75 0.40234-1.4453 1.043-1.832 0.66406-0.35547 1.4609-0.35547 2.125 0l20.832 12.5c0.61328 0.39062 0.98438 1.0664 0.98438 1.7891 0 0.72656-0.37109 1.4023-0.98438 1.793l0.00391 0.12493z\">\n              </path>\n             </g>\n            </g>\n           </svg>\n          </svg>\n         </a>\n         <a class=\"SocialLinks__StyledSocial-sc-19eqyi0-2 kkmzfc\" href=\"https://www.instagram.com/nba_topshot/\" rel=\"noopener noreferrer\" target=\"_blank\">\n          <svg class=\"Icon__StyledSvg-sc-1rdji9f-0 fqjHM\" fill=\"currentColor\" height=\"16\" viewbox=\"0 0 16 16\" width=\"16\" xmlns=\"http://www.w3.org/2000/svg\">\n           <path d=\"M7.997.005c-2.172 0-2.444.01-3.297.048C3.85.092 3.268.227 2.76.425a3.92 3.92 0 00-1.417.922A3.92 3.92 0 00.42 2.764c-.198.509-.333 1.09-.372 1.941C.01 5.558 0 5.831 0 8.003s.01 2.444.048 3.297c.039.851.174 1.432.372 1.941.204.526.478.972.922 1.417.445.444.89.718 1.417.922.509.198 1.09.333 1.941.372.853.039 1.125.048 3.297.048s2.445-.01 3.298-.048c.851-.039 1.432-.174 1.941-.372a3.92 3.92 0 001.417-.922 3.92 3.92 0 00.922-1.417c.198-.509.333-1.09.372-1.941.039-.853.048-1.125.048-3.297s-.01-2.445-.048-3.298c-.039-.851-.174-1.432-.372-1.941a3.92 3.92 0 00-.922-1.417 3.92 3.92 0 00-1.417-.922c-.509-.198-1.09-.333-1.941-.372-.853-.039-1.126-.048-3.298-.048zm0 1.441c2.136 0 2.389.008 3.232.047.78.035 1.203.166 1.485.275.373.145.64.318.92.598.28.28.453.547.598.92.11.282.24.705.275 1.485.039.843.047 1.096.047 3.232 0 2.135-.008 2.388-.047 3.231-.035.78-.166 1.203-.275 1.485-.145.374-.318.64-.598.92-.28.28-.547.453-.92.598-.282.11-.705.24-1.485.275-.843.039-1.096.047-3.232.047-2.135 0-2.388-.008-3.231-.047-.78-.035-1.203-.165-1.485-.275a2.478 2.478 0 01-.92-.598 2.478 2.478 0 01-.598-.92c-.11-.282-.24-.705-.275-1.485-.039-.843-.047-1.096-.047-3.231 0-2.136.008-2.389.047-3.232.035-.78.165-1.203.275-1.485.145-.373.318-.64.598-.92.28-.28.546-.453.92-.598.282-.11.705-.24 1.485-.275.843-.039 1.096-.047 3.231-.047z\">\n           </path>\n           <path d=\"M7.997 10.668a2.666 2.666 0 110-5.331 2.666 2.666 0 010 5.331zm0-6.772a4.107 4.107 0 100 8.213 4.107 4.107 0 000-8.213zM13.226 3.733a.96.96 0 11-1.92 0 .96.96 0 011.92 0\">\n           </path>\n          </svg>\n         </a>\n         <a class=\"SocialLinks__StyledSocial-sc-19eqyi0-2 kkmzfc\" href=\"https://twitter.com/nba_topshot\" rel=\"noopener noreferrer\" target=\"_blank\">\n          <svg class=\"Icon__StyledSvg-sc-1rdji9f-0 fqjHM\" fill=\"currentColor\" height=\"16\" viewbox=\"0 0 16 16\" width=\"16\" xmlns=\"http://www.w3.org/2000/svg\">\n           <path d=\"M5.032 14.528c6.038 0 9.34-4.998 9.34-9.332 0-.142-.003-.283-.01-.424A6.675 6.675 0 0016 3.074a6.557 6.557 0 01-1.885.516 3.291 3.291 0 001.443-1.814 6.582 6.582 0 01-2.084.796 3.28 3.28 0 00-2.396-1.036A3.282 3.282 0 007.88 5.563a9.322 9.322 0 01-6.766-3.426A3.276 3.276 0 002.13 6.515a3.26 3.26 0 01-1.487-.41v.042a3.282 3.282 0 002.633 3.215 3.295 3.295 0 01-1.483.056 3.286 3.286 0 003.067 2.278A6.59 6.59 0 01.783 13.1c-.265 0-.526-.015-.783-.045a9.3 9.3 0 005.032 1.473\" fill-rule=\"evenodd\">\n           </path>\n          </svg>\n         </a>\n         <a class=\"SocialLinks__StyledSocial-sc-19eqyi0-2 kkmzfc\" href=\"https://www.facebook.com/NBATopShot/\" rel=\"noopener noreferrer\" target=\"_blank\">\n          <svg class=\"Icon__StyledSvg-sc-1rdji9f-0 fqjHM\" fill=\"currentColor\" height=\"16\" viewbox=\"0 0 24 24\" width=\"16\" xmlns=\"http://www.w3.org/2000/svg\">\n           <path d=\"m15.997 3.985h2.191v-3.816c-.378-.052-1.678-.169-3.192-.169-3.159 0-5.323 1.987-5.323 5.639v3.361h-3.486v4.266h3.486v10.734h4.274v-10.733h3.345l.531-4.266h-3.877v-2.939c.001-1.233.333-2.077 2.051-2.077z\">\n           </path>\n          </svg>\n         </a>\n        </div>\n       </div>\n      </div>\n      <div class=\"Menu__StyledCloseIcon-xxvjk-2 eQuNzM\" role=\"button\" style=\"transform: rotateZ(-90deg);\">\n       <svg class=\"Icon__StyledSvg-sc-1rdji9f-0 fqjHM\" fill=\"#ffffff\" height=\"24\" viewbox=\"0 0 16 16\" width=\"24\" xmlns=\"http://www.w3.org/2000/svg\">\n        <path d=\"M3.14644661,3.14644661 C3.34170876,2.95118446 3.65829124,2.95118446 3.85355339,3.14644661 L3.85355339,3.14644661 L8,7.29289322 L12.1464466,3.14644661 C12.3417088,2.95118446 12.6582912,2.95118446 12.8535534,3.14644661 C13.0488155,3.34170876 13.0488155,3.65829124 12.8535534,3.85355339 L12.8535534,3.85355339 L8.707,8 L12.8535534,12.1464466 C13.0271197,12.320013 13.0464049,12.5894374 12.9114088,12.7843055 L12.8535534,12.8535534 C12.6582912,13.0488155 12.3417088,13.0488155 12.1464466,12.8535534 L12.1464466,12.8535534 L8,8.70710678 L3.85355339,12.8535534 C3.65829124,13.0488155 3.34170876,13.0488155 3.14644661,12.8535534 C2.95118446,12.6582912 2.95118446,12.3417088 3.14644661,12.1464466 L3.14644661,12.1464466 L7.293,8 L3.14644661,3.85355339 C2.97288026,3.67998704 2.95359511,3.41056264 3.08859116,3.2156945 Z\">\n        </path>\n       </svg>\n      </div>\n     </div>\n    </div>\n    <main class=\"AppTemplate__Main-d5brw1-2 eUcVOn\">\n     <div class=\"HeavyLoadBar__StyledHeavyLoadBar-ejzbpc-0 cChasn\" socialfeedopen=\"false\" style=\"width: 100%; transform: translate3d(0px, 0px, 0px); opacity: 1;\">\n      <div class=\"HeavyLoadBar__StyledContainer-ejzbpc-1 jFwWbt\">\n       <div class=\"HeavyLoadBar__StyledContent-ejzbpc-2 duBERo\">\n        <p class=\"HeavyLoadBar__StyledDescription-ejzbpc-3 hguXrG\">\n         We’re experiencing high traffic - website actions are completing successfully, but may take longer than usual\n        </p>\n       </div>\n       <svg class=\"Icon__StyledSvg-sc-1rdji9f-0 fqjHM\" fill=\"#0d0d0f\" height=\"24\" viewbox=\"0 0 24 24\" width=\"24\" xmlns=\"http://www.w3.org/2000/svg\">\n        <g fill=\"inherit\" fill-rule=\"evenodd\" stroke=\"none\" stroke-width=\"1\">\n         <g transform=\"translate(-1403.000000, -755.000000)\">\n          <g transform=\"translate(1410.000000, 762.000000) rotate(45.000000) translate(-1410.000000, -762.000000) translate(1398.000000, 750.000000)\">\n           <g>\n            <rect fill=\"none\" fill-opacity=\"0\" height=\"24\" id=\"bound-box\" opacity=\"0\" width=\"24\" x=\"0\" y=\"0\">\n            </rect>\n            <path d=\"M19.3333333,10.6666667 L13.3333333,10.6666667 L13.3333333,4.66666667 C13.3333333,4.29833333 13.035,4 12.6666667,4 L11.3333333,4 C10.965,4 10.6666667,4.29833333 10.6666667,4.66666667 L10.6666667,10.6666667 L4.66666667,10.6666667 C4.29833333,10.6666667 4,10.965 4,11.3333333 L4,12.6666667 C4,13.035 4.29833333,13.3333333 4.66666667,13.3333333 L10.6666667,13.3333333 L10.6666667,19.3333333 C10.6666667,19.7016667 10.965,20 11.3333333,20 L12.6666667,20 C13.035,20 13.3333333,19.7016667 13.3333333,19.3333333 L13.3333333,13.3333333 L19.3333333,13.3333333 C19.7016667,13.3333333 20,13.035 20,12.6666667 L20,11.3333333 C20,10.965 19.7016667,10.6666667 19.3333333,10.6666667 Z\" fill=\"inherit\" id=\"Path\">\n            </path>\n           </g>\n          </g>\n         </g>\n        </g>\n       </svg>\n      </div>\n     </div>\n     <div class=\"DefaultLayout__StyledLayout-sc-16hmxi6-0 dKmzXq\">\n      <div class=\"Container__StyledContainer-sc-1hznfta-0 UDIGY\">\n       <div class=\"FilterWrappersstyles__StyledRoot-sc-1819eu0-0 jJVzxt\" data-testid=\"page-search\">\n        <div class=\"FilterWrappersstyles__HeadingWrapper-sc-1819eu0-9 fZEiLe\">\n         <div class=\"DisplayHeading__StyledRoot-sc-1q8fv2i-1 eexbcZ\">\n          <div class=\"DisplayHeading__StyledHeading-sc-1q8fv2i-2 eKGWdl\">\n           <h1 class=\"Heading__H2-kksint-1 gcacpp\" color=\"#ffffff\">\n            Marketplace\n           </h1>\n          </div>\n          <div class=\"DisplayHeading__StyledLabel-sc-1q8fv2i-4 hWEwqF\" color=\"#ffffff\">\n          </div>\n         </div>\n        </div>\n        <div class=\"FilterWrappersstyles__StyledSearchBarWrapper-sc-1819eu0-2 KKqWN\">\n         <div class=\"FilterWrappersstyles__StyledInputWrapper-sc-1819eu0-7 jovTGB\">\n          <div class=\"InputSelect-a1epp8-0 oDYLn css-2b097c-container\" id=\"search-tags\">\n           <div class=\"css-1y0sm7w-control\">\n            <div class=\"css-1hwfws3\">\n             <div class=\"css-13jmfyo-multiValue\">\n              <div class=\"css-10ku62j\">\n               Tyler Herro\n              </div>\n              <div class=\"css-5dgs50\">\n               <svg aria-hidden=\"true\" class=\"css-19bqh2r\" focusable=\"false\" height=\"14\" viewbox=\"0 0 20 20\" width=\"14\">\n                <path d=\"M14.348 14.849c-0.469 0.469-1.229 0.469-1.697 0l-2.651-3.030-2.651 3.029c-0.469 0.469-1.229 0.469-1.697 0-0.469-0.469-0.469-1.229 0-1.697l2.758-3.15-2.759-3.152c-0.469-0.469-0.469-1.228 0-1.697s1.228-0.469 1.697 0l2.652 3.031 2.651-3.031c0.469-0.469 1.228-0.469 1.697 0s0.469 1.229 0 1.697l-2.758 3.152 2.758 3.15c0.469 0.469 0.469 1.229 0 1.698z\">\n                </path>\n               </svg>\n              </div>\n             </div>\n             <div class=\"css-1tcjtxz\">\n              <div class=\"\" style=\"display: inline-block;\">\n               <input aria-autocomplete=\"list\" autocapitalize=\"none\" autocomplete=\"off\" autocorrect=\"off\" id=\"react-select-search-tags-input\" spellcheck=\"false\" style=\"box-sizing: content-box; width: 2px; background: 0px center; border: 0px; font-size: inherit; opacity: 1; outline: 0px; padding: 0px; color: inherit;\" tabindex=\"0\" type=\"text\" value=\"\"/>\n               <div style=\"position: absolute; top: 0px; left: 0px; visibility: hidden; height: 0px; overflow: scroll; white-space: pre; font-size: 12px; font-family: Shapiro, sans-serif; font-weight: 400; font-style: normal; letter-spacing: normal; text-transform: none;\">\n               </div>\n              </div>\n             </div>\n            </div>\n            <div class=\"css-1wy0on6\">\n             <div aria-hidden=\"true\" class=\"css-tlfecz-indicatorContainer\">\n              <svg aria-hidden=\"true\" class=\"css-19bqh2r\" focusable=\"false\" height=\"20\" viewbox=\"0 0 20 20\" width=\"20\">\n               <path d=\"M14.348 14.849c-0.469 0.469-1.229 0.469-1.697 0l-2.651-3.030-2.651 3.029c-0.469 0.469-1.229 0.469-1.697 0-0.469-0.469-0.469-1.229 0-1.697l2.758-3.15-2.759-3.152c-0.469-0.469-0.469-1.228 0-1.697s1.228-0.469 1.697 0l2.652 3.031 2.651-3.031c0.469-0.469 1.228-0.469 1.697 0s0.469 1.229 0 1.697l-2.758 3.152 2.758 3.15c0.469 0.469 0.469 1.229 0 1.698z\">\n               </path>\n              </svg>\n             </div>\n             <span class=\"css-1okebmr-indicatorSeparator\">\n             </span>\n             <div aria-hidden=\"true\" class=\"css-tlfecz-indicatorContainer\">\n              <svg class=\"Icon__StyledSvg-sc-1rdji9f-0 fqjHM\" fill=\"#a7aebb\" height=\"16\" viewbox=\"0 0 24 24\" width=\"16\" xmlns=\"http://www.w3.org/2000/svg\">\n               <path d=\"M11.918 15.586L6.137 9.852a.47.47 0 010-.665l.773-.773a.47.47 0 01.664 0l4.676 4.629 4.676-4.629a.47.47 0 01.664 0l.773.774a.47.47 0 010 .664l-5.781 5.734a.47.47 0 01-.664 0z\" fill-rule=\"nonzero\">\n               </path>\n              </svg>\n             </div>\n            </div>\n           </div>\n          </div>\n         </div>\n         <button class=\"ButtonBase__StyledButton-sc-1qgxh2e-0 gjCpfL Button__StyledButton-ig3kkl-1 krHLb\" data-testid=\"filter-button\">\n          <span class=\"text\">\n           Filters\n           <span data-testid=\"filter-count\">\n            (1)\n           </span>\n          </span>\n         </button>\n         <div class=\"FilterWrappersstyles__StyledOrderByWrapper-sc-1819eu0-1 iosMIg\">\n          <label class=\"LabelOrderBy__Label-hp5tyd-0 kNWoYl\" for=\"page-search-order-by\">\n           Sort By\n          </label>\n          <div class=\"Select__Root-gtic5k-0 cfWOFF\">\n           <svg class=\"Icon__StyledSvg-sc-1rdji9f-0 fqjHM Select__StyledAngle-gtic5k-2 jQiBIL\" fill=\"#ffffff\" height=\"16\" viewbox=\"0 0 24 24\" width=\"16\" xmlns=\"http://www.w3.org/2000/svg\">\n            <path d=\"M11.918 15.586L6.137 9.852a.47.47 0 010-.665l.773-.773a.47.47 0 01.664 0l4.676 4.629 4.676-4.629a.47.47 0 01.664 0l.773.774a.47.47 0 010 .664l-5.781 5.734a.47.47 0 01-.664 0z\" fill-rule=\"nonzero\">\n            </path>\n           </svg>\n           <select class=\"Select__StyledSelect-gtic5k-1 hMJUce FilterOrderBy__StyledSelect-v0ekkz-0 kExmnr\" data-testid=\"page-search-order-by\" id=\"page-search-order-by\">\n            <option value=\"UPDATED_AT_DESC\">\n             Listing Date (Newest)\n            </option>\n            <option value=\"UPDATED_AT_ASC\">\n             Listing Date (Oldest)\n            </option>\n            <option value=\"SERIAL_NUMBER_ASC\">\n             Serial number (Lowest)\n            </option>\n            <option value=\"PRICE_USD_ASC\">\n             Lowest Ask (Ascending)\n            </option>\n            <option value=\"PRICE_USD_DESC\">\n             Lowest Ask (Descending)\n            </option>\n            <option value=\"GAME_DATE_ASC\">\n             Game Date (Oldest)\n            </option>\n            <option value=\"GAME_DATE_DESC\">\n             Game Date (Newest)\n            </option>\n           </select>\n          </div>\n         </div>\n        </div>\n        <div class=\"FilterWrappersstyles__StyledFiltersAndMoments-sc-1819eu0-4 cHBlDc\">\n         <div class=\"FilterWrappersstyles__FullWidthWrapper-sc-1819eu0-8 kqpQsm\">\n          <div class=\"FilterWrappersstyles__StyledResultsWrapper-sc-1819eu0-3 cMeeDF\">\n           <div class=\"ThumbnailLayouts__ThumbnailGrid-sc-18xwycr-0 iCffwQ\">\n            <a href=\"/listings/p2p/208ae30a-a4fe-42d4-9e51-e6fd1ad2a7a9+9e4bcaab-0492-4004-a599-4d4b508db2dc\">\n             <div class=\"Thumbnail__StyledThumbnail-sc-1tojpin-0 kAMKVp\">\n              <div class=\"Image__StyledImageWrapper-jm0vhd-0 cvgQAN MomentThumbnail__StyledImage-sc-1b051xk-0 hcGMXV\">\n               <img alt=\"Tyler Herro\" class=\"Image__StyledImage-jm0vhd-1 crAhYf thumbnail-img\" src=\"https://assets.nbatopshot.com/resize/editions/2_base_set_common/9e4bcaab-0492-4004-a599-4d4b508db2dc/play_9e4bcaab-0492-4004-a599-4d4b508db2dc_2_base_set_common_capture_Hero_2880_2880_Black.jpg?width=582\"/>\n              </div>\n              <div class=\"TextContainer__StyledTextContainer-qfpzkm-0 xDxPM MomentThumbnail__StyledTextContainer-sc-1b051xk-2 eKGBha\">\n               <h3 class=\"Title__StyledTitle-vk55y-0 kUfGiv MomentThumbnail__StyledTitle-sc-1b051xk-3 cVTCXt\">\n                Tyler Herro\n               </h3>\n               <p class=\"Description__StyledDescription-uunwk3-0 kinrOa MomentThumbnail__StyledDescription-sc-1b051xk-4 bhZKXY\">\n                3 Pointer - Jan 14 2021, Base Set (Series 2), MIA\n               </p>\n               <h4 class=\"Subtitle__StyledSubtitle-sc-112br97-0 jNwNYO\">\n                <span class=\"MomentThumbnail__StyledRarityTag-sc-1b051xk-6 dfaslz\">\n                 Common\n                </span>\n                <span class=\"MomentThumbnail__StyledScarcityTag-sc-1b051xk-5 lgZZBR\">\n                 #/15000+\n                 <span class=\"TextBadge__Badge-sc-1dlfp4g-0 jCkBYg\" currentitem=\"false\" data-tip=\"Circulating Count: Count may change\">\n                  CC\n                 </span>\n                 <div class=\"__react_component_tooltip td5a3a6e2-3722-49f2-bdcd-1b10bae94e6f place-top type-dark\" data-id=\"tooltip\">\n                  <style>\n                   .td5a3a6e2-3722-49f2-bdcd-1b10bae94e6f {\n\t    color: #fff;\n\t    background: #222;\n\t    border: 1px solid transparent;\n  \t}\n\n  \t.td5a3a6e2-3722-49f2-bdcd-1b10bae94e6f.place-top {\n        margin-top: -10px;\n    }\n    .td5a3a6e2-3722-49f2-bdcd-1b10bae94e6f.place-top::before {\n        border-top: 8px solid transparent;\n    }\n    .td5a3a6e2-3722-49f2-bdcd-1b10bae94e6f.place-top::after {\n        border-left: 8px solid transparent;\n        border-right: 8px solid transparent;\n        bottom: -6px;\n        left: 50%;\n        margin-left: -8px;\n        border-top-color: #222;\n        border-top-style: solid;\n        border-top-width: 6px;\n    }\n\n    .td5a3a6e2-3722-49f2-bdcd-1b10bae94e6f.place-bottom {\n        margin-top: 10px;\n    }\n    .td5a3a6e2-3722-49f2-bdcd-1b10bae94e6f.place-bottom::before {\n        border-bottom: 8px solid transparent;\n    }\n    .td5a3a6e2-3722-49f2-bdcd-1b10bae94e6f.place-bottom::after {\n        border-left: 8px solid transparent;\n        border-right: 8px solid transparent;\n        top: -6px;\n        left: 50%;\n        margin-left: -8px;\n        border-bottom-color: #222;\n        border-bottom-style: solid;\n        border-bottom-width: 6px;\n    }\n\n    .td5a3a6e2-3722-49f2-bdcd-1b10bae94e6f.place-left {\n        margin-left: -10px;\n    }\n    .td5a3a6e2-3722-49f2-bdcd-1b10bae94e6f.place-left::before {\n        border-left: 8px solid transparent;\n    }\n    .td5a3a6e2-3722-49f2-bdcd-1b10bae94e6f.place-left::after {\n        border-top: 5px solid transparent;\n        border-bottom: 5px solid transparent;\n        right: -6px;\n        top: 50%;\n        margin-top: -4px;\n        border-left-color: #222;\n        border-left-style: solid;\n        border-left-width: 6px;\n    }\n\n    .td5a3a6e2-3722-49f2-bdcd-1b10bae94e6f.place-right {\n        margin-left: 10px;\n    }\n    .td5a3a6e2-3722-49f2-bdcd-1b10bae94e6f.place-right::before {\n        border-right: 8px solid transparent;\n    }\n    .td5a3a6e2-3722-49f2-bdcd-1b10bae94e6f.place-right::after {\n        border-top: 5px solid transparent;\n        border-bottom: 5px solid transparent;\n        left: -6px;\n        top: 50%;\n        margin-top: -4px;\n        border-right-color: #222;\n        border-right-style: solid;\n        border-right-width: 6px;\n    }\n                  </style>\n                 </div>\n                </span>\n               </h4>\n               <div class=\"Price__Label-sc-14mok7p-0 bSsReF\">\n                Lowest Ask\n               </div>\n               <div class=\"Price__PriceWrapper-sc-14mok7p-2 JKBnr\">\n                USD $18.00\n               </div>\n               <div class=\"Supply__SupplyWrapper-mkne17-0 ljSVNp\">\n                696 listings\n               </div>\n              </div>\n             </div>\n            </a>\n            <a href=\"/listings/p2p/208ae30a-a4fe-42d4-9e51-e6fd1ad2a7a9+cf62640d-3137-4c53-9149-8e7dc9ccdcc4\">\n             <div class=\"Thumbnail__StyledThumbnail-sc-1tojpin-0 kAMKVp\">\n              <div class=\"Image__StyledImageWrapper-jm0vhd-0 cvgQAN MomentThumbnail__StyledImage-sc-1b051xk-0 hcGMXV\">\n               <img alt=\"Tyler Herro\" class=\"Image__StyledImage-jm0vhd-1 crAhYf thumbnail-img\" src=\"https://assets.nbatopshot.com/resize/editions/2_base_set_common/cf62640d-3137-4c53-9149-8e7dc9ccdcc4/play_cf62640d-3137-4c53-9149-8e7dc9ccdcc4_2_base_set_common_capture_Hero_2880_2880_Black.jpg?width=582\"/>\n              </div>\n              <div class=\"TextContainer__StyledTextContainer-qfpzkm-0 xDxPM MomentThumbnail__StyledTextContainer-sc-1b051xk-2 eKGBha\">\n               <h3 class=\"Title__StyledTitle-vk55y-0 kUfGiv MomentThumbnail__StyledTitle-sc-1b051xk-3 cVTCXt\">\n                Tyler Herro\n               </h3>\n               <p class=\"Description__StyledDescription-uunwk3-0 kinrOa MomentThumbnail__StyledDescription-sc-1b051xk-4 bhZKXY\">\n                3 Pointer - Dec 29 2020, Base Set (Series 2), MIA\n               </p>\n               <h4 class=\"Subtitle__StyledSubtitle-sc-112br97-0 jNwNYO\">\n                <span class=\"MomentThumbnail__StyledRarityTag-sc-1b051xk-6 dfaslz\">\n                 Common\n                </span>\n                <span class=\"MomentThumbnail__StyledScarcityTag-sc-1b051xk-5 lgZZBR\">\n                 #/7500\n                 <span class=\"TextBadge__Badge-sc-1dlfp4g-0 jCkBYg\" currentitem=\"false\" data-tip=\"Limited Edition: Count is final\">\n                  LE\n                 </span>\n                 <div class=\"__react_component_tooltip t39d799a6-999f-4fd0-bc88-ed8990383ac5 place-top type-dark\" data-id=\"tooltip\">\n                  <style>\n                   .t39d799a6-999f-4fd0-bc88-ed8990383ac5 {\n\t    color: #fff;\n\t    background: #222;\n\t    border: 1px solid transparent;\n  \t}\n\n  \t.t39d799a6-999f-4fd0-bc88-ed8990383ac5.place-top {\n        margin-top: -10px;\n    }\n    .t39d799a6-999f-4fd0-bc88-ed8990383ac5.place-top::before {\n        border-top: 8px solid transparent;\n    }\n    .t39d799a6-999f-4fd0-bc88-ed8990383ac5.place-top::after {\n        border-left: 8px solid transparent;\n        border-right: 8px solid transparent;\n        bottom: -6px;\n        left: 50%;\n        margin-left: -8px;\n        border-top-color: #222;\n        border-top-style: solid;\n        border-top-width: 6px;\n    }\n\n    .t39d799a6-999f-4fd0-bc88-ed8990383ac5.place-bottom {\n        margin-top: 10px;\n    }\n    .t39d799a6-999f-4fd0-bc88-ed8990383ac5.place-bottom::before {\n        border-bottom: 8px solid transparent;\n    }\n    .t39d799a6-999f-4fd0-bc88-ed8990383ac5.place-bottom::after {\n        border-left: 8px solid transparent;\n        border-right: 8px solid transparent;\n        top: -6px;\n        left: 50%;\n        margin-left: -8px;\n        border-bottom-color: #222;\n        border-bottom-style: solid;\n        border-bottom-width: 6px;\n    }\n\n    .t39d799a6-999f-4fd0-bc88-ed8990383ac5.place-left {\n        margin-left: -10px;\n    }\n    .t39d799a6-999f-4fd0-bc88-ed8990383ac5.place-left::before {\n        border-left: 8px solid transparent;\n    }\n    .t39d799a6-999f-4fd0-bc88-ed8990383ac5.place-left::after {\n        border-top: 5px solid transparent;\n        border-bottom: 5px solid transparent;\n        right: -6px;\n        top: 50%;\n        margin-top: -4px;\n        border-left-color: #222;\n        border-left-style: solid;\n        border-left-width: 6px;\n    }\n\n    .t39d799a6-999f-4fd0-bc88-ed8990383ac5.place-right {\n        margin-left: 10px;\n    }\n    .t39d799a6-999f-4fd0-bc88-ed8990383ac5.place-right::before {\n        border-right: 8px solid transparent;\n    }\n    .t39d799a6-999f-4fd0-bc88-ed8990383ac5.place-right::after {\n        border-top: 5px solid transparent;\n        border-bottom: 5px solid transparent;\n        left: -6px;\n        top: 50%;\n        margin-top: -4px;\n        border-right-color: #222;\n        border-right-style: solid;\n        border-right-width: 6px;\n    }\n                  </style>\n                 </div>\n                </span>\n               </h4>\n               <div class=\"Price__Label-sc-14mok7p-0 bSsReF\">\n                Lowest Ask\n               </div>\n               <div class=\"Price__PriceWrapper-sc-14mok7p-2 JKBnr\">\n                USD $37.00\n               </div>\n               <div class=\"Supply__SupplyWrapper-mkne17-0 ljSVNp\">\n                1042 listings\n               </div>\n              </div>\n             </div>\n            </a>\n            <a href=\"/listings/p2p/7b797690-5b53-45a7-b972-bd2d5152654a+69fe35b3-57b3-4a69-8ad7-27bdbfae0d1a\">\n             <div class=\"Thumbnail__StyledThumbnail-sc-1tojpin-0 kAMKVp\">\n              <div class=\"Image__StyledImageWrapper-jm0vhd-0 cvgQAN MomentThumbnail__StyledImage-sc-1b051xk-0 hcGMXV\">\n               <img alt=\"Tyler Herro\" class=\"Image__StyledImage-jm0vhd-1 crAhYf thumbnail-img\" src=\"https://assets.nbatopshot.com/resize/editions/1_base_set_common/69fe35b3-57b3-4a69-8ad7-27bdbfae0d1a/play_69fe35b3-57b3-4a69-8ad7-27bdbfae0d1a_1_base_set_common_capture_Hero_2880_2880_Black.jpg?width=582\"/>\n              </div>\n              <div class=\"TextContainer__StyledTextContainer-qfpzkm-0 xDxPM MomentThumbnail__StyledTextContainer-sc-1b051xk-2 eKGBha\">\n               <h3 class=\"Title__StyledTitle-vk55y-0 kUfGiv MomentThumbnail__StyledTitle-sc-1b051xk-3 cVTCXt\">\n                Tyler Herro\n               </h3>\n               <p class=\"Description__StyledDescription-uunwk3-0 kinrOa MomentThumbnail__StyledDescription-sc-1b051xk-4 bhZKXY\">\n                Assist - Sep 8 2020, Base Set (Series 1), MIA\n               </p>\n               <h4 class=\"Subtitle__StyledSubtitle-sc-112br97-0 jNwNYO\">\n                <span class=\"MomentThumbnail__StyledRarityTag-sc-1b051xk-6 dfaslz\">\n                 Common\n                </span>\n                <span class=\"MomentThumbnail__StyledScarcityTag-sc-1b051xk-5 lgZZBR\">\n                 #/2252\n                 <span class=\"TextBadge__Badge-sc-1dlfp4g-0 jCkBYg\" currentitem=\"false\" data-tip=\"Limited Edition: Count is final\">\n                  LE\n                 </span>\n                 <div class=\"__react_component_tooltip t153521f8-512e-4cd8-98f0-5368986e075e place-top type-dark\" data-id=\"tooltip\">\n                  <style>\n                   .t153521f8-512e-4cd8-98f0-5368986e075e {\n\t    color: #fff;\n\t    background: #222;\n\t    border: 1px solid transparent;\n  \t}\n\n  \t.t153521f8-512e-4cd8-98f0-5368986e075e.place-top {\n        margin-top: -10px;\n    }\n    .t153521f8-512e-4cd8-98f0-5368986e075e.place-top::before {\n        border-top: 8px solid transparent;\n    }\n    .t153521f8-512e-4cd8-98f0-5368986e075e.place-top::after {\n        border-left: 8px solid transparent;\n        border-right: 8px solid transparent;\n        bottom: -6px;\n        left: 50%;\n        margin-left: -8px;\n        border-top-color: #222;\n        border-top-style: solid;\n        border-top-width: 6px;\n    }\n\n    .t153521f8-512e-4cd8-98f0-5368986e075e.place-bottom {\n        margin-top: 10px;\n    }\n    .t153521f8-512e-4cd8-98f0-5368986e075e.place-bottom::before {\n        border-bottom: 8px solid transparent;\n    }\n    .t153521f8-512e-4cd8-98f0-5368986e075e.place-bottom::after {\n        border-left: 8px solid transparent;\n        border-right: 8px solid transparent;\n        top: -6px;\n        left: 50%;\n        margin-left: -8px;\n        border-bottom-color: #222;\n        border-bottom-style: solid;\n        border-bottom-width: 6px;\n    }\n\n    .t153521f8-512e-4cd8-98f0-5368986e075e.place-left {\n        margin-left: -10px;\n    }\n    .t153521f8-512e-4cd8-98f0-5368986e075e.place-left::before {\n        border-left: 8px solid transparent;\n    }\n    .t153521f8-512e-4cd8-98f0-5368986e075e.place-left::after {\n        border-top: 5px solid transparent;\n        border-bottom: 5px solid transparent;\n        right: -6px;\n        top: 50%;\n        margin-top: -4px;\n        border-left-color: #222;\n        border-left-style: solid;\n        border-left-width: 6px;\n    }\n\n    .t153521f8-512e-4cd8-98f0-5368986e075e.place-right {\n        margin-left: 10px;\n    }\n    .t153521f8-512e-4cd8-98f0-5368986e075e.place-right::before {\n        border-right: 8px solid transparent;\n    }\n    .t153521f8-512e-4cd8-98f0-5368986e075e.place-right::after {\n        border-top: 5px solid transparent;\n        border-bottom: 5px solid transparent;\n        left: -6px;\n        top: 50%;\n        margin-top: -4px;\n        border-right-color: #222;\n        border-right-style: solid;\n        border-right-width: 6px;\n    }\n                  </style>\n                 </div>\n                </span>\n               </h4>\n               <div class=\"Price__Label-sc-14mok7p-0 bSsReF\">\n                Lowest Ask\n               </div>\n               <div class=\"Price__PriceWrapper-sc-14mok7p-2 JKBnr\">\n                USD $220.00\n               </div>\n               <div class=\"Supply__SupplyWrapper-mkne17-0 ljSVNp\">\n                86 listings\n               </div>\n              </div>\n             </div>\n            </a>\n            <a href=\"/listings/p2p/7b797690-5b53-45a7-b972-bd2d5152654a+815bf3d5-300d-4176-bc53-a89681b57811\">\n             <div class=\"Thumbnail__StyledThumbnail-sc-1tojpin-0 kAMKVp\">\n              <div class=\"Image__StyledImageWrapper-jm0vhd-0 cvgQAN MomentThumbnail__StyledImage-sc-1b051xk-0 hcGMXV\">\n               <img alt=\"Tyler Herro\" class=\"Image__StyledImage-jm0vhd-1 crAhYf thumbnail-img\" src=\"https://assets.nbatopshot.com/resize/editions/1_base_set_common/815bf3d5-300d-4176-bc53-a89681b57811/play_815bf3d5-300d-4176-bc53-a89681b57811_1_base_set_common_capture_Hero_2880_2880_Black.jpg?width=582\"/>\n              </div>\n              <div class=\"TextContainer__StyledTextContainer-qfpzkm-0 xDxPM MomentThumbnail__StyledTextContainer-sc-1b051xk-2 eKGBha\">\n               <h3 class=\"Title__StyledTitle-vk55y-0 kUfGiv MomentThumbnail__StyledTitle-sc-1b051xk-3 cVTCXt\">\n                Tyler Herro\n               </h3>\n               <p class=\"Description__StyledDescription-uunwk3-0 kinrOa MomentThumbnail__StyledDescription-sc-1b051xk-4 bhZKXY\">\n                Jump Shot - Oct 6 2020, Base Set (Series 1), MIA\n               </p>\n               <h4 class=\"Subtitle__StyledSubtitle-sc-112br97-0 jNwNYO\">\n                <span class=\"MomentThumbnail__StyledRarityTag-sc-1b051xk-6 dfaslz\">\n                 Common\n                </span>\n                <span class=\"MomentThumbnail__StyledScarcityTag-sc-1b051xk-5 lgZZBR\">\n                 #/1500\n                 <span class=\"TextBadge__Badge-sc-1dlfp4g-0 jCkBYg\" currentitem=\"false\" data-tip=\"Limited Edition: Count is final\">\n                  LE\n                 </span>\n                 <div class=\"__react_component_tooltip t4baa3379-4039-4f94-865b-db98aafe4dff place-top type-dark\" data-id=\"tooltip\">\n                  <style>\n                   .t4baa3379-4039-4f94-865b-db98aafe4dff {\n\t    color: #fff;\n\t    background: #222;\n\t    border: 1px solid transparent;\n  \t}\n\n  \t.t4baa3379-4039-4f94-865b-db98aafe4dff.place-top {\n        margin-top: -10px;\n    }\n    .t4baa3379-4039-4f94-865b-db98aafe4dff.place-top::before {\n        border-top: 8px solid transparent;\n    }\n    .t4baa3379-4039-4f94-865b-db98aafe4dff.place-top::after {\n        border-left: 8px solid transparent;\n        border-right: 8px solid transparent;\n        bottom: -6px;\n        left: 50%;\n        margin-left: -8px;\n        border-top-color: #222;\n        border-top-style: solid;\n        border-top-width: 6px;\n    }\n\n    .t4baa3379-4039-4f94-865b-db98aafe4dff.place-bottom {\n        margin-top: 10px;\n    }\n    .t4baa3379-4039-4f94-865b-db98aafe4dff.place-bottom::before {\n        border-bottom: 8px solid transparent;\n    }\n    .t4baa3379-4039-4f94-865b-db98aafe4dff.place-bottom::after {\n        border-left: 8px solid transparent;\n        border-right: 8px solid transparent;\n        top: -6px;\n        left: 50%;\n        margin-left: -8px;\n        border-bottom-color: #222;\n        border-bottom-style: solid;\n        border-bottom-width: 6px;\n    }\n\n    .t4baa3379-4039-4f94-865b-db98aafe4dff.place-left {\n        margin-left: -10px;\n    }\n    .t4baa3379-4039-4f94-865b-db98aafe4dff.place-left::before {\n        border-left: 8px solid transparent;\n    }\n    .t4baa3379-4039-4f94-865b-db98aafe4dff.place-left::after {\n        border-top: 5px solid transparent;\n        border-bottom: 5px solid transparent;\n        right: -6px;\n        top: 50%;\n        margin-top: -4px;\n        border-left-color: #222;\n        border-left-style: solid;\n        border-left-width: 6px;\n    }\n\n    .t4baa3379-4039-4f94-865b-db98aafe4dff.place-right {\n        margin-left: 10px;\n    }\n    .t4baa3379-4039-4f94-865b-db98aafe4dff.place-right::before {\n        border-right: 8px solid transparent;\n    }\n    .t4baa3379-4039-4f94-865b-db98aafe4dff.place-right::after {\n        border-top: 5px solid transparent;\n        border-bottom: 5px solid transparent;\n        left: -6px;\n        top: 50%;\n        margin-top: -4px;\n        border-right-color: #222;\n        border-right-style: solid;\n        border-right-width: 6px;\n    }\n                  </style>\n                 </div>\n                </span>\n               </h4>\n               <div class=\"Price__Label-sc-14mok7p-0 bSsReF\">\n                Lowest Ask\n               </div>\n               <div class=\"Price__PriceWrapper-sc-14mok7p-2 JKBnr\">\n                USD $300.00\n               </div>\n               <div class=\"Supply__SupplyWrapper-mkne17-0 ljSVNp\">\n                82 listings\n               </div>\n              </div>\n             </div>\n            </a>\n            <a href=\"/listings/p2p/7b797690-5b53-45a7-b972-bd2d5152654a+0c3621c5-6308-4b19-81f3-47fecf146622\">\n             <div class=\"Thumbnail__StyledThumbnail-sc-1tojpin-0 kAMKVp\">\n              <div class=\"Image__StyledImageWrapper-jm0vhd-0 cvgQAN MomentThumbnail__StyledImage-sc-1b051xk-0 hcGMXV\">\n               <img alt=\"Tyler Herro\" class=\"Image__StyledImage-jm0vhd-1 crAhYf thumbnail-img\" src=\"https://assets.nbatopshot.com/resize/editions/1_base_set_common/0c3621c5-6308-4b19-81f3-47fecf146622/play_0c3621c5-6308-4b19-81f3-47fecf146622_1_base_set_common_capture_Hero_2880_2880_Black.jpg?width=582\"/>\n              </div>\n              <div class=\"TextContainer__StyledTextContainer-qfpzkm-0 xDxPM MomentThumbnail__StyledTextContainer-sc-1b051xk-2 eKGBha\">\n               <h3 class=\"Title__StyledTitle-vk55y-0 kUfGiv MomentThumbnail__StyledTitle-sc-1b051xk-3 cVTCXt\">\n                Tyler Herro\n               </h3>\n               <p class=\"Description__StyledDescription-uunwk3-0 kinrOa MomentThumbnail__StyledDescription-sc-1b051xk-4 bhZKXY\">\n                3 Pointer - Dec 28 2019, Base Set (Series 1), MIA\n               </p>\n               <h4 class=\"Subtitle__StyledSubtitle-sc-112br97-0 jNwNYO\">\n                <span class=\"MomentThumbnail__StyledRarityTag-sc-1b051xk-6 dfaslz\">\n                 Common\n                </span>\n                <span class=\"MomentThumbnail__StyledScarcityTag-sc-1b051xk-5 lgZZBR\">\n                 #/1530\n                 <span class=\"TextBadge__Badge-sc-1dlfp4g-0 jCkBYg\" currentitem=\"false\" data-tip=\"Limited Edition: Count is final\">\n                  LE\n                 </span>\n                 <div class=\"__react_component_tooltip tf8f7f665-2fa4-4c60-abca-8218a4d59c5d place-top type-dark\" data-id=\"tooltip\">\n                  <style>\n                   .tf8f7f665-2fa4-4c60-abca-8218a4d59c5d {\n\t    color: #fff;\n\t    background: #222;\n\t    border: 1px solid transparent;\n  \t}\n\n  \t.tf8f7f665-2fa4-4c60-abca-8218a4d59c5d.place-top {\n        margin-top: -10px;\n    }\n    .tf8f7f665-2fa4-4c60-abca-8218a4d59c5d.place-top::before {\n        border-top: 8px solid transparent;\n    }\n    .tf8f7f665-2fa4-4c60-abca-8218a4d59c5d.place-top::after {\n        border-left: 8px solid transparent;\n        border-right: 8px solid transparent;\n        bottom: -6px;\n        left: 50%;\n        margin-left: -8px;\n        border-top-color: #222;\n        border-top-style: solid;\n        border-top-width: 6px;\n    }\n\n    .tf8f7f665-2fa4-4c60-abca-8218a4d59c5d.place-bottom {\n        margin-top: 10px;\n    }\n    .tf8f7f665-2fa4-4c60-abca-8218a4d59c5d.place-bottom::before {\n        border-bottom: 8px solid transparent;\n    }\n    .tf8f7f665-2fa4-4c60-abca-8218a4d59c5d.place-bottom::after {\n        border-left: 8px solid transparent;\n        border-right: 8px solid transparent;\n        top: -6px;\n        left: 50%;\n        margin-left: -8px;\n        border-bottom-color: #222;\n        border-bottom-style: solid;\n        border-bottom-width: 6px;\n    }\n\n    .tf8f7f665-2fa4-4c60-abca-8218a4d59c5d.place-left {\n        margin-left: -10px;\n    }\n    .tf8f7f665-2fa4-4c60-abca-8218a4d59c5d.place-left::before {\n        border-left: 8px solid transparent;\n    }\n    .tf8f7f665-2fa4-4c60-abca-8218a4d59c5d.place-left::after {\n        border-top: 5px solid transparent;\n        border-bottom: 5px solid transparent;\n        right: -6px;\n        top: 50%;\n        margin-top: -4px;\n        border-left-color: #222;\n        border-left-style: solid;\n        border-left-width: 6px;\n    }\n\n    .tf8f7f665-2fa4-4c60-abca-8218a4d59c5d.place-right {\n        margin-left: 10px;\n    }\n    .tf8f7f665-2fa4-4c60-abca-8218a4d59c5d.place-right::before {\n        border-right: 8px solid transparent;\n    }\n    .tf8f7f665-2fa4-4c60-abca-8218a4d59c5d.place-right::after {\n        border-top: 5px solid transparent;\n        border-bottom: 5px solid transparent;\n        left: -6px;\n        top: 50%;\n        margin-top: -4px;\n        border-right-color: #222;\n        border-right-style: solid;\n        border-right-width: 6px;\n    }\n                  </style>\n                 </div>\n                </span>\n               </h4>\n               <div class=\"Price__Label-sc-14mok7p-0 bSsReF\">\n                Lowest Ask\n               </div>\n               <div class=\"Price__PriceWrapper-sc-14mok7p-2 JKBnr\">\n                USD $349.00\n               </div>\n               <div class=\"Supply__SupplyWrapper-mkne17-0 ljSVNp\">\n                82 listings\n               </div>\n              </div>\n             </div>\n            </a>\n            <a href=\"/listings/p2p/33a4a3a3-a32c-4925-a4e8-7d24e56b105e+3dbb56b9-c612-470a-83b1-72f795a56c52\">\n             <div class=\"Thumbnail__StyledThumbnail-sc-1tojpin-0 kAMKVp\">\n              <div class=\"Image__StyledImageWrapper-jm0vhd-0 cvgQAN MomentThumbnail__StyledImage-sc-1b051xk-0 hcGMXV\">\n               <img alt=\"Tyler Herro\" class=\"Image__StyledImage-jm0vhd-1 crAhYf thumbnail-img\" src=\"https://assets.nbatopshot.com/resize/editions/2_metallic_gold_le_rare/3dbb56b9-c612-470a-83b1-72f795a56c52/play_3dbb56b9-c612-470a-83b1-72f795a56c52_2_metallic_gold_le_rare_capture_Hero_2880_2880_Black.jpg?width=582\"/>\n              </div>\n              <div class=\"TextContainer__StyledTextContainer-qfpzkm-0 xDxPM MomentThumbnail__StyledTextContainer-sc-1b051xk-2 eKGBha\">\n               <h3 class=\"Title__StyledTitle-vk55y-0 kUfGiv MomentThumbnail__StyledTitle-sc-1b051xk-3 cVTCXt\">\n                Tyler Herro\n               </h3>\n               <p class=\"Description__StyledDescription-uunwk3-0 kinrOa MomentThumbnail__StyledDescription-sc-1b051xk-4 bhZKXY\">\n                Jump Shot - Dec 29 2020, Metallic Gold LE (Series 2), MIA\n               </p>\n               <h4 class=\"Subtitle__StyledSubtitle-sc-112br97-0 jNwNYO\">\n                <span class=\"MomentThumbnail__StyledRarityTag-sc-1b051xk-6 dfaslz\">\n                 Rare\n                </span>\n                <span class=\"MomentThumbnail__StyledScarcityTag-sc-1b051xk-5 lgZZBR\">\n                 #/499\n                 <span class=\"TextBadge__Badge-sc-1dlfp4g-0 jCkBYg\" currentitem=\"false\" data-tip=\"Limited Edition: Count is final\">\n                  LE\n                 </span>\n                 <div class=\"__react_component_tooltip t9a2324df-28ee-4b97-a0a0-51215a536128 place-top type-dark\" data-id=\"tooltip\">\n                  <style>\n                   .t9a2324df-28ee-4b97-a0a0-51215a536128 {\n\t    color: #fff;\n\t    background: #222;\n\t    border: 1px solid transparent;\n  \t}\n\n  \t.t9a2324df-28ee-4b97-a0a0-51215a536128.place-top {\n        margin-top: -10px;\n    }\n    .t9a2324df-28ee-4b97-a0a0-51215a536128.place-top::before {\n        border-top: 8px solid transparent;\n    }\n    .t9a2324df-28ee-4b97-a0a0-51215a536128.place-top::after {\n        border-left: 8px solid transparent;\n        border-right: 8px solid transparent;\n        bottom: -6px;\n        left: 50%;\n        margin-left: -8px;\n        border-top-color: #222;\n        border-top-style: solid;\n        border-top-width: 6px;\n    }\n\n    .t9a2324df-28ee-4b97-a0a0-51215a536128.place-bottom {\n        margin-top: 10px;\n    }\n    .t9a2324df-28ee-4b97-a0a0-51215a536128.place-bottom::before {\n        border-bottom: 8px solid transparent;\n    }\n    .t9a2324df-28ee-4b97-a0a0-51215a536128.place-bottom::after {\n        border-left: 8px solid transparent;\n        border-right: 8px solid transparent;\n        top: -6px;\n        left: 50%;\n        margin-left: -8px;\n        border-bottom-color: #222;\n        border-bottom-style: solid;\n        border-bottom-width: 6px;\n    }\n\n    .t9a2324df-28ee-4b97-a0a0-51215a536128.place-left {\n        margin-left: -10px;\n    }\n    .t9a2324df-28ee-4b97-a0a0-51215a536128.place-left::before {\n        border-left: 8px solid transparent;\n    }\n    .t9a2324df-28ee-4b97-a0a0-51215a536128.place-left::after {\n        border-top: 5px solid transparent;\n        border-bottom: 5px solid transparent;\n        right: -6px;\n        top: 50%;\n        margin-top: -4px;\n        border-left-color: #222;\n        border-left-style: solid;\n        border-left-width: 6px;\n    }\n\n    .t9a2324df-28ee-4b97-a0a0-51215a536128.place-right {\n        margin-left: 10px;\n    }\n    .t9a2324df-28ee-4b97-a0a0-51215a536128.place-right::before {\n        border-right: 8px solid transparent;\n    }\n    .t9a2324df-28ee-4b97-a0a0-51215a536128.place-right::after {\n        border-top: 5px solid transparent;\n        border-bottom: 5px solid transparent;\n        left: -6px;\n        top: 50%;\n        margin-top: -4px;\n        border-right-color: #222;\n        border-right-style: solid;\n        border-right-width: 6px;\n    }\n                  </style>\n                 </div>\n                </span>\n               </h4>\n               <div class=\"Price__Label-sc-14mok7p-0 bSsReF\">\n                Lowest Ask\n               </div>\n               <div class=\"Price__PriceWrapper-sc-14mok7p-2 JKBnr\">\n                USD $1100.00\n               </div>\n               <div class=\"Supply__SupplyWrapper-mkne17-0 ljSVNp\">\n                12 listings\n               </div>\n              </div>\n             </div>\n            </a>\n            <a href=\"/listings/p2p/9c8202c7-698b-4f44-b029-b70ddc49e9dc+75bb9eeb-0277-4aba-bdbf-39508b608f85\">\n             <div class=\"Thumbnail__StyledThumbnail-sc-1tojpin-0 kAMKVp\">\n              <div class=\"Image__StyledImageWrapper-jm0vhd-0 cvgQAN MomentThumbnail__StyledImage-sc-1b051xk-0 hcGMXV\">\n               <img alt=\"Tyler Herro\" class=\"Image__StyledImage-jm0vhd-1 crAhYf thumbnail-img\" src=\"https://assets.nbatopshot.com/resize/editions/1_eastern_conference_finals_rare/75bb9eeb-0277-4aba-bdbf-39508b608f85/play_75bb9eeb-0277-4aba-bdbf-39508b608f85_1_eastern_conference_finals_rare_capture_Hero_2880_2880_Black.jpg?width=582\"/>\n              </div>\n              <div class=\"TextContainer__StyledTextContainer-qfpzkm-0 xDxPM MomentThumbnail__StyledTextContainer-sc-1b051xk-2 eKGBha\">\n               <h3 class=\"Title__StyledTitle-vk55y-0 kUfGiv MomentThumbnail__StyledTitle-sc-1b051xk-3 cVTCXt\">\n                Tyler Herro\n               </h3>\n               <p class=\"Description__StyledDescription-uunwk3-0 kinrOa MomentThumbnail__StyledDescription-sc-1b051xk-4 bhZKXY\">\n                Layup - Sep 27 2020, Eastern Conference Finals (Series 1), MIA\n               </p>\n               <h4 class=\"Subtitle__StyledSubtitle-sc-112br97-0 jNwNYO\">\n                <span class=\"MomentThumbnail__StyledRarityTag-sc-1b051xk-6 dfaslz\">\n                 Rare\n                </span>\n                <span class=\"MomentThumbnail__StyledScarcityTag-sc-1b051xk-5 lgZZBR\">\n                 #/999\n                 <span class=\"TextBadge__Badge-sc-1dlfp4g-0 jCkBYg\" currentitem=\"false\" data-tip=\"Limited Edition: Count is final\">\n                  LE\n                 </span>\n                 <div class=\"__react_component_tooltip t05828ed9-aa29-46bf-9be1-21c4739be9a0 place-top type-dark\" data-id=\"tooltip\">\n                  <style>\n                   .t05828ed9-aa29-46bf-9be1-21c4739be9a0 {\n\t    color: #fff;\n\t    background: #222;\n\t    border: 1px solid transparent;\n  \t}\n\n  \t.t05828ed9-aa29-46bf-9be1-21c4739be9a0.place-top {\n        margin-top: -10px;\n    }\n    .t05828ed9-aa29-46bf-9be1-21c4739be9a0.place-top::before {\n        border-top: 8px solid transparent;\n    }\n    .t05828ed9-aa29-46bf-9be1-21c4739be9a0.place-top::after {\n        border-left: 8px solid transparent;\n        border-right: 8px solid transparent;\n        bottom: -6px;\n        left: 50%;\n        margin-left: -8px;\n        border-top-color: #222;\n        border-top-style: solid;\n        border-top-width: 6px;\n    }\n\n    .t05828ed9-aa29-46bf-9be1-21c4739be9a0.place-bottom {\n        margin-top: 10px;\n    }\n    .t05828ed9-aa29-46bf-9be1-21c4739be9a0.place-bottom::before {\n        border-bottom: 8px solid transparent;\n    }\n    .t05828ed9-aa29-46bf-9be1-21c4739be9a0.place-bottom::after {\n        border-left: 8px solid transparent;\n        border-right: 8px solid transparent;\n        top: -6px;\n        left: 50%;\n        margin-left: -8px;\n        border-bottom-color: #222;\n        border-bottom-style: solid;\n        border-bottom-width: 6px;\n    }\n\n    .t05828ed9-aa29-46bf-9be1-21c4739be9a0.place-left {\n        margin-left: -10px;\n    }\n    .t05828ed9-aa29-46bf-9be1-21c4739be9a0.place-left::before {\n        border-left: 8px solid transparent;\n    }\n    .t05828ed9-aa29-46bf-9be1-21c4739be9a0.place-left::after {\n        border-top: 5px solid transparent;\n        border-bottom: 5px solid transparent;\n        right: -6px;\n        top: 50%;\n        margin-top: -4px;\n        border-left-color: #222;\n        border-left-style: solid;\n        border-left-width: 6px;\n    }\n\n    .t05828ed9-aa29-46bf-9be1-21c4739be9a0.place-right {\n        margin-left: 10px;\n    }\n    .t05828ed9-aa29-46bf-9be1-21c4739be9a0.place-right::before {\n        border-right: 8px solid transparent;\n    }\n    .t05828ed9-aa29-46bf-9be1-21c4739be9a0.place-right::after {\n        border-top: 5px solid transparent;\n        border-bottom: 5px solid transparent;\n        left: -6px;\n        top: 50%;\n        margin-top: -4px;\n        border-right-color: #222;\n        border-right-style: solid;\n        border-right-width: 6px;\n    }\n                  </style>\n                 </div>\n                </span>\n               </h4>\n               <div class=\"Price__Label-sc-14mok7p-0 bSsReF\">\n                Lowest Ask\n               </div>\n               <div class=\"Price__PriceWrapper-sc-14mok7p-2 JKBnr\">\n                USD $1411.00\n               </div>\n               <div class=\"Supply__SupplyWrapper-mkne17-0 ljSVNp\">\n                28 listings\n               </div>\n              </div>\n             </div>\n            </a>\n            <a href=\"/listings/p2p/9c8202c7-698b-4f44-b029-b70ddc49e9dc+3ac7ba42-2ee7-4093-973a-37ffc8ea22b2\">\n             <div class=\"Thumbnail__StyledThumbnail-sc-1tojpin-0 kAMKVp\">\n              <div class=\"Image__StyledImageWrapper-jm0vhd-0 cvgQAN MomentThumbnail__StyledImage-sc-1b051xk-0 hcGMXV\">\n               <img alt=\"Tyler Herro\" class=\"Image__StyledImage-jm0vhd-1 crAhYf thumbnail-img\" src=\"https://assets.nbatopshot.com/resize/editions/1_eastern_conference_finals_rare/3ac7ba42-2ee7-4093-973a-37ffc8ea22b2/play_3ac7ba42-2ee7-4093-973a-37ffc8ea22b2_1_eastern_conference_finals_rare_capture_Hero_2880_2880_Black.jpg?width=582\"/>\n              </div>\n              <div class=\"TextContainer__StyledTextContainer-qfpzkm-0 xDxPM MomentThumbnail__StyledTextContainer-sc-1b051xk-2 eKGBha\">\n               <h3 class=\"Title__StyledTitle-vk55y-0 kUfGiv MomentThumbnail__StyledTitle-sc-1b051xk-3 cVTCXt\">\n                Tyler Herro\n               </h3>\n               <p class=\"Description__StyledDescription-uunwk3-0 kinrOa MomentThumbnail__StyledDescription-sc-1b051xk-4 bhZKXY\">\n                Layup - Sep 23 2020, Eastern Conference Finals (Series 1), MIA\n               </p>\n               <h4 class=\"Subtitle__StyledSubtitle-sc-112br97-0 jNwNYO\">\n                <span class=\"MomentThumbnail__StyledRarityTag-sc-1b051xk-6 dfaslz\">\n                 Rare\n                </span>\n                <span class=\"MomentThumbnail__StyledScarcityTag-sc-1b051xk-5 lgZZBR\">\n                 #/151\n                 <span class=\"TextBadge__Badge-sc-1dlfp4g-0 jCkBYg\" currentitem=\"false\" data-tip=\"Limited Edition: Count is final\">\n                  LE\n                 </span>\n                 <div class=\"__react_component_tooltip td29fda97-287c-40a9-bf7a-ebfdf9dcc281 place-top type-dark\" data-id=\"tooltip\">\n                  <style>\n                   .td29fda97-287c-40a9-bf7a-ebfdf9dcc281 {\n\t    color: #fff;\n\t    background: #222;\n\t    border: 1px solid transparent;\n  \t}\n\n  \t.td29fda97-287c-40a9-bf7a-ebfdf9dcc281.place-top {\n        margin-top: -10px;\n    }\n    .td29fda97-287c-40a9-bf7a-ebfdf9dcc281.place-top::before {\n        border-top: 8px solid transparent;\n    }\n    .td29fda97-287c-40a9-bf7a-ebfdf9dcc281.place-top::after {\n        border-left: 8px solid transparent;\n        border-right: 8px solid transparent;\n        bottom: -6px;\n        left: 50%;\n        margin-left: -8px;\n        border-top-color: #222;\n        border-top-style: solid;\n        border-top-width: 6px;\n    }\n\n    .td29fda97-287c-40a9-bf7a-ebfdf9dcc281.place-bottom {\n        margin-top: 10px;\n    }\n    .td29fda97-287c-40a9-bf7a-ebfdf9dcc281.place-bottom::before {\n        border-bottom: 8px solid transparent;\n    }\n    .td29fda97-287c-40a9-bf7a-ebfdf9dcc281.place-bottom::after {\n        border-left: 8px solid transparent;\n        border-right: 8px solid transparent;\n        top: -6px;\n        left: 50%;\n        margin-left: -8px;\n        border-bottom-color: #222;\n        border-bottom-style: solid;\n        border-bottom-width: 6px;\n    }\n\n    .td29fda97-287c-40a9-bf7a-ebfdf9dcc281.place-left {\n        margin-left: -10px;\n    }\n    .td29fda97-287c-40a9-bf7a-ebfdf9dcc281.place-left::before {\n        border-left: 8px solid transparent;\n    }\n    .td29fda97-287c-40a9-bf7a-ebfdf9dcc281.place-left::after {\n        border-top: 5px solid transparent;\n        border-bottom: 5px solid transparent;\n        right: -6px;\n        top: 50%;\n        margin-top: -4px;\n        border-left-color: #222;\n        border-left-style: solid;\n        border-left-width: 6px;\n    }\n\n    .td29fda97-287c-40a9-bf7a-ebfdf9dcc281.place-right {\n        margin-left: 10px;\n    }\n    .td29fda97-287c-40a9-bf7a-ebfdf9dcc281.place-right::before {\n        border-right: 8px solid transparent;\n    }\n    .td29fda97-287c-40a9-bf7a-ebfdf9dcc281.place-right::after {\n        border-top: 5px solid transparent;\n        border-bottom: 5px solid transparent;\n        left: -6px;\n        top: 50%;\n        margin-top: -4px;\n        border-right-color: #222;\n        border-right-style: solid;\n        border-right-width: 6px;\n    }\n                  </style>\n                 </div>\n                </span>\n               </h4>\n               <div class=\"Price__Label-sc-14mok7p-0 bSsReF\">\n                Lowest Ask\n               </div>\n               <div class=\"Price__PriceWrapper-sc-14mok7p-2 JKBnr\">\n                USD $1875.00\n               </div>\n               <div class=\"Supply__SupplyWrapper-mkne17-0 ljSVNp\">\n                18 listings\n               </div>\n              </div>\n             </div>\n            </a>\n            <a href=\"/listings/p2p/12a8288a-addc-4e5c-8af7-b3ba6e5161d4+0c3621c5-6308-4b19-81f3-47fecf146622\">\n             <div class=\"Thumbnail__StyledThumbnail-sc-1tojpin-0 kAMKVp\">\n              <div class=\"Image__StyledImageWrapper-jm0vhd-0 cvgQAN MomentThumbnail__StyledImage-sc-1b051xk-0 hcGMXV\">\n               <img alt=\"Tyler Herro\" class=\"Image__StyledImage-jm0vhd-1 crAhYf thumbnail-img\" src=\"https://assets.nbatopshot.com/resize/editions/1_metallic_gold_le_rare/0c3621c5-6308-4b19-81f3-47fecf146622/play_0c3621c5-6308-4b19-81f3-47fecf146622_1_metallic_gold_le_rare_capture_Hero_2880_2880_Black.jpg?width=582\"/>\n              </div>\n              <div class=\"TextContainer__StyledTextContainer-qfpzkm-0 xDxPM MomentThumbnail__StyledTextContainer-sc-1b051xk-2 eKGBha\">\n               <h3 class=\"Title__StyledTitle-vk55y-0 kUfGiv MomentThumbnail__StyledTitle-sc-1b051xk-3 cVTCXt\">\n                Tyler Herro\n               </h3>\n               <p class=\"Description__StyledDescription-uunwk3-0 kinrOa MomentThumbnail__StyledDescription-sc-1b051xk-4 bhZKXY\">\n                3 Pointer - Dec 28 2019, Metallic Gold LE (Series 1), MIA\n               </p>\n               <h4 class=\"Subtitle__StyledSubtitle-sc-112br97-0 jNwNYO\">\n                <span class=\"MomentThumbnail__StyledRarityTag-sc-1b051xk-6 dfaslz\">\n                 Rare\n                </span>\n                <span class=\"MomentThumbnail__StyledScarcityTag-sc-1b051xk-5 lgZZBR\">\n                 #/299\n                 <span class=\"TextBadge__Badge-sc-1dlfp4g-0 jCkBYg\" currentitem=\"false\" data-tip=\"Limited Edition: Count is final\">\n                  LE\n                 </span>\n                 <div class=\"__react_component_tooltip t0251806d-b41b-46da-914c-209c257d0d7f place-top type-dark\" data-id=\"tooltip\">\n                  <style>\n                   .t0251806d-b41b-46da-914c-209c257d0d7f {\n\t    color: #fff;\n\t    background: #222;\n\t    border: 1px solid transparent;\n  \t}\n\n  \t.t0251806d-b41b-46da-914c-209c257d0d7f.place-top {\n        margin-top: -10px;\n    }\n    .t0251806d-b41b-46da-914c-209c257d0d7f.place-top::before {\n        border-top: 8px solid transparent;\n    }\n    .t0251806d-b41b-46da-914c-209c257d0d7f.place-top::after {\n        border-left: 8px solid transparent;\n        border-right: 8px solid transparent;\n        bottom: -6px;\n        left: 50%;\n        margin-left: -8px;\n        border-top-color: #222;\n        border-top-style: solid;\n        border-top-width: 6px;\n    }\n\n    .t0251806d-b41b-46da-914c-209c257d0d7f.place-bottom {\n        margin-top: 10px;\n    }\n    .t0251806d-b41b-46da-914c-209c257d0d7f.place-bottom::before {\n        border-bottom: 8px solid transparent;\n    }\n    .t0251806d-b41b-46da-914c-209c257d0d7f.place-bottom::after {\n        border-left: 8px solid transparent;\n        border-right: 8px solid transparent;\n        top: -6px;\n        left: 50%;\n        margin-left: -8px;\n        border-bottom-color: #222;\n        border-bottom-style: solid;\n        border-bottom-width: 6px;\n    }\n\n    .t0251806d-b41b-46da-914c-209c257d0d7f.place-left {\n        margin-left: -10px;\n    }\n    .t0251806d-b41b-46da-914c-209c257d0d7f.place-left::before {\n        border-left: 8px solid transparent;\n    }\n    .t0251806d-b41b-46da-914c-209c257d0d7f.place-left::after {\n        border-top: 5px solid transparent;\n        border-bottom: 5px solid transparent;\n        right: -6px;\n        top: 50%;\n        margin-top: -4px;\n        border-left-color: #222;\n        border-left-style: solid;\n        border-left-width: 6px;\n    }\n\n    .t0251806d-b41b-46da-914c-209c257d0d7f.place-right {\n        margin-left: 10px;\n    }\n    .t0251806d-b41b-46da-914c-209c257d0d7f.place-right::before {\n        border-right: 8px solid transparent;\n    }\n    .t0251806d-b41b-46da-914c-209c257d0d7f.place-right::after {\n        border-top: 5px solid transparent;\n        border-bottom: 5px solid transparent;\n        left: -6px;\n        top: 50%;\n        margin-top: -4px;\n        border-right-color: #222;\n        border-right-style: solid;\n        border-right-width: 6px;\n    }\n                  </style>\n                 </div>\n                </span>\n               </h4>\n               <div class=\"Price__Label-sc-14mok7p-0 bSsReF\">\n                Lowest Ask\n               </div>\n               <div class=\"Price__PriceWrapper-sc-14mok7p-2 JKBnr\">\n                USD $1949.00\n               </div>\n               <div class=\"Supply__SupplyWrapper-mkne17-0 ljSVNp\">\n                19 listings\n               </div>\n              </div>\n             </div>\n            </a>\n            <a href=\"/listings/p2p/18b2d80e-d38d-4678-9b7f-c2bfb223259e+0c3621c5-6308-4b19-81f3-47fecf146622\">\n             <div class=\"Thumbnail__StyledThumbnail-sc-1tojpin-0 kAMKVp\">\n              <div class=\"Image__StyledImageWrapper-jm0vhd-0 cvgQAN MomentThumbnail__StyledImage-sc-1b051xk-0 hcGMXV\">\n               <img alt=\"Tyler Herro\" class=\"Image__StyledImage-jm0vhd-1 crAhYf thumbnail-img\" src=\"https://assets.nbatopshot.com/resize/editions/1_rookie_debut_rare/0c3621c5-6308-4b19-81f3-47fecf146622/play_0c3621c5-6308-4b19-81f3-47fecf146622_1_rookie_debut_rare_capture_Hero_2880_2880_Black.jpg?width=582\"/>\n              </div>\n              <div class=\"TextContainer__StyledTextContainer-qfpzkm-0 xDxPM MomentThumbnail__StyledTextContainer-sc-1b051xk-2 eKGBha\">\n               <h3 class=\"Title__StyledTitle-vk55y-0 kUfGiv MomentThumbnail__StyledTitle-sc-1b051xk-3 cVTCXt\">\n                Tyler Herro\n               </h3>\n               <p class=\"Description__StyledDescription-uunwk3-0 kinrOa MomentThumbnail__StyledDescription-sc-1b051xk-4 bhZKXY\">\n                3 Pointer - Dec 28 2019, Rookie Debut (Series 1), MIA\n               </p>\n               <h4 class=\"Subtitle__StyledSubtitle-sc-112br97-0 jNwNYO\">\n                <span class=\"MomentThumbnail__StyledRarityTag-sc-1b051xk-6 dfaslz\">\n                 Rare\n                </span>\n                <span class=\"MomentThumbnail__StyledScarcityTag-sc-1b051xk-5 lgZZBR\">\n                 #/250\n                 <span class=\"TextBadge__Badge-sc-1dlfp4g-0 jCkBYg\" currentitem=\"false\" data-tip=\"Limited Edition: Count is final\">\n                  LE\n                 </span>\n                 <div class=\"__react_component_tooltip te34fec2b-f6f0-425f-b82a-f8336c6a87d0 place-top type-dark\" data-id=\"tooltip\">\n                  <style>\n                   .te34fec2b-f6f0-425f-b82a-f8336c6a87d0 {\n\t    color: #fff;\n\t    background: #222;\n\t    border: 1px solid transparent;\n  \t}\n\n  \t.te34fec2b-f6f0-425f-b82a-f8336c6a87d0.place-top {\n        margin-top: -10px;\n    }\n    .te34fec2b-f6f0-425f-b82a-f8336c6a87d0.place-top::before {\n        border-top: 8px solid transparent;\n    }\n    .te34fec2b-f6f0-425f-b82a-f8336c6a87d0.place-top::after {\n        border-left: 8px solid transparent;\n        border-right: 8px solid transparent;\n        bottom: -6px;\n        left: 50%;\n        margin-left: -8px;\n        border-top-color: #222;\n        border-top-style: solid;\n        border-top-width: 6px;\n    }\n\n    .te34fec2b-f6f0-425f-b82a-f8336c6a87d0.place-bottom {\n        margin-top: 10px;\n    }\n    .te34fec2b-f6f0-425f-b82a-f8336c6a87d0.place-bottom::before {\n        border-bottom: 8px solid transparent;\n    }\n    .te34fec2b-f6f0-425f-b82a-f8336c6a87d0.place-bottom::after {\n        border-left: 8px solid transparent;\n        border-right: 8px solid transparent;\n        top: -6px;\n        left: 50%;\n        margin-left: -8px;\n        border-bottom-color: #222;\n        border-bottom-style: solid;\n        border-bottom-width: 6px;\n    }\n\n    .te34fec2b-f6f0-425f-b82a-f8336c6a87d0.place-left {\n        margin-left: -10px;\n    }\n    .te34fec2b-f6f0-425f-b82a-f8336c6a87d0.place-left::before {\n        border-left: 8px solid transparent;\n    }\n    .te34fec2b-f6f0-425f-b82a-f8336c6a87d0.place-left::after {\n        border-top: 5px solid transparent;\n        border-bottom: 5px solid transparent;\n        right: -6px;\n        top: 50%;\n        margin-top: -4px;\n        border-left-color: #222;\n        border-left-style: solid;\n        border-left-width: 6px;\n    }\n\n    .te34fec2b-f6f0-425f-b82a-f8336c6a87d0.place-right {\n        margin-left: 10px;\n    }\n    .te34fec2b-f6f0-425f-b82a-f8336c6a87d0.place-right::before {\n        border-right: 8px solid transparent;\n    }\n    .te34fec2b-f6f0-425f-b82a-f8336c6a87d0.place-right::after {\n        border-top: 5px solid transparent;\n        border-bottom: 5px solid transparent;\n        left: -6px;\n        top: 50%;\n        margin-top: -4px;\n        border-right-color: #222;\n        border-right-style: solid;\n        border-right-width: 6px;\n    }\n                  </style>\n                 </div>\n                </span>\n               </h4>\n               <div class=\"Price__Label-sc-14mok7p-0 bSsReF\">\n                Lowest Ask\n               </div>\n               <div class=\"Price__PriceWrapper-sc-14mok7p-2 JKBnr\">\n                USD $3050.00\n               </div>\n               <div class=\"Supply__SupplyWrapper-mkne17-0 ljSVNp\">\n                30 listings\n               </div>\n              </div>\n             </div>\n            </a>\n            <a href=\"/listings/p2p/320cae53-d585-4e74-8a66-404fa3543c19+2d0a9278-d9de-436f-82c6-ad70ec52a545\">\n             <div class=\"Thumbnail__StyledThumbnail-sc-1tojpin-0 kAMKVp\">\n              <div class=\"Image__StyledImageWrapper-jm0vhd-0 cvgQAN MomentThumbnail__StyledImage-sc-1b051xk-0 hcGMXV\">\n               <img alt=\"Tyler Herro\" class=\"Image__StyledImage-jm0vhd-1 crAhYf thumbnail-img\" src=\"https://assets.nbatopshot.com/resize/editions/1_2020_nba_finals_legendary/2d0a9278-d9de-436f-82c6-ad70ec52a545/play_2d0a9278-d9de-436f-82c6-ad70ec52a545_1_2020_nba_finals_legendary_capture_Hero_2880_2880_Black.jpg?width=582\"/>\n              </div>\n              <div class=\"TextContainer__StyledTextContainer-qfpzkm-0 xDxPM MomentThumbnail__StyledTextContainer-sc-1b051xk-2 eKGBha\">\n               <h3 class=\"Title__StyledTitle-vk55y-0 kUfGiv MomentThumbnail__StyledTitle-sc-1b051xk-3 cVTCXt\">\n                Tyler Herro\n               </h3>\n               <p class=\"Description__StyledDescription-uunwk3-0 kinrOa MomentThumbnail__StyledDescription-sc-1b051xk-4 bhZKXY\">\n                Layup - Oct 4 2020, 2020 NBA Finals (Series 1), MIA\n               </p>\n               <h4 class=\"Subtitle__StyledSubtitle-sc-112br97-0 jNwNYO\">\n                <span class=\"MomentThumbnail__StyledRarityTag-sc-1b051xk-6 dfaslz\">\n                 Legendary\n                </span>\n                <span class=\"MomentThumbnail__StyledScarcityTag-sc-1b051xk-5 lgZZBR\">\n                 #/79\n                 <span class=\"TextBadge__Badge-sc-1dlfp4g-0 jCkBYg\" currentitem=\"false\" data-tip=\"Limited Edition: Count is final\">\n                  LE\n                 </span>\n                 <div class=\"__react_component_tooltip tc1eac717-f7dc-4e50-9ecf-2d77e5987be7 place-top type-dark\" data-id=\"tooltip\">\n                  <style>\n                   .tc1eac717-f7dc-4e50-9ecf-2d77e5987be7 {\n\t    color: #fff;\n\t    background: #222;\n\t    border: 1px solid transparent;\n  \t}\n\n  \t.tc1eac717-f7dc-4e50-9ecf-2d77e5987be7.place-top {\n        margin-top: -10px;\n    }\n    .tc1eac717-f7dc-4e50-9ecf-2d77e5987be7.place-top::before {\n        border-top: 8px solid transparent;\n    }\n    .tc1eac717-f7dc-4e50-9ecf-2d77e5987be7.place-top::after {\n        border-left: 8px solid transparent;\n        border-right: 8px solid transparent;\n        bottom: -6px;\n        left: 50%;\n        margin-left: -8px;\n        border-top-color: #222;\n        border-top-style: solid;\n        border-top-width: 6px;\n    }\n\n    .tc1eac717-f7dc-4e50-9ecf-2d77e5987be7.place-bottom {\n        margin-top: 10px;\n    }\n    .tc1eac717-f7dc-4e50-9ecf-2d77e5987be7.place-bottom::before {\n        border-bottom: 8px solid transparent;\n    }\n    .tc1eac717-f7dc-4e50-9ecf-2d77e5987be7.place-bottom::after {\n        border-left: 8px solid transparent;\n        border-right: 8px solid transparent;\n        top: -6px;\n        left: 50%;\n        margin-left: -8px;\n        border-bottom-color: #222;\n        border-bottom-style: solid;\n        border-bottom-width: 6px;\n    }\n\n    .tc1eac717-f7dc-4e50-9ecf-2d77e5987be7.place-left {\n        margin-left: -10px;\n    }\n    .tc1eac717-f7dc-4e50-9ecf-2d77e5987be7.place-left::before {\n        border-left: 8px solid transparent;\n    }\n    .tc1eac717-f7dc-4e50-9ecf-2d77e5987be7.place-left::after {\n        border-top: 5px solid transparent;\n        border-bottom: 5px solid transparent;\n        right: -6px;\n        top: 50%;\n        margin-top: -4px;\n        border-left-color: #222;\n        border-left-style: solid;\n        border-left-width: 6px;\n    }\n\n    .tc1eac717-f7dc-4e50-9ecf-2d77e5987be7.place-right {\n        margin-left: 10px;\n    }\n    .tc1eac717-f7dc-4e50-9ecf-2d77e5987be7.place-right::before {\n        border-right: 8px solid transparent;\n    }\n    .tc1eac717-f7dc-4e50-9ecf-2d77e5987be7.place-right::after {\n        border-top: 5px solid transparent;\n        border-bottom: 5px solid transparent;\n        left: -6px;\n        top: 50%;\n        margin-top: -4px;\n        border-right-color: #222;\n        border-right-style: solid;\n        border-right-width: 6px;\n    }\n                  </style>\n                 </div>\n                </span>\n               </h4>\n               <div class=\"Price__Label-sc-14mok7p-0 bSsReF\">\n                Lowest Ask\n               </div>\n               <div class=\"Price__PriceWrapper-sc-14mok7p-2 JKBnr\">\n                USD $9345.00\n               </div>\n               <div class=\"Supply__SupplyWrapper-mkne17-0 dAQHKH\">\n                Only 8 listings\n               </div>\n              </div>\n             </div>\n            </a>\n            <a href=\"/listings/p2p/3a0ae6ce-f22e-4d98-b1fe-906f859df983+815bf3d5-300d-4176-bc53-a89681b57811\">\n             <div class=\"Thumbnail__StyledThumbnail-sc-1tojpin-0 kAMKVp\">\n              <div class=\"Image__StyledImageWrapper-jm0vhd-0 cvgQAN MomentThumbnail__StyledImage-sc-1b051xk-0 hcGMXV\">\n               <img alt=\"Tyler Herro\" class=\"Image__StyledImage-jm0vhd-1 crAhYf thumbnail-img\" src=\"https://assets.nbatopshot.com/resize/editions/1_lace_em_up_legendary/815bf3d5-300d-4176-bc53-a89681b57811/play_815bf3d5-300d-4176-bc53-a89681b57811_1_lace_em_up_legendary_capture_Hero_2880_2880_Black.jpg?width=582\"/>\n              </div>\n              <div class=\"TextContainer__StyledTextContainer-qfpzkm-0 xDxPM MomentThumbnail__StyledTextContainer-sc-1b051xk-2 eKGBha\">\n               <h3 class=\"Title__StyledTitle-vk55y-0 kUfGiv MomentThumbnail__StyledTitle-sc-1b051xk-3 cVTCXt\">\n                Tyler Herro\n               </h3>\n               <p class=\"Description__StyledDescription-uunwk3-0 kinrOa MomentThumbnail__StyledDescription-sc-1b051xk-4 bhZKXY\">\n                Jump Shot - Oct 6 2020, Lace 'Em Up (Series 1), MIA\n               </p>\n               <h4 class=\"Subtitle__StyledSubtitle-sc-112br97-0 jNwNYO\">\n                <span class=\"MomentThumbnail__StyledRarityTag-sc-1b051xk-6 dfaslz\">\n                 Legendary\n                </span>\n                <span class=\"MomentThumbnail__StyledScarcityTag-sc-1b051xk-5 lgZZBR\">\n                 #/43\n                 <span class=\"TextBadge__Badge-sc-1dlfp4g-0 jCkBYg\" currentitem=\"false\" data-tip=\"Limited Edition: Count is final\">\n                  LE\n                 </span>\n                 <div class=\"__react_component_tooltip t5e00b292-7487-4bbe-8370-383e318d3cbd place-top type-dark\" data-id=\"tooltip\">\n                  <style>\n                   .t5e00b292-7487-4bbe-8370-383e318d3cbd {\n\t    color: #fff;\n\t    background: #222;\n\t    border: 1px solid transparent;\n  \t}\n\n  \t.t5e00b292-7487-4bbe-8370-383e318d3cbd.place-top {\n        margin-top: -10px;\n    }\n    .t5e00b292-7487-4bbe-8370-383e318d3cbd.place-top::before {\n        border-top: 8px solid transparent;\n    }\n    .t5e00b292-7487-4bbe-8370-383e318d3cbd.place-top::after {\n        border-left: 8px solid transparent;\n        border-right: 8px solid transparent;\n        bottom: -6px;\n        left: 50%;\n        margin-left: -8px;\n        border-top-color: #222;\n        border-top-style: solid;\n        border-top-width: 6px;\n    }\n\n    .t5e00b292-7487-4bbe-8370-383e318d3cbd.place-bottom {\n        margin-top: 10px;\n    }\n    .t5e00b292-7487-4bbe-8370-383e318d3cbd.place-bottom::before {\n        border-bottom: 8px solid transparent;\n    }\n    .t5e00b292-7487-4bbe-8370-383e318d3cbd.place-bottom::after {\n        border-left: 8px solid transparent;\n        border-right: 8px solid transparent;\n        top: -6px;\n        left: 50%;\n        margin-left: -8px;\n        border-bottom-color: #222;\n        border-bottom-style: solid;\n        border-bottom-width: 6px;\n    }\n\n    .t5e00b292-7487-4bbe-8370-383e318d3cbd.place-left {\n        margin-left: -10px;\n    }\n    .t5e00b292-7487-4bbe-8370-383e318d3cbd.place-left::before {\n        border-left: 8px solid transparent;\n    }\n    .t5e00b292-7487-4bbe-8370-383e318d3cbd.place-left::after {\n        border-top: 5px solid transparent;\n        border-bottom: 5px solid transparent;\n        right: -6px;\n        top: 50%;\n        margin-top: -4px;\n        border-left-color: #222;\n        border-left-style: solid;\n        border-left-width: 6px;\n    }\n\n    .t5e00b292-7487-4bbe-8370-383e318d3cbd.place-right {\n        margin-left: 10px;\n    }\n    .t5e00b292-7487-4bbe-8370-383e318d3cbd.place-right::before {\n        border-right: 8px solid transparent;\n    }\n    .t5e00b292-7487-4bbe-8370-383e318d3cbd.place-right::after {\n        border-top: 5px solid transparent;\n        border-bottom: 5px solid transparent;\n        left: -6px;\n        top: 50%;\n        margin-top: -4px;\n        border-right-color: #222;\n        border-right-style: solid;\n        border-right-width: 6px;\n    }\n                  </style>\n                 </div>\n                </span>\n               </h4>\n               <div class=\"Price__Label-sc-14mok7p-0 bSsReF\">\n                Lowest Ask\n               </div>\n               <div class=\"Price__PriceWrapper-sc-14mok7p-2 JKBnr\">\n                USD $16999.00\n               </div>\n               <div class=\"Supply__SupplyWrapper-mkne17-0 dAQHKH\">\n                Only 6 listings\n               </div>\n              </div>\n             </div>\n            </a>\n           </div>\n          </div>\n          <div class=\"FilterWrappersstyles__StyledIndicatorWrapper-sc-1819eu0-6 kaJlcL\">\n           <div class=\"ScrollFetchMore__StyledRoot-sc-4tbzys-0 iApLO\">\n            <div class=\"ScrollFetchMore__Trigger-sc-4tbzys-1 dcIdFu\" data-testid=\"ScrollFetchMore-trigger\">\n            </div>\n           </div>\n          </div>\n         </div>\n        </div>\n       </div>\n      </div>\n     </div>\n    </main>\n    <footer class=\"Footer__StyledFooter-sc-12jxkdl-0 CXhkM\">\n     <div class=\"Footer__StyledContainer-sc-12jxkdl-1 bRLTQL\">\n      <div class=\"Footer__StyledCopyright-sc-12jxkdl-2 hQrEEK\">\n       <p class=\"Footer__StyledParagraph-sc-12jxkdl-5 cNzMtu\">\n        ©\n        <!-- -->\n        2020 Dapper Labs, Inc.\n       </p>\n       <p class=\"Footer__StyledParagraph-sc-12jxkdl-5 cNzMtu\">\n        ©\n        <!-- -->\n        2020 NBA Properties, Inc. All Rights Reserved.\n       </p>\n       <p class=\"Footer__StyledParagraph-sc-12jxkdl-5 cNzMtu\">\n        Officially licensed product of the National Basketball Players Association.\n        <a class=\"Footer__StyledLink-sc-12jxkdl-7 gTuzha\" href=\"http://privacy.nba.com/\">\n         Do Not Sell My Personal Information.\n        </a>\n       </p>\n      </div>\n      <div class=\"Footer__StyledNavLogos-sc-12jxkdl-3 gPEmoH\">\n       <div class=\"Footer__StyledNav-sc-12jxkdl-4 jnEGtQ\">\n        <ul class=\"LinkList__StyledLinkList-sc-177royv-0 eDHOHB Footer__StyledLinkList-sc-12jxkdl-6 lgKIup\">\n         <li class=\"LinkList__StyledLinkListItem-sc-177royv-1 Yhfql\">\n          <a class=\"LinkList__StyledLink-sc-177royv-2 efDGdZ\" href=\"https://discord.com/invite/sRF8Ytc\" rel=\"noopener noreferrer\" target=\"_blank\">\n           Discord\n          </a>\n         </li>\n         <li class=\"LinkList__StyledLinkListItem-sc-177royv-1 Yhfql\">\n          <a class=\"LinkList__StyledLink-sc-177royv-2 efDGdZ\" href=\"https://twitter.com/nba_topshot\" rel=\"noopener noreferrer\" target=\"_blank\">\n           Twitter\n          </a>\n         </li>\n         <li class=\"LinkList__StyledLinkListItem-sc-177royv-1 Yhfql\">\n          <a class=\"LinkList__StyledLink-sc-177royv-2 efDGdZ\" href=\"https://www.instagram.com/nba_topshot/\" rel=\"noopener noreferrer\" target=\"_blank\">\n           Instagram\n          </a>\n         </li>\n         <li class=\"LinkList__StyledLinkListItem-sc-177royv-1 Yhfql\">\n          <a class=\"LinkList__StyledLink-sc-177royv-2 efDGdZ\" href=\"https://blog.nbatopshot.com/\" rel=\"noopener noreferrer\" target=\"_blank\">\n           Blog\n          </a>\n         </li>\n         <li class=\"LinkList__StyledLinkListItem-sc-177royv-1 Yhfql\">\n          <a class=\"LinkList__StyledLink-sc-177royv-2 efDGdZ\" href=\"/press\">\n           Press\n          </a>\n         </li>\n         <li class=\"LinkList__StyledLinkListItem-sc-177royv-1 Yhfql\">\n          <a class=\"LinkList__StyledLink-sc-177royv-2 efDGdZ\" href=\"/terms\">\n           Terms\n          </a>\n         </li>\n         <li class=\"LinkList__StyledLinkListItem-sc-177royv-1 Yhfql\">\n          <a class=\"LinkList__StyledLink-sc-177royv-2 efDGdZ\" href=\"/privacy\">\n           Privacy\n          </a>\n         </li>\n         <li class=\"LinkList__StyledLinkListItem-sc-177royv-1 Yhfql\">\n          <button class=\"LinkList__StyledButton-sc-177royv-3 eMrMoa\" type=\"button\">\n           <a class=\"LinkList__StyledLink-sc-177royv-2 efDGdZ\">\n            Newsletter\n           </a>\n          </button>\n         </li>\n        </ul>\n       </div>\n       <div class=\"Footer__StyledLogos-sc-12jxkdl-8 fgkKPx\">\n        <a href=\"https://nba.com\" rel=\"noopener noreferrer\" target=\"_blank\">\n         <img alt=\"NBA\" class=\"Footer__StyledNBALogo-sc-12jxkdl-9 kdZJAC\" src=\"/static/img/NBA_logo.svg\"/>\n        </a>\n        <a href=\"https://nbpa.com/\" rel=\"noopener noreferrer\" target=\"_blank\">\n         <img alt=\"NBPA\" src=\"/static/img/NBPA_logo.svg\"/>\n        </a>\n       </div>\n      </div>\n     </div>\n    </footer>\n   </div>\n   <div class=\"SocialFeedBar__StyledRoot-sc-1gwea6-0 epYsi\">\n   </div>\n  </div>\n  <script id=\"__NEXT_DATA__\" nonce=\"\" type=\"application/json\">\n   {\"props\":{\"flags\":{\"ballerStatusApiVersion\":\"v1\",\"basicMoments\":false,\"bogdanLandingPage\":false,\"challengePrompt\":false,\"challenges\":\"VISIBLE\",\"codex\":\"VISIBLE\",\"collectionByPrice\":true,\"collectionSearch\":true,\"collectorsDirectory\":false,\"completePurchase\":true,\"creationDateFilter\":false,\"creditModal\":false,\"currencyPriceFilter\":false,\"dapperPay\":false,\"discoverLatestMoments\":false,\"displayCreditsModal\":false,\"dropsMode\":{\"isEnabled\":false,\"packID\":\"\",\"timeDrop\":\"1611261900\",\"timeEnd\":\"1611349200\",\"timeOver\":\"1611349200\",\"timeStart\":\"1611259200\",\"timeTakeover\":\"1611261000\"},\"dynamicUserOGImage\":false,\"enableInThisPackDetails\":false,\"enableNotifications\":false,\"exploreMoments\":false,\"fm\":false,\"forSaleFilter\":true,\"ftuOnboardingModal\":true,\"fuxOnboarding\":\"v1\",\"fuxPanel\":true,\"highTrafficMode\":true,\"internalTest\":false,\"isMarketplaceLandingOn\":true,\"likedShowcasesQuery\":true,\"limitMomentSharing\":true,\"maintenance\":false,\"maintenanceUrl\":\"https://blog.nbatopshot.com/maintenance\",\"marketplace\":\"VISIBLE\",\"marketplaceOwnedCount\":false,\"marketplaceTransactions\":true,\"marqueeBanner\":false,\"modalUrlChange\":false,\"momentAvailability\":false,\"momentShowcaseDropdown\":true,\"p2p\":true,\"p2pDelisting\":true,\"p2pListing\":true,\"p2pPurchasing\":true,\"packListingWarning\":true,\"packOpeningRevealVideo\":true,\"packSummaryV2\":true,\"packTransfers\":false,\"packopening\":true,\"packs\":true,\"packsInCollection\":true,\"pendingTransferMoments\":true,\"purchaseRecaptcha\":true,\"recaptchaThreshold\":2,\"referrals\":true,\"searchPagination\":false,\"serialNumberListingsFilter\":true,\"serialNumberSort\":true,\"serialNumberSortListings\":true,\"seriesFilter\":false,\"setSeriesMax\":2,\"showTxHashLink\":true,\"showcase-video-reel\":true,\"showcaseEditName\":true,\"showcaseLikeButton\":true,\"showcasesLikeBanner\":true,\"socialFeed\":true,\"ssrDisabled\":false,\"tags\":false,\"takeoverBanner\":true,\"teamChallenges\":false,\"tournaments\":false,\"transfers\":true,\"tylerHerroOnboarding\":true,\"tylerHerroPromo\":true,\"userDashboard\":true,\"userDashboardStats\":false,\"usernameEdit\":false,\"v2NavigationMegaNav\":true,\"vendorPurchase\":false,\"vw\":false,\"wb\":true,\"whitelist\":true},\"pageProps\":{},\"apolloState\":{\"ROOT_QUERY\":{\"__typename\":\"Query\",\"getStories\":{\"__ref\":\"Stories:Nnl5rHjatfOGSDrwsf1S\"}},\"Story:1482a47632af8d1de16f0be27de198c5\":{\"id\":\"1482a47632af8d1de16f0be27de198c5\",\"__typename\":\"Story\",\"avatarUrl\":\"https://storage.googleapis.com/dapper-profile-icons/avatar-nba-nuggets.png\",\"imageUrl\":null,\"isPinned\":true,\"nickname\":\"Envyerz\",\"timeStamp\":\"Mon Nov 09 2020 13:12:12 GMT-0800 (Pacific Standard Time)\",\"youtubeVideoCode\":\"zPXsv-d97r0\"},\"Story:b6ddc2f30f1c54c415c707a5949ffe45\":{\"id\":\"b6ddc2f30f1c54c415c707a5949ffe45\",\"__typename\":\"Story\",\"avatarUrl\":\"https://storage.googleapis.com/dapper-profile-icons/avatar-nba-nets.png\",\"imageUrl\":null,\"isPinned\":true,\"nickname\":\"vegasfinds777\",\"timeStamp\":\"Fri Oct 09 2020 13:39:40 GMT-0700 (Pacific Daylight Time)\",\"youtubeVideoCode\":\"VulsRaqLVWM\"},\"Story:2c2dbab2ae4d750666c8922e88f91de2\":{\"id\":\"2c2dbab2ae4d750666c8922e88f91de2\",\"__typename\":\"Story\",\"avatarUrl\":\"https://storage.googleapis.com/dapper-profile-icons/avatar-nba-jazz.png\",\"imageUrl\":null,\"isPinned\":true,\"nickname\":\"gyrosean\",\"timeStamp\":\"Tue Oct 06 2020 08:46:24 GMT-0700 (Pacific Daylight Time)\",\"youtubeVideoCode\":\"T29PwzTs9P4\"},\"Story:00547e98e96d0e7fb30e3382bb3f17ec\":{\"id\":\"00547e98e96d0e7fb30e3382bb3f17ec\",\"__typename\":\"Story\",\"avatarUrl\":null,\"imageUrl\":null,\"isPinned\":null,\"nickname\":\"D Money Bags #2797\",\"timeStamp\":\"Mon Oct 19 2020 19:49:14 GMT-0700 (Pacific Daylight Time)\",\"youtubeVideoCode\":\"UJCoSdCxh6A\"},\"Story:dc634ce3c270800f3bcd00e7467b75e9\":{\"id\":\"dc634ce3c270800f3bcd00e7467b75e9\",\"__typename\":\"Story\",\"avatarUrl\":\"https://storage.googleapis.com/dapper-profile-icons/avatar-default.png\",\"imageUrl\":null,\"isPinned\":null,\"nickname\":\"cryptoed\",\"timeStamp\":\"Mon Oct 19 2020 19:00:00 GMT-0700 (Pacific Daylight Time)\",\"youtubeVideoCode\":\"j2mNnK8q4WA\"},\"Story:bd89b951537faaef63197259511bf8a7\":{\"id\":\"bd89b951537faaef63197259511bf8a7\",\"__typename\":\"Story\",\"avatarUrl\":\"https://storage.googleapis.com/dapper-profile-icons/avatar-nba-lakers.png\",\"imageUrl\":null,\"isPinned\":null,\"nickname\":\"alanfalcon\",\"timeStamp\":\"Thu Oct 08 2020 08:05:12 GMT-0700 (Pacific Daylight Time)\",\"youtubeVideoCode\":\"pH7qH_qT9WE?t=4064\"},\"Story:326a5a2300e998a75b10d2357e97d3c5\":{\"id\":\"326a5a2300e998a75b10d2357e97d3c5\",\"__typename\":\"Story\",\"avatarUrl\":null,\"imageUrl\":null,\"isPinned\":null,\"nickname\":\"NBATopShotOfficial\",\"timeStamp\":\"Mon Oct 05 2020 11:21:41 GMT-0700 (Pacific Daylight Time)\",\"youtubeVideoCode\":\"UbZqC88GMa4\"},\"Story:79d1e8e578c26b58483805fba405a236\":{\"id\":\"79d1e8e578c26b58483805fba405a236\",\"__typename\":\"Story\",\"avatarUrl\":\"https://storage.googleapis.com/dapper-profile-icons/avatar-nba-kings.png\",\"imageUrl\":null,\"isPinned\":null,\"nickname\":\"SQUARExBEAR\",\"timeStamp\":\"Fri Oct 02 2020 00:20:14 GMT-0700 (Pacific Daylight Time)\",\"youtubeVideoCode\":\"3dbQgbQLIDc\"},\"Story:3b8749b1fbc56bdb4e47a23c906c17d9\":{\"id\":\"3b8749b1fbc56bdb4e47a23c906c17d9\",\"__typename\":\"Story\",\"avatarUrl\":\"https://storage.googleapis.com/dapper-profile-icons/avatar-nba-magic.png\",\"imageUrl\":null,\"isPinned\":null,\"nickname\":\"ortier\",\"timeStamp\":\"Thu Oct 01 2020 20:09:02 GMT-0700 (Pacific Daylight Time)\",\"youtubeVideoCode\":\"F9CD9ug8o0E\"},\"Story:1724beb2b9fbda00862f78d4d71a89d3\":{\"id\":\"1724beb2b9fbda00862f78d4d71a89d3\",\"__typename\":\"Story\",\"avatarUrl\":null,\"imageUrl\":null,\"isPinned\":null,\"nickname\":\"techintel_github_io\",\"timeStamp\":\"Sat Aug 01 2020 03:03:42 GMT-0700 (Pacific Daylight Time)\",\"youtubeVideoCode\":\"3m6n3DLEdVg\"},\"Stories:Nnl5rHjatfOGSDrwsf1S\":{\"id\":\"Nnl5rHjatfOGSDrwsf1S\",\"__typename\":\"Stories\",\"formLink\":\"https://forms.gle/zTLxnuJvST32Pfns7\",\"stories\":[{\"__ref\":\"Story:1482a47632af8d1de16f0be27de198c5\"},{\"__ref\":\"Story:b6ddc2f30f1c54c415c707a5949ffe45\"},{\"__ref\":\"Story:2c2dbab2ae4d750666c8922e88f91de2\"},{\"__ref\":\"Story:00547e98e96d0e7fb30e3382bb3f17ec\"},{\"__ref\":\"Story:dc634ce3c270800f3bcd00e7467b75e9\"},{\"__ref\":\"Story:bd89b951537faaef63197259511bf8a7\"},{\"__ref\":\"Story:326a5a2300e998a75b10d2357e97d3c5\"},{\"__ref\":\"Story:79d1e8e578c26b58483805fba405a236\"},{\"__ref\":\"Story:3b8749b1fbc56bdb4e47a23c906c17d9\"},{\"__ref\":\"Story:1724beb2b9fbda00862f78d4d71a89d3\"}]}},\"apolloClient\":null},\"page\":\"/search\",\"query\":{\"byPlayers\":\"1629639\",\"orderBy\":\"PRICE_USD_ASC\"},\"buildId\":\"QMA7FBoItevoCCHDv6YYw\",\"isFallback\":false,\"customServer\":true,\"gip\":true,\"appGip\":true,\"head\":[[\"title\",{\"children\":\"NBA Top Shot\"}],[\"meta\",{\"charSet\":\"utf-8\"}],[\"meta\",{\"name\":\"viewport\",\"content\":\"width=device-width, height=device-height, initial-scale=1, maximum-scale=1\"}],[\"meta\",{\"name\":\"description\",\"content\":\"Witness history. Own the plays.\"}],[\"meta\",{\"name\":\"author\",\"content\":\"Dapper Labs\"}],[\"meta\",{\"name\":\"twitter:card\",\"content\":\"summary_large_image\"}],[\"meta\",{\"name\":\"twitter:site\",\"content\":\"@nba_topshot\"}],[\"meta\",{\"name\":\"twitter:title\",\"content\":\"NBA Top Shot\"}],[\"meta\",{\"name\":\"twitter:description\",\"content\":\"Witness history. Own the plays.\"}],[\"meta\",{\"name\":\"twitter:image\",\"content\":\"https://www.nbatopshot.com/static/img/og/og.png\"}],[\"meta\",{\"name\":\"twitter:url\",\"content\":\"https://www.nbatopshot.com\"}],[\"meta\",{\"property\":\"og:type\",\"content\":\"website\"}],[\"meta\",{\"property\":\"og:site_name\",\"content\":\"NBA Top Shot\"}],[\"meta\",{\"property\":\"og:title\",\"content\":\"NBA Top Shot\"}],[\"meta\",{\"property\":\"og:description\",\"content\":\"Witness history. Own the plays.\"}],[\"meta\",{\"property\":\"og:image\",\"content\":\"https://www.nbatopshot.com/static/img/og/og.png\"}],[\"meta\",{\"property\":\"og:url\",\"content\":\"https://www.nbatopshot.com\"}],[\"link\",{\"rel\":\"icon\",\"type\":\"image/x-icon\",\"href\":\"/static/favicon/favicon-512.png\"}]],\"flags\":{\"ballerStatusApiVersion\":\"v1\",\"basicMoments\":false,\"bogdanLandingPage\":false,\"challengePrompt\":false,\"challenges\":\"VISIBLE\",\"codex\":\"VISIBLE\",\"collectionByPrice\":true,\"collectionSearch\":true,\"collectorsDirectory\":false,\"completePurchase\":true,\"creationDateFilter\":false,\"creditModal\":false,\"currencyPriceFilter\":false,\"dapperPay\":false,\"discoverLatestMoments\":false,\"displayCreditsModal\":false,\"dropsMode\":{\"isEnabled\":false,\"packID\":\"\",\"timeDrop\":\"1611261900\",\"timeEnd\":\"1611349200\",\"timeOver\":\"1611349200\",\"timeStart\":\"1611259200\",\"timeTakeover\":\"1611261000\"},\"dynamicUserOGImage\":false,\"enableInThisPackDetails\":false,\"enableNotifications\":false,\"exploreMoments\":false,\"fm\":false,\"forSaleFilter\":true,\"ftuOnboardingModal\":true,\"fuxOnboarding\":\"v1\",\"fuxPanel\":true,\"highTrafficMode\":true,\"internalTest\":false,\"isMarketplaceLandingOn\":true,\"likedShowcasesQuery\":true,\"limitMomentSharing\":true,\"maintenance\":false,\"maintenanceUrl\":\"https://blog.nbatopshot.com/maintenance\",\"marketplace\":\"VISIBLE\",\"marketplaceOwnedCount\":false,\"marketplaceTransactions\":true,\"marqueeBanner\":false,\"modalUrlChange\":false,\"momentAvailability\":false,\"momentShowcaseDropdown\":true,\"p2p\":true,\"p2pDelisting\":true,\"p2pListing\":true,\"p2pPurchasing\":true,\"packListingWarning\":true,\"packOpeningRevealVideo\":true,\"packSummaryV2\":true,\"packTransfers\":false,\"packopening\":true,\"packs\":true,\"packsInCollection\":true,\"pendingTransferMoments\":true,\"purchaseRecaptcha\":true,\"recaptchaThreshold\":2,\"referrals\":true,\"searchPagination\":false,\"serialNumberListingsFilter\":true,\"serialNumberSort\":true,\"serialNumberSortListings\":true,\"seriesFilter\":false,\"setSeriesMax\":2,\"showTxHashLink\":true,\"showcase-video-reel\":true,\"showcaseEditName\":true,\"showcaseLikeButton\":true,\"showcasesLikeBanner\":true,\"socialFeed\":true,\"ssrDisabled\":false,\"tags\":false,\"takeoverBanner\":true,\"teamChallenges\":false,\"tournaments\":false,\"transfers\":true,\"tylerHerroOnboarding\":true,\"tylerHerroPromo\":true,\"userDashboard\":true,\"userDashboardStats\":false,\"usernameEdit\":false,\"v2NavigationMegaNav\":true,\"vendorPurchase\":false,\"vw\":false,\"wb\":true,\"whitelist\":true}}\n  </script>\n  <script nomodule=\"\" nonce=\"\" src=\"/_next/static/chunks/polyfills-fb6ed31ce80350abb527.js\">\n  </script>\n  <script async=\"\" nonce=\"\" src=\"/_next/static/chunks/main-64ae14dcb145f2a8b02b.js\">\n  </script>\n  <script async=\"\" nonce=\"\" src=\"/_next/static/chunks/webpack-eb080e3f091731f228fb.js\">\n  </script>\n  <script async=\"\" nonce=\"\" src=\"/_next/static/chunks/framework.97915487cae95562760b.js\">\n  </script>\n  <script async=\"\" nonce=\"\" src=\"/_next/static/chunks/29107295.3e17352634c11dfb6d28.js\">\n  </script>\n  <script async=\"\" nonce=\"\" src=\"/_next/static/chunks/f3dea186.7c49fde2135f5f7d937c.js\">\n  </script>\n  <script async=\"\" nonce=\"\" src=\"/_next/static/chunks/commons.8f5a4837313ea1b3478a.js\">\n  </script>\n  <script async=\"\" nonce=\"\" src=\"/_next/static/chunks/cbccbe6aa414c85f3a50889410af35ded28be753.85580ecc867f74b9dee2.js\">\n  </script>\n  <script async=\"\" nonce=\"\" src=\"/_next/static/chunks/2c6532c2b3918873a3bd6f9b0931ce5329183e5c.85c6f6f1ebc3934fea2a.js\">\n  </script>\n  <script async=\"\" nonce=\"\" src=\"/_next/static/chunks/4883b34b9b77d71a21afa62602617bf343fb6b7f.9326ceccf011a800dca0.js\">\n  </script>\n  <script async=\"\" nonce=\"\" src=\"/_next/static/chunks/d06cbe7ce66b9e26a375e1013514d08b77f52cb5.75e339dd8d2b338664aa.js\">\n  </script>\n  <script async=\"\" nonce=\"\" src=\"/_next/static/chunks/211e8954697f675c6e61a85353afb049219f20b0.b6a16dbf0dfc83650142.js\">\n  </script>\n  <script async=\"\" nonce=\"\" src=\"/_next/static/chunks/b2311494993356396e1f198f5fadccdef46b095e.a2d7538a26a62ec123ca.js\">\n  </script>\n  <script async=\"\" nonce=\"\" src=\"/_next/static/chunks/a7b8d6ac1b7ef0ff900fed2e8e1ba6617e94f362.3a387e8c7c0f882abee3.js\">\n  </script>\n  <script async=\"\" nonce=\"\" src=\"/_next/static/chunks/f00b2ca459b98fd78ac2a5c8300116cb45001763.cbe83efe48f9f3b7e297.js\">\n  </script>\n  <script async=\"\" nonce=\"\" src=\"/_next/static/chunks/6a2c4839d98b08eead35a85ef58615edf2bcfacd.cfbe981f363fb64170bc.js\">\n  </script>\n  <script async=\"\" nonce=\"\" src=\"/_next/static/chunks/7aba98322cbf543ae02eacf0972efe4e2a6d3d4d.1a7861ca4b2e4c889b5d.js\">\n  </script>\n  <script async=\"\" nonce=\"\" src=\"/_next/static/chunks/9d744c0e74b7f9addc7419d5976cc1e93bc7b4b3.402df5901eebdafb78ad.js\">\n  </script>\n  <script async=\"\" nonce=\"\" src=\"/_next/static/chunks/1b6a77284df148b8be9a9fedcf8ed46b843f2dc5.b32c840fa6138b1c8833.js\">\n  </script>\n  <script async=\"\" nonce=\"\" src=\"/_next/static/chunks/abe333547d5da1f4759776346a0593f8224d2ef2.5b1d4adfc5775c21799c.js\">\n  </script>\n  <script async=\"\" nonce=\"\" src=\"/_next/static/chunks/7ae94277d3bc6583ce5a198d93caa68b2eee519f.f4544617970bdf4de5eb.js\">\n  </script>\n  <script async=\"\" nonce=\"\" src=\"/_next/static/chunks/6043d905c3e41ad7a6773a5d6f8e96db7749ab19.34336536ce6e7afc0feb.js\">\n  </script>\n  <script async=\"\" nonce=\"\" src=\"/_next/static/chunks/1e0aabacd55857173d48c4fccbed69370b1d62d4.aeb4d51f7f2f1eb6aa8d.js\">\n  </script>\n  <script async=\"\" nonce=\"\" src=\"/_next/static/chunks/3ea589255f13a955e4502ced08c2d0d88ed942ce.4ca54a194ddebbe0f9fb.js\">\n  </script>\n  <script async=\"\" nonce=\"\" src=\"/_next/static/chunks/48d2a85b208f65ee126c15e4914f23115b30faa0.f4cf9880ae530bb7d3ed.js\">\n  </script>\n  <script async=\"\" nonce=\"\" src=\"/_next/static/chunks/ac44ec0a2fafc47b0842d13579c31cd8b4ad1184.c3c2df25ad232847df52.js\">\n  </script>\n  <script async=\"\" nonce=\"\" src=\"/_next/static/chunks/459b853d5d190ffba0cbe416f14d3dd6d5ab4af2.96edc85094fa4237ed0d.js\">\n  </script>\n  <script async=\"\" nonce=\"\" src=\"/_next/static/chunks/pages/_app-2f0eabfde96a9dab1026.js\">\n  </script>\n  <script async=\"\" nonce=\"\" src=\"/_next/static/chunks/4cb30731e043795c63cc111612dcf8ff0bbabf42.279299c6bef841dd1231.js\">\n  </script>\n  <script async=\"\" nonce=\"\" src=\"/_next/static/chunks/501ef6b21fed5f1b346fa49c0492b188c1b5690f.b9246862ae3ce604af69.js\">\n  </script>\n  <script async=\"\" nonce=\"\" src=\"/_next/static/chunks/pages/search-01b1a0450b8b7bfcfe41.js\">\n  </script>\n  <script async=\"\" nonce=\"\" src=\"/_next/static/QMA7FBoItevoCCHDv6YYw/_buildManifest.js\">\n  </script>\n  <script async=\"\" nonce=\"\" src=\"/_next/static/QMA7FBoItevoCCHDv6YYw/_ssgManifest.js\">\n  </script>\n  <script nonce=\"\" type=\"text/javascript\">\n   var _sift = window._sift = window._sift || [];\n_sift.push(['_setAccount', '94dff23a6a']);\n_sift.push(['_setUserId', '']);\n_sift.push(['_trackPageview']);\n\n(function() {\nfunction ls() {\n  var e = document.createElement('script');\n  e.src = 'https://cdn.sift.com/s.js';\n  document.body.appendChild(e);\n}\nif (window.attachEvent) {\n  window.attachEvent('onload', ls);\n} else {\n  window.addEventListener('load', ls, false);\n}\n})();\n  </script>\n  <script async=\"\" nonce=\"\" src=\"https://cdn.onesignal.com/sdks/OneSignalSDK.js\" type=\"text/javascript\">\n  </script>\n  <div class=\"ReactModalPortal\">\n  </div>\n  <div class=\"ReactModalPortal\">\n  </div>\n  <div>\n   <div class=\"grecaptcha-badge\" data-style=\"bottomright\" style=\"width: 256px; height: 60px; display: block; transition: right 0.3s ease 0s; position: fixed; bottom: 14px; right: -186px; box-shadow: gray 0px 0px 5px; border-radius: 2px; overflow: hidden;\">\n    <div class=\"grecaptcha-logo\">\n     <iframe frameborder=\"0\" height=\"60\" name=\"a-t4ypsnda2y3b\" role=\"presentation\" sandbox=\"allow-forms allow-popups allow-same-origin allow-scripts allow-top-navigation allow-modals allow-popups-to-escape-sandbox\" scrolling=\"no\" src=\"https://www.google.com/recaptcha/api2/anchor?ar=1&amp;k=6LdMpd4ZAAAAAI82S4bb-R8hIdTJERTWBHz3bqas&amp;co=aHR0cHM6Ly93d3cubmJhdG9wc2hvdC5jb206NDQz&amp;hl=fr&amp;v=2Mfykwl2mlvyQZQ3PEgoH710&amp;size=invisible&amp;cb=pio930x7dta2\" width=\"256\">\n     </iframe>\n    </div>\n    <div class=\"grecaptcha-error\">\n    </div>\n    <textarea class=\"g-recaptcha-response\" id=\"g-recaptcha-response-100000\" name=\"g-recaptcha-response\" style=\"width: 250px; height: 40px; border: 1px solid rgb(193, 193, 193); margin: 10px 25px; padding: 0px; resize: none; display: none;\"></textarea>\n   </div>\n   <iframe style=\"display: none;\">\n   </iframe>\n  </div>\n  <script id=\"\" type=\"text/javascript\">\n   !function(b,e,f,g,a,c,d){b.fbq||(a=b.fbq=function(){a.callMethod?a.callMethod.apply(a,arguments):a.queue.push(arguments)},b._fbq||(b._fbq=a),a.push=a,a.loaded=!0,a.version=\"2.0\",a.queue=[],c=e.createElement(f),c.async=!0,c.src=g,d=e.getElementsByTagName(f)[0],d.parentNode.insertBefore(c,d))}(window,document,\"script\",\"https://connect.facebook.net/en_US/fbevents.js\");fbq(\"init\",\"734566633667278\");fbq(\"track\",\"PageView\");\n  </script>\n  <noscript>\n   <img height=\"1\" src=\"https://www.facebook.com/tr?id=734566633667278&amp;ev=PageView&amp;noscript=1\" style=\"display:none\" width=\"1\"/>\n  </noscript>\n  <script id=\"\" type=\"text/javascript\">\n   OneSignal.push(function(){OneSignal.getUserId().then(function(a){mixpanel.people.set(\"$onesignal_user_id\",a)})});\n  </script>\n  <iframe aria-hidden=\"true\" id=\"intercom-frame\" style=\"position: absolute !important; opacity: 0 !important; width: 1px !important; height: 1px !important; top: 0 !important; left: 0 !important; border: none !important; display: block !important; z-index: -1 !important; pointer-events: none;\" tabindex=\"-1\" title=\"Intercom\">\n  </iframe>\n  <script src=\"https://cdn.sift.com/s.js\">\n  </script>\n  <div class=\"intercom-namespace\" id=\"intercom-container\">\n   <style>\n    html.intercom-mobile-messenger-active,html.intercom-mobile-messenger-active > body,html.intercom-modal-open,#intercom-container-body{overflow:hidden !important;}html.intercom-mobile-messenger-active,html.intercom-mobile-messenger-active > body{position:static !important;}html.intercom-mobile-messenger-active > body{height:0 !important;margin:0 !important;}iframe#intercom-frame{position:absolute !important;opacity:0 !important;width:1px !important;height:1px !important;top:0 !important;left:0 !important;border:none !important;display:block !important;z-index:-1 !important;}\n   </style>\n   <div aria-live=\"polite\" class=\"intercom-app\">\n    <iframe allowfullscreen=\"\" class=\"intercom-5v81bx e1c099050\" data-intercom-frame=\"true\" name=\"intercom-banner-frame\" title=\"Intercom live chat banner\">\n    </iframe>\n    <div id=\"intercom-modal-container\">\n    </div>\n   </div>\n  </div>\n  <div id=\"intercom-css-container\">\n   <style data-emotion=\"intercom-global\">\n   </style>\n   <style data-emotion=\"intercom\">\n   </style>\n  </div>\n </body>\n</html>\n"
     ]
    }
   ],
   "source": [
    "print(BeautifulSoup(driver.page_source, \"html.parser\").prettify())"
   ]
  },
  {
   "cell_type": "code",
   "execution_count": 141,
   "metadata": {},
   "outputs": [],
   "source": [
    "buffer = listings\n",
    "for i in range(len(listings)):\n",
    "    #listings.iloc['var'][i] = listings.iloc['var'][i] - buffer.iloc['var'][i]\n",
    "    listings.at[i, 'var'] = listings.iloc[i]['var'] - buffer.iloc[i]['var']"
   ]
  },
  {
   "cell_type": "code",
   "execution_count": 47,
   "metadata": {},
   "outputs": [
    {
     "output_type": "execute_result",
     "data": {
      "text/plain": [
       "4"
      ]
     },
     "metadata": {},
     "execution_count": 47
    }
   ],
   "source": [
    "len(listings.drop(columns=['lowest', 'var']).columns)"
   ]
  },
  {
   "cell_type": "code",
   "execution_count": 33,
   "metadata": {},
   "outputs": [
    {
     "output_type": "stream",
     "name": "stdout",
     "text": [
      "                                              \n0  Derrick Jones Jr.  240  Block  Cool Cats  2\n"
     ]
    }
   ],
   "source": [
    "listings = listings.rename(columns={'player':'','lowest':'','move':'','set':'','serie':''})\n",
    "print(listings.iloc[0:1,:])"
   ]
  },
  {
   "cell_type": "code",
   "execution_count": 38,
   "metadata": {},
   "outputs": [
    {
     "output_type": "stream",
     "name": "stdout",
     "text": [
      "                                              \n0  Derrick Jones Jr.  240  Block  Cool Cats  2\n"
     ]
    }
   ],
   "source": [
    "print(listings.iloc[0:1,:].to_string())"
   ]
  },
  {
   "cell_type": "code",
   "execution_count": 30,
   "metadata": {},
   "outputs": [
    {
     "output_type": "stream",
     "name": "stdout",
     "text": [
      "a\na\na\na\na\n"
     ]
    }
   ],
   "source": [
    "for a in listings:\n",
    "    print('a')"
   ]
  },
  {
   "cell_type": "code",
   "execution_count": 119,
   "metadata": {},
   "outputs": [
    {
     "output_type": "stream",
     "name": "stdout",
     "text": [
      "LeBron James                   \n206                            \n3 Pointer                      \nBase Set                       \n2                              \nrow: LeBron James                   206                            3 Pointer                      Base Set                       2                              \nLeBron James                   \n345                            \nDunk                           \nBase Set                       \n2                              \nrow: LeBron James                   345                            Dunk                           Base Set                       2                              \nLeBron James                   \n1150                           \nDunk                           \nBase Set                       \n1                              \nrow: LeBron James                   1150                           Dunk                           Base Set                       1                              \nLeBron James                   \n4850                           \nDunk                           \nWestern Conference Finals      \n1                              \nrow: LeBron James                   4850                           Dunk                           Western Conference Finals      1                              \nLeBron James                   \n5454                           \nDunk                           \nThe Finals                     \n1                              \nrow: LeBron James                   5454                           Dunk                           The Finals                     1                              \nLeBron James                   \n6399                           \nBlock                          \nSo Fresh                       \n1                              \nrow: LeBron James                   6399                           Block                          So Fresh                       1                              \nLeBron James                   \n6400                           \nBlock                          \nBase Set                       \n1                              \nrow: LeBron James                   6400                           Block                          Base Set                       1                              \nLeBron James                   \n7059                           \nDunk                           \nBase Set                       \n1                              \nrow: LeBron James                   7059                           Dunk                           Base Set                       1                              \nLeBron James                   \n7380                           \nDunk                           \nConference Semifinals          \n1                              \nrow: LeBron James                   7380                           Dunk                           Conference Semifinals          1                              \nLeBron James                   \n8190                           \nDunk                           \nBase Set                       \n1                              \nrow: LeBron James                   8190                           Dunk                           Base Set                       1                              \nLeBron James                   \n8999                           \nDunk                           \nFirst Round                    \n1                              \nrow: LeBron James                   8999                           Dunk                           First Round                    1                              \nLeBron James                   \n13499                          \nDunk                           \nThrowdowns                     \n1                              \nrow: LeBron James                   13499                          Dunk                           Throwdowns                     1                              \n"
     ]
    }
   ],
   "source": [
    "count = 0\n",
    "listingsarr = []\n",
    "\n",
    "for i in range(len(listings)):\n",
    "    row = str()\n",
    "    count2 = 0\n",
    "    for u in listings:\n",
    "\n",
    "        cell = str(listings.iloc[count][u])\n",
    "        while len(cell) <= 30:\n",
    "            cell= cell + ' '\n",
    "        count2 += 1\n",
    "        print(cell)\n",
    "        row = row + cell\n",
    "    \n",
    "    listingsarr.append(row)\n",
    "    print('row:', row)\n",
    "\n",
    "    count += 1"
   ]
  },
  {
   "cell_type": "code",
   "execution_count": 79,
   "metadata": {},
   "outputs": [
    {
     "output_type": "execute_result",
     "data": {
      "text/plain": [
       "206"
      ]
     },
     "metadata": {},
     "execution_count": 79
    }
   ],
   "source": [
    "listings.iloc[0]['lowest']"
   ]
  },
  {
   "cell_type": "code",
   "execution_count": 81,
   "metadata": {},
   "outputs": [
    {
     "output_type": "stream",
     "name": "stdout",
     "text": [
      "player\nlowest\nmove\nset\nserie\n"
     ]
    }
   ],
   "source": [
    "for u in listings:\n",
    "    print(u)"
   ]
  },
  {
   "cell_type": "code",
   "execution_count": 100,
   "metadata": {},
   "outputs": [
    {
     "output_type": "error",
     "ename": "IndexError",
     "evalue": "list assignment index out of range",
     "traceback": [
      "\u001b[1;31m---------------------------------------------------------------------------\u001b[0m",
      "\u001b[1;31mIndexError\u001b[0m                                Traceback (most recent call last)",
      "\u001b[1;32m<ipython-input-100-4a5b03006576>\u001b[0m in \u001b[0;36m<module>\u001b[1;34m\u001b[0m\n\u001b[0;32m      1\u001b[0m \u001b[0ma\u001b[0m \u001b[1;33m=\u001b[0m \u001b[1;33m[\u001b[0m\u001b[1;36m0\u001b[0m\u001b[1;33m,\u001b[0m \u001b[1;36m1\u001b[0m\u001b[1;33m]\u001b[0m\u001b[1;33m\u001b[0m\u001b[1;33m\u001b[0m\u001b[0m\n\u001b[1;32m----> 2\u001b[1;33m \u001b[0ma\u001b[0m\u001b[1;33m[\u001b[0m\u001b[1;36m2\u001b[0m\u001b[1;33m]\u001b[0m \u001b[1;33m=\u001b[0m \u001b[1;36m1\u001b[0m\u001b[1;33m\u001b[0m\u001b[1;33m\u001b[0m\u001b[0m\n\u001b[0m",
      "\u001b[1;31mIndexError\u001b[0m: list assignment index out of range"
     ]
    }
   ],
   "source": [
    "a = [0, 1]\n",
    "a[2] = 1"
   ]
  },
  {
   "cell_type": "code",
   "execution_count": 120,
   "metadata": {},
   "outputs": [
    {
     "output_type": "execute_result",
     "data": {
      "text/plain": [
       "['LeBron James                   206                            3 Pointer                      Base Set                       2                              ',\n",
       " 'LeBron James                   345                            Dunk                           Base Set                       2                              ',\n",
       " 'LeBron James                   1150                           Dunk                           Base Set                       1                              ',\n",
       " 'LeBron James                   4850                           Dunk                           Western Conference Finals      1                              ',\n",
       " 'LeBron James                   5454                           Dunk                           The Finals                     1                              ',\n",
       " 'LeBron James                   6399                           Block                          So Fresh                       1                              ',\n",
       " 'LeBron James                   6400                           Block                          Base Set                       1                              ',\n",
       " 'LeBron James                   7059                           Dunk                           Base Set                       1                              ',\n",
       " 'LeBron James                   7380                           Dunk                           Conference Semifinals          1                              ',\n",
       " 'LeBron James                   8190                           Dunk                           Base Set                       1                              ',\n",
       " 'LeBron James                   8999                           Dunk                           First Round                    1                              ',\n",
       " 'LeBron James                   13499                          Dunk                           Throwdowns                     1                              ']"
      ]
     },
     "metadata": {},
     "execution_count": 120
    }
   ],
   "source": [
    "listingsarr"
   ]
  },
  {
   "cell_type": "code",
   "execution_count": 122,
   "metadata": {},
   "outputs": [
    {
     "output_type": "execute_result",
     "data": {
      "text/plain": [
       "12"
      ]
     },
     "metadata": {},
     "execution_count": 122
    }
   ],
   "source": [
    "len(listings)"
   ]
  },
  {
   "cell_type": "code",
   "execution_count": 144,
   "metadata": {},
   "outputs": [],
   "source": [
    "a = 'abcdef'"
   ]
  },
  {
   "cell_type": "code",
   "execution_count": 151,
   "metadata": {},
   "outputs": [
    {
     "output_type": "execute_result",
     "data": {
      "text/plain": [
       "'abc..'"
      ]
     },
     "metadata": {},
     "execution_count": 151
    }
   ],
   "source": [
    "a[0:3] + '..'"
   ]
  },
  {
   "cell_type": "code",
   "execution_count": 51,
   "metadata": {},
   "outputs": [
    {
     "output_type": "error",
     "ename": "RuntimeError",
     "evalue": "Cannot close a running event loop",
     "traceback": [
      "\u001b[1;31m---------------------------------------------------------------------------\u001b[0m",
      "\u001b[1;31mRuntimeError\u001b[0m                              Traceback (most recent call last)",
      "\u001b[1;32m~\\anaconda3\\envs\\nbascraper\\lib\\site-packages\\discord\\client.py\u001b[0m in \u001b[0;36mrun\u001b[1;34m(self, *args, **kwargs)\u001b[0m\n\u001b[0;32m    707\u001b[0m         \u001b[1;32mtry\u001b[0m\u001b[1;33m:\u001b[0m\u001b[1;33m\u001b[0m\u001b[1;33m\u001b[0m\u001b[0m\n\u001b[1;32m--> 708\u001b[1;33m             \u001b[0mloop\u001b[0m\u001b[1;33m.\u001b[0m\u001b[0mrun_forever\u001b[0m\u001b[1;33m(\u001b[0m\u001b[1;33m)\u001b[0m\u001b[1;33m\u001b[0m\u001b[1;33m\u001b[0m\u001b[0m\n\u001b[0m\u001b[0;32m    709\u001b[0m         \u001b[1;32mexcept\u001b[0m \u001b[0mKeyboardInterrupt\u001b[0m\u001b[1;33m:\u001b[0m\u001b[1;33m\u001b[0m\u001b[1;33m\u001b[0m\u001b[0m\n",
      "\u001b[1;32m~\\anaconda3\\envs\\nbascraper\\lib\\asyncio\\base_events.py\u001b[0m in \u001b[0;36mrun_forever\u001b[1;34m(self)\u001b[0m\n\u001b[0;32m    559\u001b[0m         \u001b[0mself\u001b[0m\u001b[1;33m.\u001b[0m\u001b[0m_check_closed\u001b[0m\u001b[1;33m(\u001b[0m\u001b[1;33m)\u001b[0m\u001b[1;33m\u001b[0m\u001b[1;33m\u001b[0m\u001b[0m\n\u001b[1;32m--> 560\u001b[1;33m         \u001b[0mself\u001b[0m\u001b[1;33m.\u001b[0m\u001b[0m_check_running\u001b[0m\u001b[1;33m(\u001b[0m\u001b[1;33m)\u001b[0m\u001b[1;33m\u001b[0m\u001b[1;33m\u001b[0m\u001b[0m\n\u001b[0m\u001b[0;32m    561\u001b[0m         \u001b[0mself\u001b[0m\u001b[1;33m.\u001b[0m\u001b[0m_set_coroutine_origin_tracking\u001b[0m\u001b[1;33m(\u001b[0m\u001b[0mself\u001b[0m\u001b[1;33m.\u001b[0m\u001b[0m_debug\u001b[0m\u001b[1;33m)\u001b[0m\u001b[1;33m\u001b[0m\u001b[1;33m\u001b[0m\u001b[0m\n",
      "\u001b[1;32m~\\anaconda3\\envs\\nbascraper\\lib\\asyncio\\base_events.py\u001b[0m in \u001b[0;36m_check_running\u001b[1;34m(self)\u001b[0m\n\u001b[0;32m    551\u001b[0m         \u001b[1;32mif\u001b[0m \u001b[0mself\u001b[0m\u001b[1;33m.\u001b[0m\u001b[0mis_running\u001b[0m\u001b[1;33m(\u001b[0m\u001b[1;33m)\u001b[0m\u001b[1;33m:\u001b[0m\u001b[1;33m\u001b[0m\u001b[1;33m\u001b[0m\u001b[0m\n\u001b[1;32m--> 552\u001b[1;33m             \u001b[1;32mraise\u001b[0m \u001b[0mRuntimeError\u001b[0m\u001b[1;33m(\u001b[0m\u001b[1;34m'This event loop is already running'\u001b[0m\u001b[1;33m)\u001b[0m\u001b[1;33m\u001b[0m\u001b[1;33m\u001b[0m\u001b[0m\n\u001b[0m\u001b[0;32m    553\u001b[0m         \u001b[1;32mif\u001b[0m \u001b[0mevents\u001b[0m\u001b[1;33m.\u001b[0m\u001b[0m_get_running_loop\u001b[0m\u001b[1;33m(\u001b[0m\u001b[1;33m)\u001b[0m \u001b[1;32mis\u001b[0m \u001b[1;32mnot\u001b[0m \u001b[1;32mNone\u001b[0m\u001b[1;33m:\u001b[0m\u001b[1;33m\u001b[0m\u001b[1;33m\u001b[0m\u001b[0m\n",
      "\u001b[1;31mRuntimeError\u001b[0m: This event loop is already running",
      "\nDuring handling of the above exception, another exception occurred:\n",
      "\u001b[1;31mRuntimeError\u001b[0m                              Traceback (most recent call last)",
      "\u001b[1;32m~\\anaconda3\\envs\\nbascraper\\lib\\site-packages\\discord\\client.py\u001b[0m in \u001b[0;36m_cleanup_loop\u001b[1;34m(loop)\u001b[0m\n\u001b[0;32m     89\u001b[0m     \u001b[1;32mtry\u001b[0m\u001b[1;33m:\u001b[0m\u001b[1;33m\u001b[0m\u001b[1;33m\u001b[0m\u001b[0m\n\u001b[1;32m---> 90\u001b[1;33m         \u001b[0m_cancel_tasks\u001b[0m\u001b[1;33m(\u001b[0m\u001b[0mloop\u001b[0m\u001b[1;33m)\u001b[0m\u001b[1;33m\u001b[0m\u001b[1;33m\u001b[0m\u001b[0m\n\u001b[0m\u001b[0;32m     91\u001b[0m         \u001b[1;32mif\u001b[0m \u001b[0msys\u001b[0m\u001b[1;33m.\u001b[0m\u001b[0mversion_info\u001b[0m \u001b[1;33m>=\u001b[0m \u001b[1;33m(\u001b[0m\u001b[1;36m3\u001b[0m\u001b[1;33m,\u001b[0m \u001b[1;36m6\u001b[0m\u001b[1;33m)\u001b[0m\u001b[1;33m:\u001b[0m\u001b[1;33m\u001b[0m\u001b[1;33m\u001b[0m\u001b[0m\n",
      "\u001b[1;32m~\\anaconda3\\envs\\nbascraper\\lib\\site-packages\\discord\\client.py\u001b[0m in \u001b[0;36m_cancel_tasks\u001b[1;34m(loop)\u001b[0m\n\u001b[0;32m     74\u001b[0m \u001b[1;33m\u001b[0m\u001b[0m\n\u001b[1;32m---> 75\u001b[1;33m     \u001b[0mloop\u001b[0m\u001b[1;33m.\u001b[0m\u001b[0mrun_until_complete\u001b[0m\u001b[1;33m(\u001b[0m\u001b[0masyncio\u001b[0m\u001b[1;33m.\u001b[0m\u001b[0mgather\u001b[0m\u001b[1;33m(\u001b[0m\u001b[1;33m*\u001b[0m\u001b[0mtasks\u001b[0m\u001b[1;33m,\u001b[0m \u001b[0mreturn_exceptions\u001b[0m\u001b[1;33m=\u001b[0m\u001b[1;32mTrue\u001b[0m\u001b[1;33m)\u001b[0m\u001b[1;33m)\u001b[0m\u001b[1;33m\u001b[0m\u001b[1;33m\u001b[0m\u001b[0m\n\u001b[0m\u001b[0;32m     76\u001b[0m     \u001b[0mlog\u001b[0m\u001b[1;33m.\u001b[0m\u001b[0minfo\u001b[0m\u001b[1;33m(\u001b[0m\u001b[1;34m'All tasks finished cancelling.'\u001b[0m\u001b[1;33m)\u001b[0m\u001b[1;33m\u001b[0m\u001b[1;33m\u001b[0m\u001b[0m\n",
      "\u001b[1;32m~\\anaconda3\\envs\\nbascraper\\lib\\asyncio\\base_events.py\u001b[0m in \u001b[0;36mrun_until_complete\u001b[1;34m(self, future)\u001b[0m\n\u001b[0;32m    591\u001b[0m         \u001b[0mself\u001b[0m\u001b[1;33m.\u001b[0m\u001b[0m_check_closed\u001b[0m\u001b[1;33m(\u001b[0m\u001b[1;33m)\u001b[0m\u001b[1;33m\u001b[0m\u001b[1;33m\u001b[0m\u001b[0m\n\u001b[1;32m--> 592\u001b[1;33m         \u001b[0mself\u001b[0m\u001b[1;33m.\u001b[0m\u001b[0m_check_running\u001b[0m\u001b[1;33m(\u001b[0m\u001b[1;33m)\u001b[0m\u001b[1;33m\u001b[0m\u001b[1;33m\u001b[0m\u001b[0m\n\u001b[0m\u001b[0;32m    593\u001b[0m \u001b[1;33m\u001b[0m\u001b[0m\n",
      "\u001b[1;32m~\\anaconda3\\envs\\nbascraper\\lib\\asyncio\\base_events.py\u001b[0m in \u001b[0;36m_check_running\u001b[1;34m(self)\u001b[0m\n\u001b[0;32m    551\u001b[0m         \u001b[1;32mif\u001b[0m \u001b[0mself\u001b[0m\u001b[1;33m.\u001b[0m\u001b[0mis_running\u001b[0m\u001b[1;33m(\u001b[0m\u001b[1;33m)\u001b[0m\u001b[1;33m:\u001b[0m\u001b[1;33m\u001b[0m\u001b[1;33m\u001b[0m\u001b[0m\n\u001b[1;32m--> 552\u001b[1;33m             \u001b[1;32mraise\u001b[0m \u001b[0mRuntimeError\u001b[0m\u001b[1;33m(\u001b[0m\u001b[1;34m'This event loop is already running'\u001b[0m\u001b[1;33m)\u001b[0m\u001b[1;33m\u001b[0m\u001b[1;33m\u001b[0m\u001b[0m\n\u001b[0m\u001b[0;32m    553\u001b[0m         \u001b[1;32mif\u001b[0m \u001b[0mevents\u001b[0m\u001b[1;33m.\u001b[0m\u001b[0m_get_running_loop\u001b[0m\u001b[1;33m(\u001b[0m\u001b[1;33m)\u001b[0m \u001b[1;32mis\u001b[0m \u001b[1;32mnot\u001b[0m \u001b[1;32mNone\u001b[0m\u001b[1;33m:\u001b[0m\u001b[1;33m\u001b[0m\u001b[1;33m\u001b[0m\u001b[0m\n",
      "\u001b[1;31mRuntimeError\u001b[0m: This event loop is already running",
      "\nDuring handling of the above exception, another exception occurred:\n",
      "\u001b[1;31mRuntimeError\u001b[0m                              Traceback (most recent call last)",
      "\u001b[1;32m<ipython-input-51-b359197d18c6>\u001b[0m in \u001b[0;36m<module>\u001b[1;34m\u001b[0m\n\u001b[0;32m     12\u001b[0m \u001b[1;33m\u001b[0m\u001b[0m\n\u001b[0;32m     13\u001b[0m \u001b[1;33m\u001b[0m\u001b[0m\n\u001b[1;32m---> 14\u001b[1;33m \u001b[0mclient\u001b[0m\u001b[1;33m.\u001b[0m\u001b[0mrun\u001b[0m\u001b[1;33m(\u001b[0m\u001b[0mtoken\u001b[0m\u001b[1;33m)\u001b[0m\u001b[1;33m\u001b[0m\u001b[1;33m\u001b[0m\u001b[0m\n\u001b[0m",
      "\u001b[1;32m~\\anaconda3\\envs\\nbascraper\\lib\\site-packages\\discord\\client.py\u001b[0m in \u001b[0;36mrun\u001b[1;34m(self, *args, **kwargs)\u001b[0m\n\u001b[0;32m    712\u001b[0m             \u001b[0mfuture\u001b[0m\u001b[1;33m.\u001b[0m\u001b[0mremove_done_callback\u001b[0m\u001b[1;33m(\u001b[0m\u001b[0mstop_loop_on_completion\u001b[0m\u001b[1;33m)\u001b[0m\u001b[1;33m\u001b[0m\u001b[1;33m\u001b[0m\u001b[0m\n\u001b[0;32m    713\u001b[0m             \u001b[0mlog\u001b[0m\u001b[1;33m.\u001b[0m\u001b[0minfo\u001b[0m\u001b[1;33m(\u001b[0m\u001b[1;34m'Cleaning up tasks.'\u001b[0m\u001b[1;33m)\u001b[0m\u001b[1;33m\u001b[0m\u001b[1;33m\u001b[0m\u001b[0m\n\u001b[1;32m--> 714\u001b[1;33m             \u001b[0m_cleanup_loop\u001b[0m\u001b[1;33m(\u001b[0m\u001b[0mloop\u001b[0m\u001b[1;33m)\u001b[0m\u001b[1;33m\u001b[0m\u001b[1;33m\u001b[0m\u001b[0m\n\u001b[0m\u001b[0;32m    715\u001b[0m \u001b[1;33m\u001b[0m\u001b[0m\n\u001b[0;32m    716\u001b[0m         \u001b[1;32mif\u001b[0m \u001b[1;32mnot\u001b[0m \u001b[0mfuture\u001b[0m\u001b[1;33m.\u001b[0m\u001b[0mcancelled\u001b[0m\u001b[1;33m(\u001b[0m\u001b[1;33m)\u001b[0m\u001b[1;33m:\u001b[0m\u001b[1;33m\u001b[0m\u001b[1;33m\u001b[0m\u001b[0m\n",
      "\u001b[1;32m~\\anaconda3\\envs\\nbascraper\\lib\\site-packages\\discord\\client.py\u001b[0m in \u001b[0;36m_cleanup_loop\u001b[1;34m(loop)\u001b[0m\n\u001b[0;32m     93\u001b[0m     \u001b[1;32mfinally\u001b[0m\u001b[1;33m:\u001b[0m\u001b[1;33m\u001b[0m\u001b[1;33m\u001b[0m\u001b[0m\n\u001b[0;32m     94\u001b[0m         \u001b[0mlog\u001b[0m\u001b[1;33m.\u001b[0m\u001b[0minfo\u001b[0m\u001b[1;33m(\u001b[0m\u001b[1;34m'Closing the event loop.'\u001b[0m\u001b[1;33m)\u001b[0m\u001b[1;33m\u001b[0m\u001b[1;33m\u001b[0m\u001b[0m\n\u001b[1;32m---> 95\u001b[1;33m         \u001b[0mloop\u001b[0m\u001b[1;33m.\u001b[0m\u001b[0mclose\u001b[0m\u001b[1;33m(\u001b[0m\u001b[1;33m)\u001b[0m\u001b[1;33m\u001b[0m\u001b[1;33m\u001b[0m\u001b[0m\n\u001b[0m\u001b[0;32m     96\u001b[0m \u001b[1;33m\u001b[0m\u001b[0m\n\u001b[0;32m     97\u001b[0m \u001b[1;32mclass\u001b[0m \u001b[0m_ClientEventTask\u001b[0m\u001b[1;33m(\u001b[0m\u001b[0masyncio\u001b[0m\u001b[1;33m.\u001b[0m\u001b[0mTask\u001b[0m\u001b[1;33m)\u001b[0m\u001b[1;33m:\u001b[0m\u001b[1;33m\u001b[0m\u001b[1;33m\u001b[0m\u001b[0m\n",
      "\u001b[1;32m~\\anaconda3\\envs\\nbascraper\\lib\\asyncio\\selector_events.py\u001b[0m in \u001b[0;36mclose\u001b[1;34m(self)\u001b[0m\n\u001b[0;32m     87\u001b[0m     \u001b[1;32mdef\u001b[0m \u001b[0mclose\u001b[0m\u001b[1;33m(\u001b[0m\u001b[0mself\u001b[0m\u001b[1;33m)\u001b[0m\u001b[1;33m:\u001b[0m\u001b[1;33m\u001b[0m\u001b[1;33m\u001b[0m\u001b[0m\n\u001b[0;32m     88\u001b[0m         \u001b[1;32mif\u001b[0m \u001b[0mself\u001b[0m\u001b[1;33m.\u001b[0m\u001b[0mis_running\u001b[0m\u001b[1;33m(\u001b[0m\u001b[1;33m)\u001b[0m\u001b[1;33m:\u001b[0m\u001b[1;33m\u001b[0m\u001b[1;33m\u001b[0m\u001b[0m\n\u001b[1;32m---> 89\u001b[1;33m             \u001b[1;32mraise\u001b[0m \u001b[0mRuntimeError\u001b[0m\u001b[1;33m(\u001b[0m\u001b[1;34m\"Cannot close a running event loop\"\u001b[0m\u001b[1;33m)\u001b[0m\u001b[1;33m\u001b[0m\u001b[1;33m\u001b[0m\u001b[0m\n\u001b[0m\u001b[0;32m     90\u001b[0m         \u001b[1;32mif\u001b[0m \u001b[0mself\u001b[0m\u001b[1;33m.\u001b[0m\u001b[0mis_closed\u001b[0m\u001b[1;33m(\u001b[0m\u001b[1;33m)\u001b[0m\u001b[1;33m:\u001b[0m\u001b[1;33m\u001b[0m\u001b[1;33m\u001b[0m\u001b[0m\n\u001b[0;32m     91\u001b[0m             \u001b[1;32mreturn\u001b[0m\u001b[1;33m\u001b[0m\u001b[1;33m\u001b[0m\u001b[0m\n",
      "\u001b[1;31mRuntimeError\u001b[0m: Cannot close a running event loop"
     ]
    }
   ],
   "source": [
    "load_dotenv()\n",
    "\n",
    "\n",
    "token=os.getenv('ODA2MjM0MzYwMzgyNDg4NjA2.YBmeQg.WsLm3CDyddwcbu6CaLZ3pR0cabg')\n",
    "\n",
    "client = discord.Client()\n",
    "\n",
    "\n",
    "@client.event\n",
    "async def on_ready():\n",
    "    print(f'{client.user} has connected to Discord!')\n",
    "\n",
    "\n",
    "client.run(token)"
   ]
  },
  {
   "cell_type": "code",
   "execution_count": null,
   "metadata": {},
   "outputs": [],
   "source": []
  }
 ]
}